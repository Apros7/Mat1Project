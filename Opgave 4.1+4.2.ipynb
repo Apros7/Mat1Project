{
 "cells": [
  {
   "cell_type": "markdown",
   "metadata": {},
   "source": [
    "# Opgave 4"
   ]
  },
  {
   "cell_type": "code",
   "execution_count": 2,
   "metadata": {},
   "outputs": [],
   "source": [
    "from sympy import *\n",
    "init_printing()"
   ]
  },
  {
   "cell_type": "markdown",
   "metadata": {},
   "source": [
    "## 4.1"
   ]
  },
  {
   "cell_type": "code",
   "execution_count": 3,
   "metadata": {},
   "outputs": [],
   "source": [
    "# ks og Fs0 er proportionale med temperaturen, hvor n er omvendt proportional med temperaturen.\n"
   ]
  },
  {
   "cell_type": "markdown",
   "metadata": {},
   "source": [
    "## 4.2"
   ]
  },
  {
   "cell_type": "code",
   "execution_count": 4,
   "metadata": {},
   "outputs": [
    {
     "data": {
      "text/latex": [
       "$\\displaystyle \\left[\\begin{matrix}0.451069120559788 & 0\\\\0 & 1.41\\end{matrix}\\right]$"
      ],
      "text/plain": [
       "⎡0.451069120559788   0  ⎤\n",
       "⎢                       ⎥\n",
       "⎣        0          1.41⎦"
      ]
     },
     "metadata": {},
     "output_type": "display_data"
    },
    {
     "data": {
      "text/latex": [
       "$\\displaystyle \\left[\\begin{matrix}1937.86021946248 & -1610.0\\\\-1610.0 & 2330.0\\end{matrix}\\right]$"
      ],
      "text/plain": [
       "⎡1937.86021946248  -1610.0⎤\n",
       "⎢                         ⎥\n",
       "⎣    -1610.0       2330.0 ⎦"
      ]
     },
     "metadata": {},
     "output_type": "display_data"
    },
    {
     "data": {
      "text/latex": [
       "$\\displaystyle \\left[\\begin{matrix}y_{1}{\\left(t \\right)}\\\\y_{2}{\\left(t \\right)}\\end{matrix}\\right]$"
      ],
      "text/plain": [
       "⎡y₁(t)⎤\n",
       "⎢     ⎥\n",
       "⎣y₂(t)⎦"
      ]
     },
     "metadata": {},
     "output_type": "display_data"
    },
    {
     "data": {
      "text/latex": [
       "$\\displaystyle \\left[\\begin{matrix}5.62737642585551 \\cdot 10^{-6} w^{2} \\sin{\\left(7 t w \\right)}\\\\0\\end{matrix}\\right]$"
      ],
      "text/plain": [
       "⎡                     2           ⎤\n",
       "⎢5.62737642585551e-6⋅w ⋅sin(7⋅t⋅w)⎥\n",
       "⎢                                 ⎥\n",
       "⎣                0                ⎦"
      ]
     },
     "metadata": {},
     "output_type": "display_data"
    },
    {
     "data": {
      "image/png": "[encoded data removed]",
      "text/latex": [
       "$\\displaystyle z_{2} \\left(- 206.666666666667 F_{s0} - 2 k_{s} \\left(i n + 1\\right)\\right)$"
      ],
      "text/plain": [
       "z₂⋅(-206.666666666667⋅Fₛ₀ - 2⋅kₛ⋅(ⅈ⋅n + 1))"
      ]
     },
     "metadata": {},
     "output_type": "display_data"
    },
    {
     "data": {
      "text/latex": [
       "$\\displaystyle \\left[\\begin{matrix}1937.86021946248 y_{1}{\\left(t \\right)} - 1610.0 y_{2}{\\left(t \\right)} + 0.451069120559788 \\frac{d^{2}}{d t^{2}} y_{1}{\\left(t \\right)}\\\\- \\left(- 2 \\cdot \\left(1 - \\operatorname{im}{\\left(n\\right)}\\right) \\operatorname{re}{\\left(k_{s}\\right)} - 206.666666666667 \\operatorname{re}{\\left(F_{s0}\\right)} + 2 \\operatorname{re}{\\left(n\\right)} \\operatorname{im}{\\left(k_{s}\\right)}\\right) \\operatorname{re}{\\left(z_{2}\\right)} + \\left(- 2 \\cdot \\left(1 - \\operatorname{im}{\\left(n\\right)}\\right) \\operatorname{im}{\\left(k_{s}\\right)} - 2 \\operatorname{re}{\\left(k_{s}\\right)} \\operatorname{re}{\\left(n\\right)} - 206.666666666667 \\operatorname{im}{\\left(F_{s0}\\right)}\\right) \\operatorname{im}{\\left(z_{2}\\right)} - 1610.0 y_{1}{\\left(t \\right)} + 2330.0 y_{2}{\\left(t \\right)} + 1.41 \\frac{d^{2}}{d t^{2}} y_{2}{\\left(t \\right)}\\end{matrix}\\right] = \\left[\\begin{matrix}5.62737642585551 \\cdot 10^{-6} w^{2} \\sin{\\left(7 t w \\right)}\\\\0\\end{matrix}\\right]$"
      ],
      "text/plain": [
       "⎡                                                                             \n",
       "⎢                                                                             \n",
       "⎢                                                                  1937.860219\n",
       "⎢                                                                             \n",
       "⎢                                                                             \n",
       "⎢                                                                             \n",
       "⎢                                                                             \n",
       "⎢                                                                             \n",
       "⎢-(-2⋅(1 - im(n))⋅re(kₛ) - 206.666666666667⋅re(Fₛ₀) + 2⋅re(n)⋅im(kₛ))⋅re(z₂) +\n",
       "⎢                                                                             \n",
       "⎣                                                                             \n",
       "\n",
       "                                                 2                            \n",
       "                                                d                             \n",
       "46248⋅y₁(t) - 1610.0⋅y₂(t) + 0.451069120559788⋅───(y₁(t))                     \n",
       "                                                 2                            \n",
       "                                               dt                             \n",
       "                                                                              \n",
       "                                                                              \n",
       "                                                                              \n",
       " (-2⋅(1 - im(n))⋅im(kₛ) - 2⋅re(kₛ)⋅re(n) - 206.666666666667⋅im(Fₛ₀))⋅im(z₂) - \n",
       "                                                                              \n",
       "                                                                              \n",
       "\n",
       "                                             ⎤                                \n",
       "                                             ⎥                                \n",
       "                                             ⎥                                \n",
       "                                             ⎥   ⎡                     2      \n",
       "                                             ⎥   ⎢5.62737642585551e-6⋅w ⋅sin(7\n",
       "                                             ⎥ = ⎢                            \n",
       "                                     2       ⎥   ⎣                0           \n",
       "                                    d        ⎥                                \n",
       "1610.0⋅y₁(t) + 2330.0⋅y₂(t) + 1.41⋅───(y₂(t))⎥                                \n",
       "                                     2       ⎥                                \n",
       "                                   dt        ⎦                                \n",
       "\n",
       "      \n",
       "      \n",
       "      \n",
       "     ⎤\n",
       "⋅t⋅w)⎥\n",
       "     ⎥\n",
       "     ⎦\n",
       "      \n",
       "      \n",
       "      \n",
       "      "
      ]
     },
     "metadata": {},
     "output_type": "display_data"
    }
   ],
   "source": [
    "l_2, I_t, k_2, k_c, k_1, l_g, m_r, g, k_b2, y1, y2, t, u, w, phi_u, m_2 = symbols('l_2, I_t, k_2, k_c, k_1, l_g, m_r, g, k_b2, y1, y2, t, u, w, phi_u m_2')\n",
    "l_1 = symbols('l_1')\n",
    "y1 = Function('y1')(t)\n",
    "y2 = Function('y2')(t)\n",
    "\n",
    "M = Matrix([[l_2**(-2) * I_t,0],[0,m_2]])\n",
    "K = Matrix([[k_2 + l_2**(-2) *(k_c + l_1**2 * k_1 - l_g*m_r*g), -k_2], [-k_2, k_2 + k_b2]])\n",
    "y = Matrix([y1, y2])\n",
    "f = Matrix([l_2**(-1) * u*w**2 * sin(w*t*+phi_u),0])\n",
    "\n",
    "M = M.subs({g:9.81,k_c:0.7,u:1.48*10**(-6),phi_u:7,m_r:0.616,m_2:1.410,I_t:31.2*10**(-3),l_g:0.188,l_2:0.263,k_b2:0.72*10**(3),k_1:1.66*10**3,k_2:1.61*10**3})\n",
    "K = K.subs({g:9.81,k_c:0.7,u:1.48*10**(-6),phi_u:7,m_r:0.616,m_2:1.410,I_t:31.2*10**(-3),l_g:0.188,l_2:0.263,k_b2:0.72*10**(3),k_1:1.66*10**3,k_2:1.61*10**3, l_1:0.118})\n",
    "f = f.subs({g:9.81,k_c:0.7,u:1.48*10**(-6),phi_u:7,m_r:0.616,m_2:1.410,I_t:31.2*10**(-3),l_g:0.188,l_2:0.263,k_b2:0.72*10**(3),k_1:1.66*10**3,k_2:1.61*10**3})\n",
    "\n",
    "display(M,K,y,f)\n",
    "\n",
    "k_s, F_s0, h_p, c_s, n, z_2 = symbols('k_s, F_s0, h_p, c_s, n z_2' )\n",
    "F_z_stjerne = -2*(k_s*(1+n*I)+F_s0/h_p*(1+c_s))*z_2\n",
    "F_z_stjerne = F_z_stjerne.subs({c_s:0.24,h_p:12*10**(-3)})\n",
    "display(F_z_stjerne)\n",
    "\n",
    "F_FHM_stjerne = re(F_z_stjerne)\n",
    "f_FHM = Matrix([0,F_FHM_stjerne])\n",
    "\n",
    "lign13 = Eq(M*y.diff(t,2)+K*y -f_FHM,f)\n",
    "display(lign13)"
   ]
  },
  {
   "cell_type": "code",
   "execution_count": 11,
   "metadata": {},
   "outputs": [
    {
     "data": {
      "text/plain": [
       "'f_tilde:'"
      ]
     },
     "metadata": {},
     "output_type": "display_data"
    },
    {
     "data": {
      "text/latex": [
       "$\\displaystyle \\left[\\begin{matrix}\\frac{5.62737642585551 \\cdot 10^{-6} w^{2} \\sin{\\left(7.0 t w \\right)}}{\\cos{\\left(t w \\right)}}\\\\0\\end{matrix}\\right]$"
      ],
      "text/plain": [
       "⎡                     2             ⎤\n",
       "⎢5.62737642585551e-6⋅w ⋅sin(7.0⋅t⋅w)⎥\n",
       "⎢───────────────────────────────────⎥\n",
       "⎢              cos(t⋅w)             ⎥\n",
       "⎢                                   ⎥\n",
       "⎣                 0                 ⎦"
      ]
     },
     "metadata": {},
     "output_type": "display_data"
    },
    {
     "data": {
      "text/plain": [
       "'K_tilde'"
      ]
     },
     "metadata": {},
     "output_type": "display_data"
    },
    {
     "data": {
      "text/latex": [
       "$\\displaystyle \\left[\\begin{matrix}k_{2} + \\frac{- g l_{g} m_{r} + k_{1} l_{1}^{2} + k_{c}}{l_{2}^{2}} & - k_{2}\\\\- k_{2} & \\left(k_{2} + k_{b2}\\right) \\left(\\frac{F_{s0} \\left(c_{s} + 1\\right)}{h_{p}} + k_{s} \\left(i n + 1\\right)\\right)\\end{matrix}\\right]$"
      ],
      "text/plain": [
       "⎡                      2                                                 ⎤\n",
       "⎢     -g⋅l_g⋅mᵣ + k₁⋅l₁  + k_c                                           ⎥\n",
       "⎢k₂ + ────────────────────────                     -k₂                   ⎥\n",
       "⎢                 2                                                      ⎥\n",
       "⎢               l₂                                                       ⎥\n",
       "⎢                                                                        ⎥\n",
       "⎢                                           ⎛Fₛ₀⋅(cₛ + 1)               ⎞⎥\n",
       "⎢             -k₂               (k₂ + k_b2)⋅⎜──────────── + kₛ⋅(ⅈ⋅n + 1)⎟⎥\n",
       "⎣                                           ⎝     hₚ                    ⎠⎦"
      ]
     },
     "metadata": {},
     "output_type": "display_data"
    }
   ],
   "source": [
    "a,b,w,t,phi = symbols('a,b,w,t,phi')\n",
    "\n",
    "løs = solve(Eq(Matrix([a,b])*cos(w*t), f),[a,b])\n",
    "\n",
    "a = løs[a]\n",
    "b = løs[b]\n",
    "\n",
    "f_tilde = Matrix([a,b])\n",
    "display(\"f_tilde:\",f_tilde)\n",
    "\n",
    "z, K_tilde = symbols('z, K_tilde')\n",
    "\n",
    "\n",
    "k_stjerne = (k_s*(1+n*I)+F_s0/h_p*(1+c_s))\n",
    "\n",
    "K_tilde = Matrix([[k_2 + l_2**(-2) *(k_c + l_1**2 * k_1 - l_g*m_r*g), -k_2], [-k_2, k_stjerne*(k_2 + k_b2)]])\n",
    "display(\"K_tilde\",K_tilde)"
   ]
  },
  {
   "cell_type": "code",
   "execution_count": 12,
   "metadata": {},
   "outputs": [
    {
     "data": {
      "text/plain": [
       "'K_tilde'"
      ]
     },
     "metadata": {},
     "output_type": "display_data"
    },
    {
     "data": {
      "text/latex": [
       "$\\displaystyle \\left[\\begin{matrix}23999.190388758 l_{1}^{2} + 1603.69549248941 & -1610.0\\\\-1610.0 & 194166.666666667 F_{s0} \\left(c_{s} + 1\\right) + 2330.0 k_{s} \\left(i n + 1\\right)\\end{matrix}\\right]$"
      ],
      "text/plain": [
       "⎡                  2                                                          \n",
       "⎢23999.190388758⋅l₁  + 1603.69549248941                        -1610.0        \n",
       "⎢                                                                             \n",
       "⎣               -1610.0                  194166.666666667⋅Fₛ₀⋅(cₛ + 1) + 2330.\n",
       "\n",
       "              ⎤\n",
       "              ⎥\n",
       "              ⎥\n",
       "0⋅kₛ⋅(ⅈ⋅n + 1)⎦"
      ]
     },
     "metadata": {},
     "output_type": "display_data"
    }
   ],
   "source": [
    "mydict = {g:9.81,k_c:0.7,u:1.48*10**(-6),phi_u:7,m_r:0.616,m_2:1.410,I_t:31.2*10**(-3),l_g:0.188,l_2:0.263,k_b2:0.72*10**(3),k_1:1.66*10**3,k_2:1.61*10**3, h_p:12*10**(-3)}\n",
    "\n",
    "K_tilde = K_tilde.subs(mydict)\n",
    "display(\"K_tilde\",K_tilde)"
   ]
  },
  {
   "cell_type": "markdown",
   "metadata": {},
   "source": [
    "## 4.4"
   ]
  },
  {
   "cell_type": "code",
   "execution_count": 13,
   "metadata": {},
   "outputs": [
    {
     "data": {
      "text/latex": [
       "$\\displaystyle \\left( \\left[\\begin{matrix}0.451069120559788 & 0\\\\0 & 1.41\\end{matrix}\\right], \\  \\left[\\begin{matrix}23999.190388758 l_{1}^{2} + 1603.69549248941 & -1610.0\\\\-1610.0 & 194166.666666667 F_{s0} \\left(c_{s} + 1\\right) + 2330.0 k_{s} \\left(i n + 1\\right)\\end{matrix}\\right]\\right)$"
      ],
      "text/plain": [
       "⎛                           ⎡                  2                              \n",
       "⎜⎡0.451069120559788   0  ⎤  ⎢23999.190388758⋅l₁  + 1603.69549248941           \n",
       "⎜⎢                       ⎥, ⎢                                                 \n",
       "⎝⎣        0          1.41⎦  ⎣               -1610.0                  194166.66\n",
       "\n",
       "                                          ⎤⎞\n",
       "             -1610.0                      ⎥⎟\n",
       "                                          ⎥⎟\n",
       "6666667⋅Fₛ₀⋅(cₛ + 1) + 2330.0⋅kₛ⋅(ⅈ⋅n + 1)⎦⎠"
      ]
     },
     "execution_count": 13,
     "metadata": {},
     "output_type": "execute_result"
    }
   ],
   "source": [
    "# Med indsatte værdier\n",
    "\n",
    "M,K_tilde"
   ]
  },
  {
   "cell_type": "code",
   "execution_count": null,
   "metadata": {},
   "outputs": [],
   "source": []
  }
 ],
 "metadata": {
  "kernelspec": {
   "display_name": "Python 3.11.2 64-bit",
   "language": "python",
   "name": "python3"
  },
  "language_info": {
   "codemirror_mode": {
    "name": "ipython",
    "version": 3
   },
   "file_extension": ".py",
   "mimetype": "text/x-python",
   "name": "python",
   "nbconvert_exporter": "python",
   "pygments_lexer": "ipython3",
   "version": "3.11.2"
  },
  "orig_nbformat": 4,
  "vscode": {
   "interpreter": {
    "hash": "b0fa6594d8f4cbf19f97940f81e996739fb7646882a419484c72d19e05852a7e"
   }
  }
 },
 "nbformat": 4,
 "nbformat_minor": 2
}
