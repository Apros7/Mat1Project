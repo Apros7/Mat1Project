{
 "cells": [
  {
   "cell_type": "code",
   "execution_count": 17,
   "metadata": {},
   "outputs": [],
   "source": [
    "from sympy import *\n",
    "from dtumathtools import *\n",
    "#from august import *\n",
    "init_printing()\n",
    "\n",
    "x, y, z, a, b, c = symbols('x y z a b c')\n",
    "k, w = symbols('k w', real=True)\n",
    "f, m, t, delta = symbols('f m t delta', real=True, positive=True)\n",
    "xi = symbols('xi', real=True)\n",
    "k_s = symbols('k_s', real=True, positive=True)"
   ]
  },
  {
   "attachments": {},
   "cell_type": "markdown",
   "metadata": {},
   "source": [
    "https://www.youtube.com/watch?v=FQgG9tPZ-I4&t=2111s\n",
    "https://www.youtube.com/watch?v=cD41LXKSyVU&list=PLOr3fZwA0ZzIIXOFcY5t6Zk1PxhhzTrvX&index=10"
   ]
  },
  {
   "cell_type": "code",
   "execution_count": 18,
   "metadata": {},
   "outputs": [
    {
     "data": {
      "text/latex": [
       "$\\displaystyle \\left( \\left[\\begin{matrix}\\frac{I_{t}}{l_{2}^{2}} & 0\\\\0 & m_{2}\\end{matrix}\\right], \\  \\left[\\begin{matrix}k_{2} + \\frac{- g l_{g} m_{r} + k_{1} l_{1}^{2} + k_{c}}{l_{2}^{2}} & - k_{2}\\\\- k_{2} & k_{2} + k_{b2}\\end{matrix}\\right], \\  \\left[\\begin{matrix}\\frac{\\omega^{2} u \\sin{\\left(\\omega t + \\phi_{u} \\right)}}{l_{2}}\\\\0\\end{matrix}\\right], \\  \\left[\\begin{matrix}y_{1}{\\left(t \\right)}\\\\y_{2}{\\left(t \\right)}\\end{matrix}\\right], \\  \\left[\\begin{matrix}z_{1}{\\left(t \\right)}\\\\z_{2}{\\left(t \\right)}\\end{matrix}\\right]\\right)$"
      ],
      "text/plain": [
       "⎛⎡ Iₜ    ⎤  ⎡                      2                   ⎤  ⎡ 2                ⎤\n",
       "⎜⎢───  0 ⎥  ⎢     -g⋅l_g⋅mᵣ + k₁⋅l₁  + k_c             ⎥  ⎢ω ⋅u⋅sin(ω⋅t + φᵤ)⎥\n",
       "⎜⎢  2    ⎥  ⎢k₂ + ────────────────────────      -k₂    ⎥  ⎢──────────────────⎥\n",
       "⎜⎢l₂     ⎥, ⎢                 2                        ⎥, ⎢        l₂        ⎥\n",
       "⎜⎢       ⎥  ⎢               l₂                         ⎥  ⎢                  ⎥\n",
       "⎜⎣ 0   m₂⎦  ⎢                                          ⎥  ⎣        0         ⎦\n",
       "⎝           ⎣             -k₂               k₂ + k_{b2}⎦                      \n",
       "\n",
       "                  ⎞\n",
       "                  ⎟\n",
       "  ⎡y₁(t)⎤  ⎡z₁(t)⎤⎟\n",
       ", ⎢     ⎥, ⎢     ⎥⎟\n",
       "  ⎣y₂(t)⎦  ⎣z₂(t)⎦⎟\n",
       "                  ⎟\n",
       "                  ⎠"
      ]
     },
     "execution_count": 18,
     "metadata": {},
     "output_type": "execute_result"
    }
   ],
   "source": [
    "k1, k2, kc, kb2, l1, l2, lg, it = symbols('k_1 k_2 k_c k_{b2} l_1 l_2 l_g I_t', real=True, positive=True)\n",
    "m2, mr, g, u, w, t, phiu = symbols('m_2 m_r g u omega t phi_u', real=True, positive=True)\n",
    "ffhm = symbols('F_FHM')\n",
    "kk3 = l2**(-2)*(kc+l1**2*k1-lg*mr*g)\n",
    "\n",
    "y1, y2 = Function('y_1')(t), Function('y_2')(t)\n",
    "z1, z2 = Function('z_1')(t), Function('z_2')(t)\n",
    "\n",
    "M = Matrix([[l2**(-2)*it, 0], [0, m2]])\n",
    "K = Matrix([[k2+l2**(-2)*(kc+l1**2*k1-lg*mr*g), -k2], [-k2, k2+kb2]])\n",
    "ft = Matrix([l2**(-1)*u*w**2*sin(w*t+phiu), 0])\n",
    "yt = Matrix([y1, y2])\n",
    "zt = Matrix([z1, z2])\n",
    "\n",
    "M, K, ft, yt, zt"
   ]
  },
  {
   "cell_type": "code",
   "execution_count": 19,
   "metadata": {},
   "outputs": [
    {
     "data": {
      "text/latex": [
       "$\\displaystyle \\left( \\left[\\begin{matrix}\\frac{\\omega^{2} u \\sin{\\left(\\omega t + \\phi_{u} \\right)}}{l_{2} \\cos{\\left(\\omega t \\right)}}\\\\0\\end{matrix}\\right], \\  \\left[\\begin{matrix}k_{2} + k_{3} & - k_{2}\\\\- k_{2} & k_{2} + k_{4} + k_{5}\\end{matrix}\\right]\\right)$"
      ],
      "text/plain": [
       "⎛⎡ 2                ⎤                         ⎞\n",
       "⎜⎢ω ⋅u⋅sin(ω⋅t + φᵤ)⎥                         ⎟\n",
       "⎜⎢──────────────────⎥  ⎡k₂ + k₃      -k₂     ⎤⎟\n",
       "⎜⎢   l₂⋅cos(ω⋅t)    ⎥, ⎢                     ⎥⎟\n",
       "⎜⎢                  ⎥  ⎣  -k₂    k₂ + k₄ + k₅⎦⎟\n",
       "⎝⎣        0         ⎦                         ⎠"
      ]
     },
     "execution_count": 19,
     "metadata": {},
     "output_type": "execute_result"
    }
   ],
   "source": [
    "k2, k3, k4, k5 = symbols('k_2 k_3 k_4 k_5')\n",
    "f1, f2 = symbols('f_1 f_2', real=True)\n",
    "K = Matrix([[k2 + k3, -k2], [-k2, k2 + k4]])\n",
    "FFHM = Matrix([[0, 0],[0, k5]])\n",
    "f = Matrix([f1, f2])\n",
    "f_re = re(f * (cos(w*t) + I*sin(w*t)))\n",
    "f_sol = solve([Eq(f_re[0], ft[0]), Eq(f_re[1], ft[1])], [f1, f2])\n",
    "f_til = f.subs(f_sol)\n",
    "K_til = K + FFHM\n",
    "f_til, K_til"
   ]
  },
  {
   "cell_type": "code",
   "execution_count": 20,
   "metadata": {},
   "outputs": [
    {
     "data": {
      "image/png": "[encoded data removed]",
      "text/latex": [
       "$\\displaystyle \\frac{\\omega^{2} u \\sin{\\left(\\phi_{u} \\right)}}{l_{2}} + \\frac{\\omega^{2} u \\sin{\\left(\\omega t \\right)} \\cos{\\left(\\phi_{u} \\right)}}{l_{2} \\cos{\\left(\\omega t \\right)}}$"
      ],
      "text/plain": [
       " 2              2                   \n",
       "ω ⋅u⋅sin(φᵤ)   ω ⋅u⋅sin(ω⋅t)⋅cos(φᵤ)\n",
       "──────────── + ─────────────────────\n",
       "     l₂             l₂⋅cos(ω⋅t)     "
      ]
     },
     "execution_count": 20,
     "metadata": {},
     "output_type": "execute_result"
    }
   ],
   "source": [
    "f_til[0].expand(trig=True)"
   ]
  },
  {
   "cell_type": "code",
   "execution_count": 21,
   "metadata": {},
   "outputs": [
    {
     "data": {
      "text/latex": [
       "$\\displaystyle \\left[\\begin{matrix}\\frac{I_{t}}{l_{2}^{2}} & 0\\\\0 & m_{2}\\end{matrix}\\right] \\left[\\begin{matrix}y_{1}{\\left(t \\right)}\\\\y_{2}{\\left(t \\right)}\\end{matrix}\\right] + \\left[\\begin{matrix}k_{2} + k_{3} & - k_{2}\\\\- k_{2} & k_{2} + k_{4} + k_{5}\\end{matrix}\\right] \\left[\\begin{matrix}y_{1}{\\left(t \\right)}\\\\y_{2}{\\left(t \\right)}\\end{matrix}\\right] = \\left[\\begin{matrix}\\frac{\\omega^{2} u \\sin{\\left(\\omega t + \\phi_{u} \\right)}}{l_{2} \\cos{\\left(\\omega t \\right)}}\\\\0\\end{matrix}\\right]$"
      ],
      "text/plain": [
       "⎡ Iₜ    ⎤                                             ⎡ 2                ⎤\n",
       "⎢───  0 ⎥                                             ⎢ω ⋅u⋅sin(ω⋅t + φᵤ)⎥\n",
       "⎢  2    ⎥ ⎡y₁(t)⎤   ⎡k₂ + k₃      -k₂     ⎤ ⎡y₁(t)⎤   ⎢──────────────────⎥\n",
       "⎢l₂     ⎥⋅⎢     ⎥ + ⎢                     ⎥⋅⎢     ⎥ = ⎢   l₂⋅cos(ω⋅t)    ⎥\n",
       "⎢       ⎥ ⎣y₂(t)⎦   ⎣  -k₂    k₂ + k₄ + k₅⎦ ⎣y₂(t)⎦   ⎢                  ⎥\n",
       "⎣ 0   m₂⎦                                             ⎣        0         ⎦"
      ]
     },
     "execution_count": 21,
     "metadata": {},
     "output_type": "execute_result"
    }
   ],
   "source": [
    "diff_eq = Eq(Add(MatMul(M,yt), MatMul(K_til,yt), evaluate=False), f_til)\n",
    "diff_eq"
   ]
  },
  {
   "cell_type": "code",
   "execution_count": 22,
   "metadata": {},
   "outputs": [
    {
     "data": {
      "image/png": "[encoded data removed]",
      "text/latex": [
       "$\\displaystyle \\frac{F_{0s} \\left(c_{s} + 1\\right)}{h_{p}} + k_{s} \\left(i \\eta + 1\\right)$"
      ],
      "text/plain": [
       "F_{0s}⋅(cₛ + 1)               \n",
       "─────────────── + kₛ⋅(ⅈ⋅η + 1)\n",
       "       hₚ                     "
      ]
     },
     "execution_count": 22,
     "metadata": {},
     "output_type": "execute_result"
    }
   ],
   "source": [
    "eta, ks, Fs0, hp, cs = symbols('eta k_s F_{0s} h_p c_s', real=True, positive=True)\n",
    "kk = ks*(1 + eta*I) + Fs0 / hp * (1 + cs)\n",
    "kk"
   ]
  },
  {
   "cell_type": "code",
   "execution_count": 23,
   "metadata": {},
   "outputs": [
    {
     "data": {
      "text/latex": [
       "$\\displaystyle \\left[\\begin{matrix}\\frac{I_{t}}{l_{2}^{2}} & 0\\\\0 & m_{2}\\end{matrix}\\right] \\left[\\begin{matrix}y_{1}{\\left(t \\right)}\\\\y_{2}{\\left(t \\right)}\\end{matrix}\\right] + \\left[\\begin{matrix}k_{2} + \\frac{- g l_{g} m_{r} + k_{1} l_{1}^{2} + k_{c}}{l_{2}^{2}} & - k_{2}\\\\- k_{2} & k_{2} + k_{b2} + 2 \\left(\\frac{F_{0s} \\left(c_{s} + 1\\right)}{h_{p}} + k_{s} \\left(i \\eta + 1\\right)\\right)\\end{matrix}\\right] \\left[\\begin{matrix}y_{1}{\\left(t \\right)}\\\\y_{2}{\\left(t \\right)}\\end{matrix}\\right] = \\left[\\begin{matrix}\\frac{\\omega^{2} u \\sin{\\left(\\omega t + \\phi_{u} \\right)}}{l_{2} \\cos{\\left(\\omega t \\right)}}\\\\0\\end{matrix}\\right]$"
      ],
      "text/plain": [
       "                    ⎡                      2                                  \n",
       "⎡ Iₜ    ⎤           ⎢     -g⋅l_g⋅mᵣ + k₁⋅l₁  + k_c                            \n",
       "⎢───  0 ⎥           ⎢k₂ + ────────────────────────                        -k₂ \n",
       "⎢  2    ⎥ ⎡y₁(t)⎤   ⎢                 2                                       \n",
       "⎢l₂     ⎥⋅⎢     ⎥ + ⎢               l₂                                        \n",
       "⎢       ⎥ ⎣y₂(t)⎦   ⎢                                                         \n",
       "⎣ 0   m₂⎦           ⎢                                               ⎛F_{0s}⋅(c\n",
       "                    ⎢             -k₂               k₂ + k_{b2} + 2⋅⎜─────────\n",
       "                    ⎣                                               ⎝       hₚ\n",
       "\n",
       "                      ⎤                               \n",
       "                      ⎥           ⎡ 2                ⎤\n",
       "                      ⎥           ⎢ω ⋅u⋅sin(ω⋅t + φᵤ)⎥\n",
       "                      ⎥ ⎡y₁(t)⎤   ⎢──────────────────⎥\n",
       "                      ⎥⋅⎢     ⎥ = ⎢   l₂⋅cos(ω⋅t)    ⎥\n",
       "                      ⎥ ⎣y₂(t)⎦   ⎢                  ⎥\n",
       "ₛ + 1)               ⎞⎥           ⎣        0         ⎦\n",
       "────── + kₛ⋅(ⅈ⋅η + 1)⎟⎥                               \n",
       "                     ⎠⎦                               "
      ]
     },
     "execution_count": 23,
     "metadata": {},
     "output_type": "execute_result"
    }
   ],
   "source": [
    "diff_eq.subs({k3: kk3, k4: kb2, k5: Mul(2,kk, evaluate=False)})"
   ]
  },
  {
   "cell_type": "code",
   "execution_count": 24,
   "metadata": {},
   "outputs": [
    {
     "data": {
      "text/latex": [
       "$\\displaystyle \\left( \\left[\\begin{matrix}\\frac{I_{t}}{l_{2}^{2}} & 0\\\\0 & m_{2}\\end{matrix}\\right], \\  \\left[\\begin{matrix}k_{2} + k_{3} & - k_{2}\\\\- k_{2} & k_{2} + k_{4} + k_{5}\\end{matrix}\\right]\\right)$"
      ],
      "text/plain": [
       "⎛⎡ Iₜ    ⎤                         ⎞\n",
       "⎜⎢───  0 ⎥                         ⎟\n",
       "⎜⎢  2    ⎥  ⎡k₂ + k₃      -k₂     ⎤⎟\n",
       "⎜⎢l₂     ⎥, ⎢                     ⎥⎟\n",
       "⎜⎢       ⎥  ⎣  -k₂    k₂ + k₄ + k₅⎦⎟\n",
       "⎝⎣ 0   m₂⎦                         ⎠"
      ]
     },
     "execution_count": 24,
     "metadata": {},
     "output_type": "execute_result"
    }
   ],
   "source": [
    "M, K_til"
   ]
  },
  {
   "cell_type": "code",
   "execution_count": 25,
   "metadata": {},
   "outputs": [
    {
     "data": {
      "text/latex": [
       "$\\displaystyle \\left[\\begin{matrix}- \\lambda - \\frac{l_{2}^{2} \\left(k_{2} + k_{3}\\right)}{I_{t}} & \\frac{k_{2} l_{2}^{2}}{I_{t}}\\\\\\frac{k_{2}}{m_{2}} & - \\lambda - \\frac{k_{2} + k_{4} + k_{5}}{m_{2}}\\end{matrix}\\right]$"
      ],
      "text/plain": [
       "⎡       2                      2      ⎤\n",
       "⎢     l₂ ⋅(k₂ + k₃)       k₂⋅l₂       ⎥\n",
       "⎢-λ - ─────────────       ──────      ⎥\n",
       "⎢           Iₜ              Iₜ        ⎥\n",
       "⎢                                     ⎥\n",
       "⎢        k₂               k₂ + k₄ + k₅⎥\n",
       "⎢        ──          -λ - ────────────⎥\n",
       "⎣        m₂                    m₂     ⎦"
      ]
     },
     "execution_count": 25,
     "metadata": {},
     "output_type": "execute_result"
    }
   ],
   "source": [
    "la = symbols('lambda')\n",
    "A = - M.inv() * K_til\n",
    "AE = A - eye(2) * la\n",
    "AE"
   ]
  },
  {
   "cell_type": "code",
   "execution_count": 26,
   "metadata": {},
   "outputs": [
    {
     "data": {
      "text/latex": [
       "$\\displaystyle \\left[\\begin{matrix}- \\frac{l_{2}^{2} \\left(k_{2} + \\frac{- g l_{g} m_{r} + k_{1} l_{1}^{2} + k_{c}}{l_{2}^{2}}\\right)}{I_{t}} & \\frac{k_{2} l_{2}^{2}}{I_{t}}\\\\\\frac{k_{2}}{m_{2}} & - \\frac{\\frac{2 F_{0s} \\left(c_{s} + 1\\right)}{h_{p}} + k_{2} + 2 k_{s} \\left(i \\eta + 1\\right) + k_{b2}}{m_{2}}\\end{matrix}\\right]$"
      ],
      "text/plain": [
       "⎡     ⎛                      2      ⎞                                         \n",
       "⎢   2 ⎜     -g⋅l_g⋅mᵣ + k₁⋅l₁  + k_c⎟                                         \n",
       "⎢-l₂ ⋅⎜k₂ + ────────────────────────⎟                                         \n",
       "⎢     ⎜                 2           ⎟                               2         \n",
       "⎢     ⎝               l₂            ⎠                          k₂⋅l₂          \n",
       "⎢─────────────────────────────────────                         ──────         \n",
       "⎢                  Iₜ                                            Iₜ           \n",
       "⎢                                                                             \n",
       "⎢                                        ⎛2⋅F_{0s}⋅(cₛ + 1)                   \n",
       "⎢                                       -⎜───────────────── + k₂ + 2⋅kₛ⋅(ⅈ⋅η +\n",
       "⎢                 k₂                     ⎝        hₚ                          \n",
       "⎢                 ──                    ──────────────────────────────────────\n",
       "⎣                 m₂                                             m₂           \n",
       "\n",
       "              ⎤\n",
       "              ⎥\n",
       "              ⎥\n",
       "              ⎥\n",
       "              ⎥\n",
       "              ⎥\n",
       "              ⎥\n",
       "              ⎥\n",
       "            ⎞ ⎥\n",
       " 1) + k_{b2}⎟ ⎥\n",
       "            ⎠ ⎥\n",
       "──────────────⎥\n",
       "              ⎦"
      ]
     },
     "execution_count": 26,
     "metadata": {},
     "output_type": "execute_result"
    }
   ],
   "source": [
    "A_func = A.subs({k3: kk3, k4: kb2, k5: 2*kk})\n",
    "A_func"
   ]
  },
  {
   "attachments": {},
   "cell_type": "markdown",
   "metadata": {},
   "source": [
    "# 4.2 Omskrives til komplekst"
   ]
  },
  {
   "cell_type": "code",
   "execution_count": 27,
   "metadata": {},
   "outputs": [
    {
     "data": {
      "text/latex": [
       "$\\displaystyle \\left( \\left[\\begin{matrix}m_{1} & 0\\\\0 & m_{2}\\end{matrix}\\right], \\  \\left[\\begin{matrix}k_{2} + k_{3} & - k_{2}\\\\- k_{2} & k_{2} + k_{4} + k_{5}\\end{matrix}\\right]\\right)$"
      ],
      "text/plain": [
       "⎛⎡m₁  0 ⎤  ⎡k₂ + k₃      -k₂     ⎤⎞\n",
       "⎜⎢      ⎥, ⎢                     ⎥⎟\n",
       "⎝⎣0   m₂⎦  ⎣  -k₂    k₂ + k₄ + k₅⎦⎠"
      ]
     },
     "execution_count": 27,
     "metadata": {},
     "output_type": "execute_result"
    }
   ],
   "source": [
    "m1_, m2_, la_ = symbols('m_1 m_2 lambda')\n",
    "M = Matrix([[m1_, 0],[0, m2_]])\n",
    "K = Matrix([[k2 + k3, -k2], [-k2, k2 + k4 + k5]])\n",
    "M, K"
   ]
  },
  {
   "cell_type": "code",
   "execution_count": 28,
   "metadata": {},
   "outputs": [
    {
     "data": {
      "text/latex": [
       "$\\displaystyle \\left(\\left[\\begin{matrix}\\lambda m_{1} & 0\\\\0 & \\lambda m_{2}\\end{matrix}\\right] + \\left[\\begin{matrix}k_{2} + k_{3} & - k_{2}\\\\- k_{2} & k_{2} + k_{4} + k_{5}\\end{matrix}\\right]\\right) \\left[\\begin{matrix}v_{1}\\\\v_{2}\\end{matrix}\\right]$"
      ],
      "text/plain": [
       "⎛⎡λ⋅m₁   0  ⎤   ⎡k₂ + k₃      -k₂     ⎤⎞ ⎡v₁⎤\n",
       "⎜⎢          ⎥ + ⎢                     ⎥⎟⋅⎢  ⎥\n",
       "⎝⎣ 0    λ⋅m₂⎦   ⎣  -k₂    k₂ + k₄ + k₅⎦⎠ ⎣v₂⎦"
      ]
     },
     "execution_count": 28,
     "metadata": {},
     "output_type": "execute_result"
    }
   ],
   "source": [
    "v1, v2 = symbols('v_1 v_2')\n",
    "V = Matrix([v1, v2])\n",
    "Mul(MatAdd(la_ * M, K), V, evaluate=False)"
   ]
  },
  {
   "attachments": {},
   "cell_type": "markdown",
   "metadata": {},
   "source": [
    "4.4"
   ]
  },
  {
   "cell_type": "code",
   "execution_count": 42,
   "metadata": {},
   "outputs": [
    {
     "data": {
      "image/png": "[encoded data removed]",
      "text/latex": [
       "$\\displaystyle \\left( \\left\\{ F_{0s} : 5.2, \\  \\eta : 33, \\  k_{s} : 0.83\\right\\}, \\  \\left\\{ F_{0s} : 8, \\  \\eta : 21, \\  k_{s} : 0.995\\right\\}, \\  \\left\\{ F_{0s} : 9.65, \\  \\eta : 10.5, \\  k_{s} : 1.37\\right\\}\\right)$"
      ],
      "text/plain": [
       "({F_{0s}: 5.2, η: 33, kₛ: 0.83}, {F_{0s}: 8, η: 21, kₛ: 0.995}, {F_{0s}: 9.65,\n",
       " η: 10.5, kₛ: 1.37})"
      ]
     },
     "execution_count": 42,
     "metadata": {},
     "output_type": "execute_result"
    }
   ],
   "source": [
    "mydict = {g:9.81,kc:0.7,u:14.8*10**(-6),\n",
    "          phiu:7,mr:0.616,m2:1.410,it:31.2*10**(-3),\n",
    "          lg:0.188,l1:0.118,l2:0.263,\n",
    "          kb2:0.72*10**(3),k1:1.66*10**3,k2:1.61*10**3,\n",
    "          hp:12*10**(-3), cs:0.24}\n",
    "v30 = {ks:0.83, eta:33, Fs0:5.2}\n",
    "v50 = {ks:0.995, eta:21, Fs0:8}\n",
    "v70 = {ks:1.37, eta:10.5, Fs0:9.65}\n",
    "v30, v50, v70"
   ]
  },
  {
   "cell_type": "code",
   "execution_count": 43,
   "metadata": {},
   "outputs": [
    {
     "data": {
      "text/latex": [
       "$\\displaystyle \\left[\\begin{matrix}k_{3} + 1610.0 & -1610.0\\\\-1610.0 & k_{4} + k_{5} + 1610.0\\end{matrix}\\right]$"
      ],
      "text/plain": [
       "⎡k₃ + 1610.0      -1610.0     ⎤\n",
       "⎢                             ⎥\n",
       "⎣  -1610.0    k₄ + k₅ + 1610.0⎦"
      ]
     },
     "metadata": {},
     "output_type": "display_data"
    },
    {
     "data": {
      "text/latex": [
       "$\\displaystyle \\left[\\begin{matrix}m_{1} & 0\\\\0 & m_{2}\\end{matrix}\\right]$"
      ],
      "text/plain": [
       "⎡m₁  0 ⎤\n",
       "⎢      ⎥\n",
       "⎣0   m₂⎦"
      ]
     },
     "metadata": {},
     "output_type": "display_data"
    }
   ],
   "source": [
    "display(K_til.subs(mydict), M.subs(mydict))"
   ]
  },
  {
   "cell_type": "code",
   "execution_count": 44,
   "metadata": {},
   "outputs": [
    {
     "data": {
      "text/latex": [
       "$\\displaystyle \\left[ \\left( - 73.2860520094565 F_{0s} - 0.709219858156028 i \\eta k_{s} - 0.709219858156028 k_{s} - 2413.05299808499 \\left(0.000922377991753893 F_{0s}^{2} + 1.78524772597527 \\cdot 10^{-5} i F_{0s} \\eta k_{s} + 1.78524772597527 \\cdot 10^{-5} F_{0s} k_{s} - 0.033273182036965 F_{0s} - 8.63829544826741 \\cdot 10^{-8} \\eta^{2} k_{s}^{2} + 1.72765908965348 \\cdot 10^{-7} i \\eta k_{s}^{2} - 0.000321998535841595 i \\eta k_{s} + 8.63829544826741 \\cdot 10^{-8} k_{s}^{2} - 0.000321998535841595 k_{s} + 1\\right)^{0.5} - 2974.3157103928, \\  1, \\  \\left[ \\left[\\begin{matrix}0.0641821946169772 F_{0s} + 0.000621118012422358 i \\eta k_{s} + 0.000621118012422358 k_{s} - 2.11329486167691 \\left(0.000922377991753893 F_{0s}^{2} + 1.78524772597527 \\cdot 10^{-5} i F_{0s} \\eta k_{s} + 1.78524772597527 \\cdot 10^{-5} F_{0s} k_{s} - 0.033273182036965 F_{0s} - 8.63829544826741 \\cdot 10^{-8} \\eta^{2} k_{s}^{2} + 1.72765908965348 \\cdot 10^{-7} i \\eta k_{s}^{2} - 0.000321998535841595 i \\eta k_{s} + 8.63829544826741 \\cdot 10^{-8} k_{s}^{2} - 0.000321998535841595 k_{s} + 1\\right)^{0.5} - 1.15763052897754\\\\1.0\\end{matrix}\\right]\\right]\\right), \\  \\left( - 73.2860520094565 F_{0s} - 0.709219858156028 i \\eta k_{s} - 0.709219858156028 k_{s} + 2413.05299808499 \\left(0.000922377991753893 F_{0s}^{2} + 1.78524772597527 \\cdot 10^{-5} i F_{0s} \\eta k_{s} + 1.78524772597527 \\cdot 10^{-5} F_{0s} k_{s} - 0.033273182036965 F_{0s} - 8.63829544826741 \\cdot 10^{-8} \\eta^{2} k_{s}^{2} + 1.72765908965348 \\cdot 10^{-7} i \\eta k_{s}^{2} - 0.000321998535841595 i \\eta k_{s} + 8.63829544826741 \\cdot 10^{-8} k_{s}^{2} - 0.000321998535841595 k_{s} + 1\\right)^{0.5} - 2974.3157103928, \\  1, \\  \\left[ \\left[\\begin{matrix}0.0641821946169772 F_{0s} + 0.000621118012422358 i \\eta k_{s} + 0.000621118012422358 k_{s} + 2.11329486167691 \\left(0.000922377991753893 F_{0s}^{2} + 1.78524772597527 \\cdot 10^{-5} i F_{0s} \\eta k_{s} + 1.78524772597527 \\cdot 10^{-5} F_{0s} k_{s} - 0.033273182036965 F_{0s} - 8.63829544826741 \\cdot 10^{-8} \\eta^{2} k_{s}^{2} + 1.72765908965348 \\cdot 10^{-7} i \\eta k_{s}^{2} - 0.000321998535841595 i \\eta k_{s} + 8.63829544826741 \\cdot 10^{-8} k_{s}^{2} - 0.000321998535841595 k_{s} + 1\\right)^{0.5} - 1.15763052897754\\\\1.0\\end{matrix}\\right]\\right]\\right)\\right]$"
      ],
      "text/plain": [
       "⎡⎛                                                                            \n",
       "⎢⎜                                                                            \n",
       "⎢⎜-73.2860520094565⋅F_{0s} - 0.709219858156028⋅ⅈ⋅η⋅kₛ - 0.709219858156028⋅kₛ -\n",
       "⎢⎜                                                                            \n",
       "⎣⎝                                                                            \n",
       "\n",
       "                                                                              \n",
       "                  ⎛                           2                               \n",
       " 2413.05299808499⋅⎝0.000922377991753893⋅F_{0s}  + 1.78524772597527e-5⋅ⅈ⋅F_{0s}\n",
       "                                                                              \n",
       "                                                                              \n",
       "\n",
       "                                                                              \n",
       "                                                                              \n",
       "⋅η⋅kₛ + 1.78524772597527e-5⋅F_{0s}⋅kₛ - 0.033273182036965⋅F_{0s} - 8.638295448\n",
       "                                                                              \n",
       "                                                                              \n",
       "\n",
       "                                                                              \n",
       "          2   2                             2                                 \n",
       "26741e-8⋅η ⋅kₛ  + 1.72765908965348e-7⋅ⅈ⋅η⋅kₛ  - 0.000321998535841595⋅ⅈ⋅η⋅kₛ + \n",
       "                                                                              \n",
       "                                                                              \n",
       "\n",
       "                                                      0.5                     \n",
       "                      2                              ⎞                        \n",
       "8.63829544826741e-8⋅kₛ  - 0.000321998535841595⋅kₛ + 1⎠    - 2974.3157103928, 1\n",
       "                                                                              \n",
       "                                                                              \n",
       "\n",
       "  ⎡⎡                                                                          \n",
       "  ⎢⎢                                                                          \n",
       ", ⎢⎢0.0641821946169772⋅F_{0s} + 0.000621118012422358⋅ⅈ⋅η⋅kₛ + 0.00062111801242\n",
       "  ⎢⎢                                                                          \n",
       "  ⎣⎣                                                                          \n",
       "\n",
       "                                                                              \n",
       "                           ⎛                           2                      \n",
       "2358⋅kₛ - 2.11329486167691⋅⎝0.000922377991753893⋅F_{0s}  + 1.78524772597527e-5\n",
       "                                                                              \n",
       "                                                                              \n",
       "\n",
       "                                                                              \n",
       "                                                                              \n",
       "⋅ⅈ⋅F_{0s}⋅η⋅kₛ + 1.78524772597527e-5⋅F_{0s}⋅kₛ - 0.033273182036965⋅F_{0s} - 8.\n",
       "                                                                              \n",
       "                                           1.0                                \n",
       "\n",
       "                                                                              \n",
       "                   2   2                             2                        \n",
       "63829544826741e-8⋅η ⋅kₛ  + 1.72765908965348e-7⋅ⅈ⋅η⋅kₛ  - 0.000321998535841595⋅\n",
       "                                                                              \n",
       "                                                                              \n",
       "\n",
       "                                                               0.5            \n",
       "                               2                              ⎞               \n",
       "ⅈ⋅η⋅kₛ + 8.63829544826741e-8⋅kₛ  - 0.000321998535841595⋅kₛ + 1⎠    - 1.1576305\n",
       "                                                                              \n",
       "                                                                              \n",
       "\n",
       "       ⎤⎤⎞  ⎛                                                                 \n",
       "       ⎥⎥⎟  ⎜                                                                 \n",
       "2897754⎥⎥⎟, ⎜-73.2860520094565⋅F_{0s} - 0.709219858156028⋅ⅈ⋅η⋅kₛ - 0.709219858\n",
       "       ⎥⎥⎟  ⎜                                                                 \n",
       "       ⎦⎦⎠  ⎝                                                                 \n",
       "\n",
       "                                                                              \n",
       "                             ⎛                           2                    \n",
       "156028⋅kₛ + 2413.05299808499⋅⎝0.000922377991753893⋅F_{0s}  + 1.78524772597527e\n",
       "                                                                              \n",
       "                                                                              \n",
       "\n",
       "                                                                              \n",
       "                                                                              \n",
       "-5⋅ⅈ⋅F_{0s}⋅η⋅kₛ + 1.78524772597527e-5⋅F_{0s}⋅kₛ - 0.033273182036965⋅F_{0s} - \n",
       "                                                                              \n",
       "                                                                              \n",
       "\n",
       "                                                                              \n",
       "                     2   2                             2                      \n",
       "8.63829544826741e-8⋅η ⋅kₛ  + 1.72765908965348e-7⋅ⅈ⋅η⋅kₛ  - 0.00032199853584159\n",
       "                                                                              \n",
       "                                                                              \n",
       "\n",
       "                                                                 0.5          \n",
       "                                 2                              ⎞             \n",
       "5⋅ⅈ⋅η⋅kₛ + 8.63829544826741e-8⋅kₛ  - 0.000321998535841595⋅kₛ + 1⎠    - 2974.31\n",
       "                                                                              \n",
       "                                                                              \n",
       "\n",
       "             ⎡⎡                                                               \n",
       "             ⎢⎢                                                               \n",
       "57103928, 1, ⎢⎢0.0641821946169772⋅F_{0s} + 0.000621118012422358⋅ⅈ⋅η⋅kₛ + 0.000\n",
       "             ⎢⎢                                                               \n",
       "             ⎣⎣                                                               \n",
       "\n",
       "                                                                              \n",
       "                                      ⎛                           2           \n",
       "621118012422358⋅kₛ + 2.11329486167691⋅⎝0.000922377991753893⋅F_{0s}  + 1.785247\n",
       "                                                                              \n",
       "                                                                              \n",
       "\n",
       "                                                                              \n",
       "                                                                              \n",
       "72597527e-5⋅ⅈ⋅F_{0s}⋅η⋅kₛ + 1.78524772597527e-5⋅F_{0s}⋅kₛ - 0.033273182036965⋅\n",
       "                                                                              \n",
       "                                                      1.0                     \n",
       "\n",
       "                                                                              \n",
       "                              2   2                             2             \n",
       "F_{0s} - 8.63829544826741e-8⋅η ⋅kₛ  + 1.72765908965348e-7⋅ⅈ⋅η⋅kₛ  - 0.00032199\n",
       "                                                                              \n",
       "                                                                              \n",
       "\n",
       "                                                                          0.5 \n",
       "                                          2                              ⎞    \n",
       "8535841595⋅ⅈ⋅η⋅kₛ + 8.63829544826741e-8⋅kₛ  - 0.000321998535841595⋅kₛ + 1⎠    \n",
       "                                                                              \n",
       "                                                                              \n",
       "\n",
       "                  ⎤⎤⎞⎤\n",
       "                  ⎥⎥⎟⎥\n",
       "- 1.15763052897754⎥⎥⎟⎥\n",
       "                  ⎥⎥⎟⎥\n",
       "                  ⎦⎦⎠⎦"
      ]
     },
     "execution_count": 44,
     "metadata": {},
     "output_type": "execute_result"
    }
   ],
   "source": [
    "A_func.subs(mydict).eigenvects()"
   ]
  },
  {
   "cell_type": "code",
   "execution_count": 45,
   "metadata": {},
   "outputs": [
    {
     "data": {
      "image/png": "[encoded data removed]",
      "text/latex": [
       "$\\displaystyle \\left( \\left[ -5582.91051492006 - 11.2244888611244 i, \\  -1129.07315172842 - 27.6265749686628 i\\right], \\  \\left[ -5709.65243685553 - 9.75026764983594 i, \\  -1412.96716359909 - 19.8880302225045 i\\right], \\  \\left[ -5792.48681850337 - 7.23502698833786 i, \\  -1572.50866847608 - 13.1692283308111 i\\right]\\right)$"
      ],
      "text/plain": [
       "([-5582.91051492006 - 11.2244888611244⋅ⅈ, -1129.07315172842 - 27.6265749686628\n",
       "⋅ⅈ], [-5709.65243685553 - 9.75026764983594⋅ⅈ, -1412.96716359909 - 19.888030222\n",
       "5045⋅ⅈ], [-5792.48681850337 - 7.23502698833786⋅ⅈ, -1572.50866847608 - 13.16922\n",
       "83308111⋅ⅈ])"
      ]
     },
     "execution_count": 45,
     "metadata": {},
     "output_type": "execute_result"
    }
   ],
   "source": [
    "la_sol30 = list(A_func.subs(mydict).subs(v30).eigenvals().keys())\n",
    "la_sol50 = list(A_func.subs(mydict).subs(v50).eigenvals().keys())\n",
    "la_sol70 = list(A_func.subs(mydict).subs(v70).eigenvals().keys())\n",
    "la_sol30, la_sol50, la_sol70"
   ]
  },
  {
   "attachments": {},
   "cell_type": "markdown",
   "metadata": {},
   "source": [
    "4.5"
   ]
  },
  {
   "cell_type": "code",
   "execution_count": 46,
   "metadata": {},
   "outputs": [
    {
     "data": {
      "image/png": "[encoded data removed]",
      "text/latex": [
       "$\\displaystyle \\left( \\sqrt{-5582.91051492006 - 11.2244888611244 i}, \\  - \\sqrt{-5582.91051492006 - 11.2244888611244 i}, \\  \\sqrt{-1129.07315172842 - 27.6265749686628 i}, \\  - \\sqrt{-1129.07315172842 - 27.6265749686628 i}\\right)$"
      ],
      "text/plain": [
       "⎛  ________________________________________     ______________________________\n",
       "⎝╲╱ -5582.91051492006 - 11.2244888611244⋅ⅈ , -╲╱ -5582.91051492006 - 11.224488\n",
       "\n",
       "__________    ________________________________________     ___________________\n",
       "8611244⋅ⅈ , ╲╱ -1129.07315172842 - 27.6265749686628⋅ⅈ , -╲╱ -1129.07315172842 \n",
       "\n",
       "_____________________⎞\n",
       "- 27.6265749686628⋅ⅈ ⎠"
      ]
     },
     "execution_count": 46,
     "metadata": {},
     "output_type": "execute_result"
    }
   ],
   "source": [
    "la11, la12, la21, la22 = sqrt(la_sol30[0]), -sqrt(la_sol30[0]), sqrt(la_sol30[1]), -sqrt(la_sol30[1])\n",
    "la11, la12, la21, la22"
   ]
  },
  {
   "cell_type": "code",
   "execution_count": 47,
   "metadata": {},
   "outputs": [
    {
     "data": {
      "image/png": "[encoded data removed]",
      "text/latex": [
       "$\\displaystyle \\left( -0.001005252709769, \\  0.001005252709769, \\  -0.012231437264513, \\  0.012231437264513\\right)$"
      ],
      "text/plain": [
       "(-0.001005252709769, 0.001005252709769, -0.012231437264513, 0.012231437264513)"
      ]
     },
     "execution_count": 47,
     "metadata": {},
     "output_type": "execute_result"
    }
   ],
   "source": [
    "xi11_30 = - re(la11)/abs(la11)\n",
    "xi12_30 = - re(la12)/abs(la12)\n",
    "xi21_30 = - re(la21)/abs(la21)\n",
    "xi22_30 = - re(la22)/abs(la22)\n",
    "xi11_30, xi12_30, xi21_30, xi22_30"
   ]
  },
  {
   "cell_type": "code",
   "execution_count": 48,
   "metadata": {},
   "outputs": [
    {
     "data": {
      "image/png": "[encoded data removed]",
      "text/latex": [
       "$\\displaystyle \\left( 8.64401249823036, \\  5.79712963235704\\right)$"
      ],
      "text/plain": [
       "(8.64401249823036, 5.79712963235704)"
      ]
     },
     "execution_count": 48,
     "metadata": {},
     "output_type": "execute_result"
    }
   ],
   "source": [
    "wn12 = abs(sqrt(la12))\n",
    "wn22 = abs(sqrt(la22))\n",
    "wn12, wn22"
   ]
  },
  {
   "cell_type": "code",
   "execution_count": 49,
   "metadata": {},
   "outputs": [
    {
     "data": {
      "image/png": "[encoded data removed]",
      "text/latex": [
       "$\\displaystyle \\left( 6.11531125530834, \\  4.12418297142191\\right)$"
      ],
      "text/plain": [
       "(6.11531125530834, 4.12418297142191)"
      ]
     },
     "execution_count": 49,
     "metadata": {},
     "output_type": "execute_result"
    }
   ],
   "source": [
    "wd12 = abs(im(sqrt(la12)))\n",
    "wd22 = abs(im(sqrt(la22)))\n",
    "wd12, wd22"
   ]
  },
  {
   "cell_type": "code",
   "execution_count": 50,
   "metadata": {},
   "outputs": [
    {
     "data": {
      "image/png": "[encoded data removed]",
      "text/latex": [
       "$\\displaystyle \\left( \\left[ - \\sqrt{-5582.91051492006 - 11.2244888611244 i}, \\  - \\sqrt{-1129.07315172842 - 27.6265749686628 i}\\right], \\  \\left[ - \\sqrt{-5709.65243685553 - 9.75026764983594 i}, \\  - \\sqrt{-1412.96716359909 - 19.8880302225045 i}\\right], \\  \\left[ - \\sqrt{-5792.48681850337 - 7.23502698833786 i}, \\  - \\sqrt{-1572.50866847608 - 13.1692283308111 i}\\right]\\right)$"
      ],
      "text/plain": [
       "⎛⎡   ________________________________________     ____________________________\n",
       "⎝⎣-╲╱ -5582.91051492006 - 11.2244888611244⋅ⅈ , -╲╱ -1129.07315172842 - 27.6265\n",
       "\n",
       "____________⎤  ⎡   ________________________________________     ______________\n",
       "749686628⋅ⅈ ⎦, ⎣-╲╱ -5709.65243685553 - 9.75026764983594⋅ⅈ , -╲╱ -1412.9671635\n",
       "\n",
       "__________________________⎤  ⎡   ________________________________________     \n",
       "9909 - 19.8880302225045⋅ⅈ ⎦, ⎣-╲╱ -5792.48681850337 - 7.23502698833786⋅ⅈ , -╲╱\n",
       "\n",
       "________________________________________⎤⎞\n",
       " -1572.50866847608 - 13.1692283308111⋅ⅈ ⎦⎠"
      ]
     },
     "execution_count": 50,
     "metadata": {},
     "output_type": "execute_result"
    }
   ],
   "source": [
    "la30 = [-sqrt(la_sol30[0]), -sqrt(la_sol30[1])]\n",
    "la50 = [-sqrt(la_sol50[0]), -sqrt(la_sol50[1])]\n",
    "la70 = [-sqrt(la_sol70[0]), -sqrt(la_sol70[1])]\n",
    "la30, la50, la70"
   ]
  },
  {
   "cell_type": "code",
   "execution_count": 51,
   "metadata": {},
   "outputs": [
    {
     "data": {
      "image/png": "[encoded data removed]",
      "text/latex": [
       "$\\displaystyle \\left( \\left[ \\frac{4.32200624911518}{\\pi}, \\  \\frac{2.89856481617852}{\\pi}\\right], \\  \\left[ \\frac{4.34632883091296}{\\pi}, \\  \\frac{3.06558791724425}{\\pi}\\right], \\  \\left[ \\frac{4.36200694363053}{\\pi}, \\  \\frac{3.14863322319588}{\\pi}\\right]\\right)$"
      ],
      "text/plain": [
       "⎛⎡4.32200624911518  2.89856481617852⎤  ⎡4.34632883091296  3.06558791724425⎤  ⎡\n",
       "⎜⎢────────────────, ────────────────⎥, ⎢────────────────, ────────────────⎥, ⎢\n",
       "⎝⎣       π                 π        ⎦  ⎣       π                 π        ⎦  ⎣\n",
       "\n",
       "4.36200694363053  3.14863322319588⎤⎞\n",
       "────────────────, ────────────────⎥⎟\n",
       "       π                 π        ⎦⎠"
      ]
     },
     "execution_count": 51,
     "metadata": {},
     "output_type": "execute_result"
    }
   ],
   "source": [
    "xi30 = [- re(la30[0])/abs(la30[0]), - re(la30[1])/abs(la30[1])]\n",
    "xi50 = [- re(la50[0])/abs(la50[0]), - re(la50[1])/abs(la50[1])]\n",
    "xi70 = [- re(la70[0])/abs(la70[0]), - re(la70[1])/abs(la70[1])]\n",
    "wn30hz = [abs(sqrt(la30[0]))/(2*pi), abs(sqrt(la30[1]))/(2*pi)]\n",
    "wn50hz = [abs(sqrt(la50[0]))/(2*pi), abs(sqrt(la50[1]))/(2*pi)]\n",
    "wn70hz = [abs(sqrt(la70[0]))/(2*pi), abs(sqrt(la70[1]))/(2*pi)]\n",
    "wn30hz, wn50hz, wn70hz "
   ]
  },
  {
   "cell_type": "code",
   "execution_count": 52,
   "metadata": {},
   "outputs": [
    {
     "data": {
      "image/png": "[encoded data removed]",
      "text/latex": [
       "$\\displaystyle \\left( \\left[ 30, \\  30, \\  50, \\  50, \\  70, \\  70\\right], \\  \\left[ \\frac{4.32200624911518}{\\pi}, \\  \\frac{2.89856481617852}{\\pi}, \\  \\frac{4.34632883091296}{\\pi}, \\  \\frac{3.06558791724425}{\\pi}, \\  \\frac{4.36200694363053}{\\pi}, \\  \\frac{3.14863322319588}{\\pi}\\right]\\right)$"
      ],
      "text/plain": [
       "⎛                          ⎡4.32200624911518  2.89856481617852  4.346328830912\n",
       "⎜[30, 30, 50, 50, 70, 70], ⎢────────────────, ────────────────, ──────────────\n",
       "⎝                          ⎣       π                 π                 π      \n",
       "\n",
       "96  3.06558791724425  4.36200694363053  3.14863322319588⎤⎞\n",
       "──, ────────────────, ────────────────, ────────────────⎥⎟\n",
       "           π                 π                 π        ⎦⎠"
      ]
     },
     "execution_count": 52,
     "metadata": {},
     "output_type": "execute_result"
    }
   ],
   "source": [
    "x = [30, 30, 50, 50, 70, 70]\n",
    "y = [wn30hz[0] ,wn30hz[1], wn50hz[0], wn50hz[1], wn70hz[0], wn70hz[1]]\n",
    "x, y"
   ]
  },
  {
   "cell_type": "code",
   "execution_count": 53,
   "metadata": {},
   "outputs": [
    {
     "data": {
      "image/png": "[encoded data removed]",
      "text/latex": [
       "$\\displaystyle \\left( \\left[ 30, \\  30, \\  50, \\  50, \\  70, \\  70\\right], \\  \\left[ 0.001005252709769, \\  0.012231437264513, \\  0.00085383979980615, \\  0.00703716030102224, \\  0.000624517843742901, \\  0.00418722079303965\\right]\\right)$"
      ],
      "text/plain": [
       "([30, 30, 50, 50, 70, 70], [0.001005252709769, 0.012231437264513, 0.0008538397\n",
       "9980615, 0.00703716030102224, 0.000624517843742901, 0.00418722079303965])"
      ]
     },
     "execution_count": 53,
     "metadata": {},
     "output_type": "execute_result"
    }
   ],
   "source": [
    "x_xi = [30, 30, 50, 50, 70, 70]\n",
    "y_xi = [xi30[0], xi30[1], xi50[0], xi50[1], xi70[0], xi70[1]]\n",
    "x_xi, y_xi"
   ]
  },
  {
   "cell_type": "code",
   "execution_count": 54,
   "metadata": {},
   "outputs": [
    {
     "data": {
      "image/png": "[encoded data removed]",
      "text/plain": [
       "<Figure size 640x480 with 1 Axes>"
      ]
     },
     "metadata": {},
     "output_type": "display_data"
    },
    {
     "data": {
      "image/png": "[encoded data removed]",
      "text/plain": [
       "<Figure size 640x480 with 1 Axes>"
      ]
     },
     "metadata": {},
     "output_type": "display_data"
    },
    {
     "data": {
      "text/plain": [
       "<spb.backends.matplotlib.MatplotlibBackend at 0x120a3f610>"
      ]
     },
     "execution_count": 54,
     "metadata": {},
     "output_type": "execute_result"
    }
   ],
   "source": [
    "dtuplot.scatter(x, y)\n",
    "dtuplot.scatter(x_xi, y_xi)"
   ]
  },
  {
   "cell_type": "code",
   "execution_count": null,
   "metadata": {},
   "outputs": [],
   "source": []
  },
  {
   "cell_type": "code",
   "execution_count": null,
   "metadata": {},
   "outputs": [],
   "source": []
  }
 ],
 "metadata": {
  "kernelspec": {
   "display_name": "Python 3.11.2 64-bit",
   "language": "python",
   "name": "python3"
  },
  "language_info": {
   "codemirror_mode": {
    "name": "ipython",
    "version": 3
   },
   "file_extension": ".py",
   "mimetype": "text/x-python",
   "name": "python",
   "nbconvert_exporter": "python",
   "pygments_lexer": "ipython3",
   "version": "3.11.2"
  },
  "orig_nbformat": 4,
  "vscode": {
   "interpreter": {
    "hash": "b0fa6594d8f4cbf19f97940f81e996739fb7646882a419484c72d19e05852a7e"
   }
  }
 },
 "nbformat": 4,
 "nbformat_minor": 2
}
