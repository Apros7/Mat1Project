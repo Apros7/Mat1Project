{
 "cells": [
  {
   "cell_type": "markdown",
   "metadata": {},
   "source": [
    "# rigtig dictionary"
   ]
  },
  {
   "cell_type": "code",
   "execution_count": 3,
   "metadata": {},
   "outputs": [],
   "source": [
    "from sympy import *\n",
    "init_printing()"
   ]
  },
  {
   "cell_type": "code",
   "execution_count": 4,
   "metadata": {},
   "outputs": [],
   "source": [
    "g,kc,u,phiu,mr,m2,it,lg,l1,l2,kb2,k1,k2,hp,cs,ks,xi,F0s = symbols('g,kc,u,phiu,mr,m2,it,lg,l1,l2,kb2,k1,k2,hp,cs,ks,xi,F0s')\n",
    "\n",
    "mydict = {g:9.81,\n",
    "        kc:0.7,\n",
    "        u:14.8*10**(-6),\n",
    "          phiu:7,\n",
    "          mr:0.616,\n",
    "          m2:1.410,\n",
    "          it:31.2*10**(-3),\n",
    "          lg:0.188,\n",
    "          l1:0.118,\n",
    "          l2:0.263,\n",
    "          kb2:0.72*10**(3),\n",
    "          k1:1.66*10**3,\n",
    "          k2:1.61*10**3,\n",
    "          hp:12*10**(-3), \n",
    "          cs:0.24}\n",
    "\n",
    "v30 = {ks:0.83*1000, xi:33/100, F0s:5.2}\n",
    "v50 = {ks:0.995*1000, xi:21/100, F0s:8}\n",
    "v70 = {ks:1.37*1000, xi:10.5/100, F0s:9.65}"
   ]
  },
  {
   "cell_type": "code",
   "execution_count": null,
   "metadata": {},
   "outputs": [],
   "source": []
  }
 ],
 "metadata": {
  "kernelspec": {
   "display_name": "Python 3.11.2 64-bit",
   "language": "python",
   "name": "python3"
  },
  "language_info": {
   "codemirror_mode": {
    "name": "ipython",
    "version": 3
   },
   "file_extension": ".py",
   "mimetype": "text/x-python",
   "name": "python",
   "nbconvert_exporter": "python",
   "pygments_lexer": "ipython3",
   "version": "3.11.2"
  },
  "orig_nbformat": 4,
  "vscode": {
   "interpreter": {
    "hash": "b0fa6594d8f4cbf19f97940f81e996739fb7646882a419484c72d19e05852a7e"
   }
  }
 },
 "nbformat": 4,
 "nbformat_minor": 2
}
