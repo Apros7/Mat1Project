{
 "cells": [
  {
   "cell_type": "code",
   "execution_count": 1,
   "metadata": {},
   "outputs": [],
   "source": [
    "from sympy import *\n",
    "from dtumathtools import dtuplot\n",
    "init_printing()"
   ]
  },
  {
   "cell_type": "code",
   "execution_count": 17,
   "metadata": {},
   "outputs": [],
   "source": [
    "k1, k2, kc, kb2, l1, l2, lg, it = symbols('k_1 k_2 k_c k_{b2} l_1 l_2 l_g I_t', real=True, positive=True)\n",
    "m2, mr, g, u, w, t, phiu = symbols('m_2 m_r g u omega t phi_u', real=True, positive=True)\n",
    "xi, ks, F0s, hp, cs = symbols('xi k_s F_{0s} h_p c_s', real=True, positive=True)\n",
    "z_1, z_2, omega, t = symbols(\"z_1, z_2 omega t\")\n",
    "\n",
    "M = Matrix([[l2**(-2)*it, 0], [0, m2]])\n",
    "K = Matrix([[k2 + (-g*lg*mr + k1*l1**2 + kc)/l2**2, -k2], [-k2, 2*F0s*(cs+1)/hp + k2 + 2*ks*(I*xi+1) + kb2]])\n",
    "F = Matrix([l2**-1*u*omega**2*(sin(phiu)-I*cos(phiu)), 0])"
   ]
  },
  {
   "cell_type": "code",
   "execution_count": 40,
   "metadata": {},
   "outputs": [
    {
     "data": {
      "text/latex": [
       "$\\displaystyle \\left[\\begin{matrix}\\frac{6.5859408 \\cdot 10^{-8} \\omega^{4} \\sin{\\left(7 \\right)} - 6.5859408 \\cdot 10^{-8} i \\omega^{4} \\cos{\\left(7 \\right)} - 0.000159105431008 \\omega^{2} \\sin{\\left(7 \\right)} - 2.558708064 \\cdot 10^{-8} \\omega^{2} \\cos{\\left(7 \\right)} - 2.558708064 \\cdot 10^{-8} i \\omega^{2} \\sin{\\left(7 \\right)} + 0.000159105431008 i \\omega^{2} \\cos{\\left(7 \\right)}}{- 0.000527904 \\omega^{4} + 3.5432830255584 \\omega^{2} + 0.00020509632 i \\omega^{2} - 3327.48675049524 - 0.881124381099072 i}\\\\\\frac{- 7.5201168 \\cdot 10^{-5} \\omega^{2} \\sin{\\left(7 \\right)} + 7.5201168 \\cdot 10^{-5} i \\omega^{2} \\cos{\\left(7 \\right)}}{- 0.000527904 \\omega^{4} + 3.5432830255584 \\omega^{2} + 0.00020509632 i \\omega^{2} - 3327.48675049524 - 0.881124381099072 i}\\end{matrix}\\right]$"
      ],
      "text/plain": [
       "⎡              4                          4                             2     \n",
       "⎢6.5859408e-8⋅ω ⋅sin(7) - 6.5859408e-8⋅ⅈ⋅ω ⋅cos(7) - 0.000159105431008⋅ω ⋅sin(\n",
       "⎢─────────────────────────────────────────────────────────────────────────────\n",
       "⎢                                                 4                    2      \n",
       "⎢                                  - 0.000527904⋅ω  + 3.5432830255584⋅ω  + 0.0\n",
       "⎢                                                                             \n",
       "⎢                                                                          2  \n",
       "⎢                                                          - 7.5201168e-5⋅ω ⋅s\n",
       "⎢                                  ───────────────────────────────────────────\n",
       "⎢                                                 4                    2      \n",
       "⎣                                  - 0.000527904⋅ω  + 3.5432830255584⋅ω  + 0.0\n",
       "\n",
       "                     2                            2                           \n",
       "7) - 2.558708064e-8⋅ω ⋅cos(7) - 2.558708064e-8⋅ⅈ⋅ω ⋅sin(7) + 0.000159105431008\n",
       "──────────────────────────────────────────────────────────────────────────────\n",
       "              2                                                               \n",
       "0020509632⋅ⅈ⋅ω  - 3327.48675049524 - 0.881124381099072⋅ⅈ                      \n",
       "                                                                              \n",
       "                        2                                                     \n",
       "in(7) + 7.5201168e-5⋅ⅈ⋅ω ⋅cos(7)                                              \n",
       "────────────────────────────────────────────────────────                      \n",
       "              2                                                               \n",
       "0020509632⋅ⅈ⋅ω  - 3327.48675049524 - 0.881124381099072⋅ⅈ                      \n",
       "\n",
       "    2       ⎤\n",
       "⋅ⅈ⋅ω ⋅cos(7)⎥\n",
       "────────────⎥\n",
       "            ⎥\n",
       "            ⎥\n",
       "            ⎥\n",
       "            ⎥\n",
       "            ⎥\n",
       "            ⎥\n",
       "            ⎥\n",
       "            ⎦"
      ]
     },
     "execution_count": 40,
     "metadata": {},
     "output_type": "execute_result"
    }
   ],
   "source": [
    "z_1, z_2, omega, t = symbols(\"z_1, z_2 omega t\")\n",
    "k_1, k_2, k_3, k_4 = symbols(\"k_1, k_2 k_3 k_4\")\n",
    "m_1, m_2 = symbols(\"m_1, m_2\")\n",
    "f_1, f_2 = symbols(\"f_1, f_2\")\n",
    "\n",
    "k_1, k_2, k_3, k_4 = K[0], K[1], K[2], K[3]\n",
    "m_1, m_2 = M[0], M[1]\n",
    "f_1, f_2 = F[0], F[1]\n",
    "\n",
    "z = Matrix([z_1, z_2])*exp(I*omega*t)\n",
    "k = K -omega**2 * M\n",
    "f = Matrix([f_1, f_2])\n",
    "\n",
    "mydict = {g:9.81,kc:0.7,u:14.8*10**(-6),\n",
    "          phiu:7,mr:0.616,m2:1.410,it:31.2*10**(-3),\n",
    "          lg:0.188,l1:0.118,l2:0.263,\n",
    "          kb2:0.72*10**(3),k1:1.66*10**3,k2:1.61*10**3,\n",
    "          hp:12*10**(-3), cs:0.24}\n",
    "\n",
    "v30 = {ks:0.83, xi:33/100, F0s:5.2}\n",
    "\n",
    "sol = k.gauss_jordan_solve(f)[0]\n",
    "x = sol.subs(mydict)\n",
    "x = x.subs(v30)\n",
    "x"
   ]
  },
  {
   "cell_type": "code",
   "execution_count": 41,
   "metadata": {},
   "outputs": [
    {
     "data": {
      "text/latex": [
       "$\\displaystyle \\left[\\begin{matrix}\\frac{\\omega^{2} u \\left(\\sin{\\left(\\phi_{u} \\right)} - i \\cos{\\left(\\phi_{u} \\right)}\\right)}{l_{2}}\\\\0\\end{matrix}\\right]$"
      ],
      "text/plain": [
       "⎡ 2                        ⎤\n",
       "⎢ω ⋅u⋅(sin(φᵤ) - ⅈ⋅cos(φᵤ))⎥\n",
       "⎢──────────────────────────⎥\n",
       "⎢            l₂            ⎥\n",
       "⎢                          ⎥\n",
       "⎣            0             ⎦"
      ]
     },
     "execution_count": 41,
     "metadata": {},
     "output_type": "execute_result"
    }
   ],
   "source": [
    "f"
   ]
  },
  {
   "cell_type": "code",
   "execution_count": 42,
   "metadata": {},
   "outputs": [
    {
     "data": {
      "text/latex": [
       "$\\displaystyle \\left( \\left[\\begin{matrix}1937.86021946248 - 0.451069120559788 \\omega^{2} & -1610.0\\\\-1610.0 & 206.666666666667 F_{0s} + 2 k_{s} \\left(i \\xi + 1\\right) - 1.41 \\omega^{2} + 2330.0\\end{matrix}\\right], \\  \\left[\\begin{matrix}5.62737642585551 \\cdot 10^{-5} \\omega^{2} \\left(\\sin{\\left(7 \\right)} - i \\cos{\\left(7 \\right)}\\right)\\\\0\\end{matrix}\\right]\\right)$"
      ],
      "text/plain": [
       "⎛⎡                                      2                                     \n",
       "⎜⎢1937.86021946248 - 0.451069120559788⋅ω                             -1610.0  \n",
       "⎜⎢                                                                            \n",
       "⎜⎢                                                                            \n",
       "⎝⎣                -1610.0                  206.666666666667⋅F_{0s} + 2⋅kₛ⋅(ⅈ⋅ξ\n",
       "\n",
       "                        ⎤  ⎡                     2                    ⎤⎞\n",
       "                        ⎥  ⎢5.62737642585551e-5⋅ω ⋅(sin(7) - ⅈ⋅cos(7))⎥⎟\n",
       "                        ⎥, ⎢                                          ⎥⎟\n",
       "              2         ⎥  ⎣                    0                     ⎦⎟\n",
       " + 1) - 1.41⋅ω  + 2330.0⎦                                              ⎠"
      ]
     },
     "execution_count": 42,
     "metadata": {},
     "output_type": "execute_result"
    }
   ],
   "source": [
    "k.subs(mydict), f.subs(mydict)"
   ]
  },
  {
   "cell_type": "code",
   "execution_count": 45,
   "metadata": {},
   "outputs": [
    {
     "data": {
      "text/latex": [
       "$\\displaystyle \\left[\\begin{matrix}\\frac{\\left(6.5859408 \\cdot 10^{-8} \\omega^{4} \\sin{\\left(7 \\right)} - 6.5859408 \\cdot 10^{-8} i \\omega^{4} \\cos{\\left(7 \\right)} - 0.000159105431008 \\omega^{2} \\sin{\\left(7 \\right)} - 2.558708064 \\cdot 10^{-8} \\omega^{2} \\cos{\\left(7 \\right)} - 2.558708064 \\cdot 10^{-8} i \\omega^{2} \\sin{\\left(7 \\right)} + 0.000159105431008 i \\omega^{2} \\cos{\\left(7 \\right)}\\right) e^{i \\omega t}}{- 0.000527904 \\omega^{4} + 3.5432830255584 \\omega^{2} + 0.00020509632 i \\omega^{2} - 3327.48675049524 - 0.881124381099072 i}\\\\\\frac{\\left(- 7.5201168 \\cdot 10^{-5} \\omega^{2} \\sin{\\left(7 \\right)} + 7.5201168 \\cdot 10^{-5} i \\omega^{2} \\cos{\\left(7 \\right)}\\right) e^{i \\omega t}}{- 0.000527904 \\omega^{4} + 3.5432830255584 \\omega^{2} + 0.00020509632 i \\omega^{2} - 3327.48675049524 - 0.881124381099072 i}\\end{matrix}\\right]$"
      ],
      "text/plain": [
       "⎡⎛              4                          4                             2    \n",
       "⎢⎝6.5859408e-8⋅ω ⋅sin(7) - 6.5859408e-8⋅ⅈ⋅ω ⋅cos(7) - 0.000159105431008⋅ω ⋅sin\n",
       "⎢─────────────────────────────────────────────────────────────────────────────\n",
       "⎢                                                     4                    2  \n",
       "⎢                                      - 0.000527904⋅ω  + 3.5432830255584⋅ω  +\n",
       "⎢                                                                             \n",
       "⎢                                                          ⎛                2 \n",
       "⎢                                                          ⎝- 7.5201168e-5⋅ω ⋅\n",
       "⎢                                      ───────────────────────────────────────\n",
       "⎢                                                     4                    2  \n",
       "⎣                                      - 0.000527904⋅ω  + 3.5432830255584⋅ω  +\n",
       "\n",
       "                      2                            2                          \n",
       "(7) - 2.558708064e-8⋅ω ⋅cos(7) - 2.558708064e-8⋅ⅈ⋅ω ⋅sin(7) + 0.00015910543100\n",
       "──────────────────────────────────────────────────────────────────────────────\n",
       "                  2                                                           \n",
       " 0.00020509632⋅ⅈ⋅ω  - 3327.48675049524 - 0.881124381099072⋅ⅈ                  \n",
       "                                                                              \n",
       "                         2       ⎞  ⅈ⋅ω⋅t                                     \n",
       "sin(7) + 7.5201168e-5⋅ⅈ⋅ω ⋅cos(7)⎠⋅ℯ                                          \n",
       "────────────────────────────────────────────────────────────                  \n",
       "                  2                                                           \n",
       " 0.00020509632⋅ⅈ⋅ω  - 3327.48675049524 - 0.881124381099072⋅ⅈ                  \n",
       "\n",
       "     2       ⎞  ⅈ⋅ω⋅t⎤\n",
       "8⋅ⅈ⋅ω ⋅cos(7)⎠⋅ℯ     ⎥\n",
       "─────────────────────⎥\n",
       "                     ⎥\n",
       "                     ⎥\n",
       "                     ⎥\n",
       "                     ⎥\n",
       "                     ⎥\n",
       "                     ⎥\n",
       "                     ⎥\n",
       "                     ⎦"
      ]
     },
     "execution_count": 45,
     "metadata": {},
     "output_type": "execute_result"
    }
   ],
   "source": [
    "z1 = x[0]*exp(I*omega*t)\n",
    "z2 = x[1]*exp(I*omega*t)\n",
    "z_tilde = Matrix([z1, z2])\n",
    "z_tilde"
   ]
  },
  {
   "cell_type": "code",
   "execution_count": 44,
   "metadata": {},
   "outputs": [
    {
     "data": {
      "image/png": "[encoded data removed]",
      "text/latex": [
       "$\\displaystyle \\frac{l_{2} \\omega^{2} u \\left(2 F_{0s} c_{s} \\sin{\\left(\\phi_{u} \\right)} - 2 i F_{0s} c_{s} \\cos{\\left(\\phi_{u} \\right)} + 2 F_{0s} \\sin{\\left(\\phi_{u} \\right)} - 2 i F_{0s} \\cos{\\left(\\phi_{u} \\right)} + h_{p} k_{2} \\sin{\\left(\\phi_{u} \\right)} - i h_{p} k_{2} \\cos{\\left(\\phi_{u} \\right)} + 2 i h_{p} k_{s} \\xi \\sin{\\left(\\phi_{u} \\right)} + 2 h_{p} k_{s} \\xi \\cos{\\left(\\phi_{u} \\right)} + 2 h_{p} k_{s} \\sin{\\left(\\phi_{u} \\right)} - 2 i h_{p} k_{s} \\cos{\\left(\\phi_{u} \\right)} + h_{p} k_{b2} \\sin{\\left(\\phi_{u} \\right)} - i h_{p} k_{b2} \\cos{\\left(\\phi_{u} \\right)} - h_{p} m_{2} \\omega^{2} \\sin{\\left(\\phi_{u} \\right)} + i h_{p} m_{2} \\omega^{2} \\cos{\\left(\\phi_{u} \\right)}\\right)}{- 2 F_{0s} I_{t} c_{s} \\omega^{2} - 2 F_{0s} I_{t} \\omega^{2} - 2 F_{0s} c_{s} g l_{g} m_{r} + 2 F_{0s} c_{s} k_{1} l_{1}^{2} + 2 F_{0s} c_{s} k_{2} l_{2}^{2} + 2 F_{0s} c_{s} k_{c} - 2 F_{0s} g l_{g} m_{r} + 2 F_{0s} k_{1} l_{1}^{2} + 2 F_{0s} k_{2} l_{2}^{2} + 2 F_{0s} k_{c} - I_{t} h_{p} k_{2} \\omega^{2} - 2 i I_{t} h_{p} k_{s} \\omega^{2} \\xi - 2 I_{t} h_{p} k_{s} \\omega^{2} - I_{t} h_{p} k_{b2} \\omega^{2} + I_{t} h_{p} m_{2} \\omega^{4} - g h_{p} k_{2} l_{g} m_{r} - 2 i g h_{p} k_{s} l_{g} m_{r} \\xi - 2 g h_{p} k_{s} l_{g} m_{r} - g h_{p} k_{b2} l_{g} m_{r} + g h_{p} l_{g} m_{2} m_{r} \\omega^{2} + h_{p} k_{1} k_{2} l_{1}^{2} + 2 i h_{p} k_{1} k_{s} l_{1}^{2} \\xi + 2 h_{p} k_{1} k_{s} l_{1}^{2} + h_{p} k_{1} k_{b2} l_{1}^{2} - h_{p} k_{1} l_{1}^{2} m_{2} \\omega^{2} + h_{p} k_{2} k_{c} + 2 i h_{p} k_{2} k_{s} l_{2}^{2} \\xi + 2 h_{p} k_{2} k_{s} l_{2}^{2} + h_{p} k_{2} k_{b2} l_{2}^{2} - h_{p} k_{2} l_{2}^{2} m_{2} \\omega^{2} + 2 i h_{p} k_{c} k_{s} \\xi + 2 h_{p} k_{c} k_{s} + h_{p} k_{c} k_{b2} - h_{p} k_{c} m_{2} \\omega^{2}} = z_{1} e^{i \\omega t}$"
      ],
      "text/plain": [
       "                                                                              \n",
       "                                                                              \n",
       "──────────────────────────────────────────────────────────────────────────────\n",
       "                  2                2                                          \n",
       "- 2⋅F_{0s}⋅Iₜ⋅cₛ⋅ω  - 2⋅F_{0s}⋅Iₜ⋅ω  - 2⋅F_{0s}⋅cₛ⋅g⋅l_g⋅mᵣ + 2⋅F_{0s}⋅cₛ⋅k₁⋅l\n",
       "\n",
       "                                                                              \n",
       "                                                                              \n",
       "──────────────────────────────────────────────────────────────────────────────\n",
       " 2                    2                                                       \n",
       "₁  + 2⋅F_{0s}⋅cₛ⋅k₂⋅l₂  + 2⋅F_{0s}⋅cₛ⋅k_c - 2⋅F_{0s}⋅g⋅l_g⋅mᵣ + 2⋅F_{0s}⋅k₁⋅l₁\n",
       "\n",
       "         2   ⎛                                                                \n",
       "     l₂⋅ω ⋅u⋅⎝2⋅F_{0s}⋅cₛ⋅sin(φᵤ) - 2⋅ⅈ⋅F_{0s}⋅cₛ⋅cos(φᵤ) + 2⋅F_{0s}⋅sin(φᵤ) -\n",
       "──────────────────────────────────────────────────────────────────────────────\n",
       "2                 2                            2                 2            \n",
       "  + 2⋅F_{0s}⋅k₂⋅l₂  + 2⋅F_{0s}⋅k_c - Iₜ⋅hₚ⋅k₂⋅ω  - 2⋅ⅈ⋅Iₜ⋅hₚ⋅kₛ⋅ω ⋅ξ - 2⋅Iₜ⋅hₚ\n",
       "\n",
       "                                                                              \n",
       " 2⋅ⅈ⋅F_{0s}⋅cos(φᵤ) + hₚ⋅k₂⋅sin(φᵤ) - ⅈ⋅hₚ⋅k₂⋅cos(φᵤ) + 2⋅ⅈ⋅hₚ⋅kₛ⋅ξ⋅sin(φᵤ) + \n",
       "──────────────────────────────────────────────────────────────────────────────\n",
       "     2                 2             4                                        \n",
       "⋅kₛ⋅ω  - Iₜ⋅hₚ⋅k_{b2}⋅ω  + Iₜ⋅hₚ⋅m₂⋅ω  - g⋅hₚ⋅k₂⋅l_g⋅mᵣ - 2⋅ⅈ⋅g⋅hₚ⋅kₛ⋅l_g⋅mᵣ⋅ξ\n",
       "\n",
       "                                                                              \n",
       "2⋅hₚ⋅kₛ⋅ξ⋅cos(φᵤ) + 2⋅hₚ⋅kₛ⋅sin(φᵤ) - 2⋅ⅈ⋅hₚ⋅kₛ⋅cos(φᵤ) + hₚ⋅k_{b2}⋅sin(φᵤ) - \n",
       "──────────────────────────────────────────────────────────────────────────────\n",
       "                                                           2              2   \n",
       " - 2⋅g⋅hₚ⋅kₛ⋅l_g⋅mᵣ - g⋅hₚ⋅k_{b2}⋅l_g⋅mᵣ + g⋅hₚ⋅l_g⋅m₂⋅mᵣ⋅ω  + hₚ⋅k₁⋅k₂⋅l₁  + \n",
       "\n",
       "                             2                    2        ⎞                  \n",
       "ⅈ⋅hₚ⋅k_{b2}⋅cos(φᵤ) - hₚ⋅m₂⋅ω ⋅sin(φᵤ) + ⅈ⋅hₚ⋅m₂⋅ω ⋅cos(φᵤ)⎠                  \n",
       "──────────────────────────────────────────────────────────────────────────────\n",
       "               2                  2                  2           2     2      \n",
       "2⋅ⅈ⋅hₚ⋅k₁⋅kₛ⋅l₁ ⋅ξ + 2⋅hₚ⋅k₁⋅kₛ⋅l₁  + hₚ⋅k₁⋅k_{b2}⋅l₁  - hₚ⋅k₁⋅l₁ ⋅m₂⋅ω  + hₚ⋅\n",
       "\n",
       "                                                                              \n",
       "                                                                              \n",
       "──────────────────────────────────────────────────────────────────────────────\n",
       "                        2                  2                  2           2   \n",
       "k₂⋅k_c + 2⋅ⅈ⋅hₚ⋅k₂⋅kₛ⋅l₂ ⋅ξ + 2⋅hₚ⋅k₂⋅kₛ⋅l₂  + hₚ⋅k₂⋅k_{b2}⋅l₂  - hₚ⋅k₂⋅l₂ ⋅m₂\n",
       "\n",
       "                                                                              \n",
       "                                                                         ⅈ⋅ω⋅t\n",
       "────────────────────────────────────────────────────────────────── = z₁⋅ℯ     \n",
       "  2                                                              2            \n",
       "⋅ω  + 2⋅ⅈ⋅hₚ⋅k_c⋅kₛ⋅ξ + 2⋅hₚ⋅k_c⋅kₛ + hₚ⋅k_c⋅k_{b2} - hₚ⋅k_c⋅m₂⋅ω             "
      ]
     },
     "metadata": {},
     "output_type": "display_data"
    },
    {
     "data": {
      "image/png": "[encoded data removed]",
      "text/latex": [
       "$\\displaystyle \\frac{h_{p} k_{2} l_{2} \\omega^{2} u \\left(\\sin{\\left(\\phi_{u} \\right)} - i \\cos{\\left(\\phi_{u} \\right)}\\right)}{- 2 F_{0s} I_{t} c_{s} \\omega^{2} - 2 F_{0s} I_{t} \\omega^{2} - 2 F_{0s} c_{s} g l_{g} m_{r} + 2 F_{0s} c_{s} k_{1} l_{1}^{2} + 2 F_{0s} c_{s} k_{2} l_{2}^{2} + 2 F_{0s} c_{s} k_{c} - 2 F_{0s} g l_{g} m_{r} + 2 F_{0s} k_{1} l_{1}^{2} + 2 F_{0s} k_{2} l_{2}^{2} + 2 F_{0s} k_{c} - I_{t} h_{p} k_{2} \\omega^{2} - 2 i I_{t} h_{p} k_{s} \\omega^{2} \\xi - 2 I_{t} h_{p} k_{s} \\omega^{2} - I_{t} h_{p} k_{b2} \\omega^{2} + I_{t} h_{p} m_{2} \\omega^{4} - g h_{p} k_{2} l_{g} m_{r} - 2 i g h_{p} k_{s} l_{g} m_{r} \\xi - 2 g h_{p} k_{s} l_{g} m_{r} - g h_{p} k_{b2} l_{g} m_{r} + g h_{p} l_{g} m_{2} m_{r} \\omega^{2} + h_{p} k_{1} k_{2} l_{1}^{2} + 2 i h_{p} k_{1} k_{s} l_{1}^{2} \\xi + 2 h_{p} k_{1} k_{s} l_{1}^{2} + h_{p} k_{1} k_{b2} l_{1}^{2} - h_{p} k_{1} l_{1}^{2} m_{2} \\omega^{2} + h_{p} k_{2} k_{c} + 2 i h_{p} k_{2} k_{s} l_{2}^{2} \\xi + 2 h_{p} k_{2} k_{s} l_{2}^{2} + h_{p} k_{2} k_{b2} l_{2}^{2} - h_{p} k_{2} l_{2}^{2} m_{2} \\omega^{2} + 2 i h_{p} k_{c} k_{s} \\xi + 2 h_{p} k_{c} k_{s} + h_{p} k_{c} k_{b2} - h_{p} k_{c} m_{2} \\omega^{2}} = z_{2} e^{i \\omega t}$"
      ],
      "text/plain": [
       "                                                                              \n",
       "                                                                              \n",
       "──────────────────────────────────────────────────────────────────────────────\n",
       "                  2                2                                          \n",
       "- 2⋅F_{0s}⋅Iₜ⋅cₛ⋅ω  - 2⋅F_{0s}⋅Iₜ⋅ω  - 2⋅F_{0s}⋅cₛ⋅g⋅l_g⋅mᵣ + 2⋅F_{0s}⋅cₛ⋅k₁⋅l\n",
       "\n",
       "                                                                              \n",
       "                                                                              \n",
       "──────────────────────────────────────────────────────────────────────────────\n",
       " 2                    2                                                       \n",
       "₁  + 2⋅F_{0s}⋅cₛ⋅k₂⋅l₂  + 2⋅F_{0s}⋅cₛ⋅k_c - 2⋅F_{0s}⋅g⋅l_g⋅mᵣ + 2⋅F_{0s}⋅k₁⋅l₁\n",
       "\n",
       "                                                                              \n",
       "                                                                              \n",
       "──────────────────────────────────────────────────────────────────────────────\n",
       "2                 2                            2                 2            \n",
       "  + 2⋅F_{0s}⋅k₂⋅l₂  + 2⋅F_{0s}⋅k_c - Iₜ⋅hₚ⋅k₂⋅ω  - 2⋅ⅈ⋅Iₜ⋅hₚ⋅kₛ⋅ω ⋅ξ - 2⋅Iₜ⋅hₚ\n",
       "\n",
       "                                                                2             \n",
       "                                                      hₚ⋅k₂⋅l₂⋅ω ⋅u⋅(sin(φᵤ) -\n",
       "──────────────────────────────────────────────────────────────────────────────\n",
       "     2                 2             4                                        \n",
       "⋅kₛ⋅ω  - Iₜ⋅hₚ⋅k_{b2}⋅ω  + Iₜ⋅hₚ⋅m₂⋅ω  - g⋅hₚ⋅k₂⋅l_g⋅mᵣ - 2⋅ⅈ⋅g⋅hₚ⋅kₛ⋅l_g⋅mᵣ⋅ξ\n",
       "\n",
       "                                                                              \n",
       " ⅈ⋅cos(φᵤ))                                                                   \n",
       "──────────────────────────────────────────────────────────────────────────────\n",
       "                                                           2              2   \n",
       " - 2⋅g⋅hₚ⋅kₛ⋅l_g⋅mᵣ - g⋅hₚ⋅k_{b2}⋅l_g⋅mᵣ + g⋅hₚ⋅l_g⋅m₂⋅mᵣ⋅ω  + hₚ⋅k₁⋅k₂⋅l₁  + \n",
       "\n",
       "                                                                              \n",
       "                                                                              \n",
       "──────────────────────────────────────────────────────────────────────────────\n",
       "               2                  2                  2           2     2      \n",
       "2⋅ⅈ⋅hₚ⋅k₁⋅kₛ⋅l₁ ⋅ξ + 2⋅hₚ⋅k₁⋅kₛ⋅l₁  + hₚ⋅k₁⋅k_{b2}⋅l₁  - hₚ⋅k₁⋅l₁ ⋅m₂⋅ω  + hₚ⋅\n",
       "\n",
       "                                                                              \n",
       "                                                                              \n",
       "──────────────────────────────────────────────────────────────────────────────\n",
       "                        2                  2                  2           2   \n",
       "k₂⋅k_c + 2⋅ⅈ⋅hₚ⋅k₂⋅kₛ⋅l₂ ⋅ξ + 2⋅hₚ⋅k₂⋅kₛ⋅l₂  + hₚ⋅k₂⋅k_{b2}⋅l₂  - hₚ⋅k₂⋅l₂ ⋅m₂\n",
       "\n",
       "                                                                              \n",
       "                                                                         ⅈ⋅ω⋅t\n",
       "────────────────────────────────────────────────────────────────── = z₂⋅ℯ     \n",
       "  2                                                              2            \n",
       "⋅ω  + 2⋅ⅈ⋅hₚ⋅k_c⋅kₛ⋅ξ + 2⋅hₚ⋅k_c⋅kₛ + hₚ⋅k_c⋅k_{b2} - hₚ⋅k_c⋅m₂⋅ω             "
      ]
     },
     "metadata": {},
     "output_type": "display_data"
    }
   ],
   "source": [
    "lign1 = Eq(simplify(sol[0]), z_1*exp(I*omega*t))\n",
    "lign2 = Eq(simplify(sol[1]), z_2*exp(I*omega*t))\n",
    "\n",
    "display(lign1, lign2)"
   ]
  },
  {
   "cell_type": "code",
   "execution_count": null,
   "metadata": {},
   "outputs": [],
   "source": []
  }
 ],
 "metadata": {
  "kernelspec": {
   "display_name": "Python 3.11.2 64-bit",
   "language": "python",
   "name": "python3"
  },
  "language_info": {
   "codemirror_mode": {
    "name": "ipython",
    "version": 3
   },
   "file_extension": ".py",
   "mimetype": "text/x-python",
   "name": "python",
   "nbconvert_exporter": "python",
   "pygments_lexer": "ipython3",
   "version": "3.11.2"
  },
  "orig_nbformat": 4,
  "vscode": {
   "interpreter": {
    "hash": "b0fa6594d8f4cbf19f97940f81e996739fb7646882a419484c72d19e05852a7e"
   }
  }
 },
 "nbformat": 4,
 "nbformat_minor": 2
}
