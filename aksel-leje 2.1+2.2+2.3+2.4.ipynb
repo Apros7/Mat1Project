{
 "cells": [
  {
   "cell_type": "markdown",
   "metadata": {},
   "source": [
    "# Mat1 projekt opgave 2.1, 2.2 2.3"
   ]
  },
  {
   "cell_type": "code",
   "execution_count": 32,
   "metadata": {},
   "outputs": [],
   "source": [
    "from sympy import *\n",
    "from dtumathtools import *\n",
    "init_printing()\n",
    "from dtumathtools import *"
   ]
  },
  {
   "cell_type": "markdown",
   "metadata": {},
   "source": [
    "## 2.1"
   ]
  },
  {
   "cell_type": "code",
   "execution_count": 77,
   "metadata": {},
   "outputs": [],
   "source": [
    "x,y,c,k,m,t = symbols('x y c k m t')\n",
    "l = symbols('lambda')\n",
    "k_s, delta = symbols('k_s delta')\n",
    "v = symbols('v')"
   ]
  },
  {
   "cell_type": "code",
   "execution_count": 78,
   "metadata": {},
   "outputs": [
    {
     "data": {
      "image/png": "[encoded data removed]",
      "text/latex": [
       "$\\displaystyle \\left[ - \\sqrt{\\frac{k_{s} \\left(i \\tan{\\left(\\delta \\right)} + 1\\right)}{m}}, \\  \\sqrt{\\frac{k_{s} \\left(i \\tan{\\left(\\delta \\right)} + 1\\right)}{m}}\\right]$"
      ],
      "text/plain": [
       "⎡     ___________________      ___________________⎤\n",
       "⎢    ╱ kₛ⋅(ⅈ⋅tan(δ) + 1)      ╱ kₛ⋅(ⅈ⋅tan(δ) + 1) ⎥\n",
       "⎢-  ╱  ───────────────── ,   ╱  ───────────────── ⎥\n",
       "⎣ ╲╱           m           ╲╱           m         ⎦"
      ]
     },
     "metadata": {},
     "output_type": "display_data"
    }
   ],
   "source": [
    "lign = m*c*l**2*exp(l*t) - (k_s*(1+tan(delta)*I))*c*exp(l*t)\n",
    "lam_løs = solve(Eq(lign,0),l)\n",
    "display(lam_løs)"
   ]
  },
  {
   "cell_type": "code",
   "execution_count": 79,
   "metadata": {},
   "outputs": [
    {
     "data": {
      "text/plain": [
       "'a, som er realdelen'"
      ]
     },
     "metadata": {},
     "output_type": "display_data"
    },
    {
     "data": {
      "image/png": "[encoded data removed]",
      "text/latex": [
       "$\\displaystyle - \\frac{k_{s}}{m}$"
      ],
      "text/plain": [
       "-kₛ \n",
       "────\n",
       " m  "
      ]
     },
     "metadata": {},
     "output_type": "display_data"
    },
    {
     "data": {
      "text/plain": [
       "'b, som er imaginær delen'"
      ]
     },
     "metadata": {},
     "output_type": "display_data"
    },
    {
     "data": {
      "image/png": "[encoded data removed]",
      "text/latex": [
       "$\\displaystyle - \\frac{k_{s} \\tan{\\left(\\delta \\right)}}{m}$"
      ],
      "text/plain": [
       "-kₛ⋅tan(δ) \n",
       "───────────\n",
       "     m     "
      ]
     },
     "metadata": {},
     "output_type": "display_data"
    },
    {
     "data": {
      "text/plain": [
       "'modulo z'"
      ]
     },
     "metadata": {},
     "output_type": "display_data"
    },
    {
     "data": {
      "image/png": "[encoded data removed]",
      "text/latex": [
       "$\\displaystyle \\left|{\\frac{k_{s}}{m \\cos{\\left(\\delta \\right)}}}\\right|$"
      ],
      "text/plain": [
       "│   kₛ   │\n",
       "│────────│\n",
       "│m⋅cos(δ)│"
      ]
     },
     "metadata": {},
     "output_type": "display_data"
    },
    {
     "data": {
      "text/plain": [
       "'De to udtryk for vinklerne som kan løses for v'"
      ]
     },
     "metadata": {},
     "output_type": "display_data"
    },
    {
     "data": {
      "image/png": "[encoded data removed]",
      "text/latex": [
       "$\\displaystyle \\cos{\\left(v \\right)} = - \\frac{k_{s}}{m \\left|{\\frac{k_{s}}{m \\cos{\\left(\\delta \\right)}}}\\right|}$"
      ],
      "text/plain": [
       "             -kₛ     \n",
       "cos(v) = ────────────\n",
       "           │   kₛ   │\n",
       "         m⋅│────────│\n",
       "           │m⋅cos(δ)│"
      ]
     },
     "metadata": {},
     "output_type": "display_data"
    },
    {
     "data": {
      "image/png": "[encoded data removed]",
      "text/latex": [
       "$\\displaystyle \\sin{\\left(v \\right)} = - \\frac{k_{s} \\tan{\\left(\\delta \\right)}}{m \\left|{\\frac{k_{s}}{m \\cos{\\left(\\delta \\right)}}}\\right|}$"
      ],
      "text/plain": [
       "         -kₛ⋅tan(δ)  \n",
       "sin(v) = ────────────\n",
       "           │   kₛ   │\n",
       "         m⋅│────────│\n",
       "           │m⋅cos(δ)│"
      ]
     },
     "metadata": {},
     "output_type": "display_data"
    },
    {
     "data": {
      "text/plain": [
       "'Den ene løsning, hvor a bruges'"
      ]
     },
     "metadata": {},
     "output_type": "display_data"
    },
    {
     "data": {
      "image/png": "[encoded data removed]",
      "text/latex": [
       "$\\displaystyle \\left[ - \\operatorname{acos}{\\left(- \\frac{k_{s}}{m \\left|{\\frac{k_{s}}{m \\cos{\\left(\\delta \\right)}}}\\right|} \\right)} + 2 \\pi, \\  \\operatorname{acos}{\\left(- \\frac{k_{s}}{m \\left|{\\frac{k_{s}}{m \\cos{\\left(\\delta \\right)}}}\\right|} \\right)}\\right]$"
      ],
      "text/plain": [
       "⎡      ⎛    -kₛ     ⎞            ⎛    -kₛ     ⎞⎤\n",
       "⎢- acos⎜────────────⎟ + 2⋅π, acos⎜────────────⎟⎥\n",
       "⎢      ⎜  │   kₛ   │⎟            ⎜  │   kₛ   │⎟⎥\n",
       "⎢      ⎜m⋅│────────│⎟            ⎜m⋅│────────│⎟⎥\n",
       "⎣      ⎝  │m⋅cos(δ)│⎠            ⎝  │m⋅cos(δ)│⎠⎦"
      ]
     },
     "metadata": {},
     "output_type": "display_data"
    },
    {
     "data": {
      "text/plain": [
       "'Den anden løsning, hvor b bruges'"
      ]
     },
     "metadata": {},
     "output_type": "display_data"
    },
    {
     "data": {
      "image/png": "[encoded data removed]",
      "text/latex": [
       "$\\displaystyle \\left[ \\operatorname{asin}{\\left(\\frac{k_{s} \\tan{\\left(\\delta \\right)}}{m \\left|{\\frac{k_{s}}{m \\cos{\\left(\\delta \\right)}}}\\right|} \\right)} + \\pi, \\  - \\operatorname{asin}{\\left(\\frac{k_{s} \\tan{\\left(\\delta \\right)}}{m \\left|{\\frac{k_{s}}{m \\cos{\\left(\\delta \\right)}}}\\right|} \\right)}\\right]$"
      ],
      "text/plain": [
       "⎡    ⎛ kₛ⋅tan(δ)  ⎞           ⎛ kₛ⋅tan(δ)  ⎞⎤\n",
       "⎢asin⎜────────────⎟ + π, -asin⎜────────────⎟⎥\n",
       "⎢    ⎜  │   kₛ   │⎟           ⎜  │   kₛ   │⎟⎥\n",
       "⎢    ⎜m⋅│────────│⎟           ⎜m⋅│────────│⎟⎥\n",
       "⎣    ⎝  │m⋅cos(δ)│⎠           ⎝  │m⋅cos(δ)│⎠⎦"
      ]
     },
     "metadata": {},
     "output_type": "display_data"
    }
   ],
   "source": [
    "k_s, m, delta = symbols('k_s m delta', real=True)\n",
    "\n",
    "a = -k_s/m\n",
    "b = -k_s*tan(delta)/m\n",
    "display(\"a, som er realdelen\",a)\n",
    "display(\"b, som er imaginær delen\",b)\n",
    "\n",
    "modulo_z = simplify(sqrt(a**2 + b**2))\n",
    "display(\"modulo z\",modulo_z)\n",
    "\n",
    "lign1 = Eq(cos(v),a/modulo_z)\n",
    "lign2 = (Eq(sin(v),b/modulo_z))\n",
    "display(\"De to udtryk for vinklerne som kan løses for v\",lign1,lign2)\n",
    "\n",
    "display(\"Den ene løsning, hvor a bruges\",solve(lign1,v))\n",
    "\n",
    "display(\"Den anden løsning, hvor b bruges\",solve(lign2,v))"
   ]
  },
  {
   "cell_type": "markdown",
   "metadata": {},
   "source": [
    "## Opgave 2.2"
   ]
  },
  {
   "cell_type": "code",
   "execution_count": 80,
   "metadata": {},
   "outputs": [
    {
     "data": {
      "text/plain": [
       "'De to løsninger for lambda'"
      ]
     },
     "metadata": {},
     "output_type": "display_data"
    },
    {
     "data": {
      "image/png": "[encoded data removed]",
      "text/latex": [
       "$\\displaystyle \\left(- \\sin{\\left(\\frac{\\delta}{2} \\right)} + i \\cos{\\left(\\frac{\\delta}{2} \\right)}\\right) \\sqrt{\\left|{\\frac{k_{s}}{m \\cos{\\left(\\delta \\right)}}}\\right|}$"
      ],
      "text/plain": [
       "                          ____________\n",
       "⎛     ⎛δ⎞        ⎛δ⎞⎞    ╱ │   kₛ   │ \n",
       "⎜- sin⎜─⎟ + ⅈ⋅cos⎜─⎟⎟⋅  ╱  │────────│ \n",
       "⎝     ⎝2⎠        ⎝2⎠⎠ ╲╱   │m⋅cos(δ)│ "
      ]
     },
     "metadata": {},
     "output_type": "display_data"
    },
    {
     "data": {
      "image/png": "[encoded data removed]",
      "text/latex": [
       "$\\displaystyle \\left(\\sin{\\left(\\frac{\\delta}{2} \\right)} - i \\cos{\\left(\\frac{\\delta}{2} \\right)}\\right) \\sqrt{\\left|{\\frac{k_{s}}{m \\cos{\\left(\\delta \\right)}}}\\right|}$"
      ],
      "text/plain": [
       "                        ____________\n",
       "⎛   ⎛δ⎞        ⎛δ⎞⎞    ╱ │   kₛ   │ \n",
       "⎜sin⎜─⎟ - ⅈ⋅cos⎜─⎟⎟⋅  ╱  │────────│ \n",
       "⎝   ⎝2⎠        ⎝2⎠⎠ ╲╱   │m⋅cos(δ)│ "
      ]
     },
     "metadata": {},
     "output_type": "display_data"
    },
    {
     "data": {
      "text/plain": [
       "'De to løsninger for z(t)'"
      ]
     },
     "metadata": {},
     "output_type": "display_data"
    },
    {
     "data": {
      "image/png": "[encoded data removed]",
      "text/latex": [
       "$\\displaystyle e^{t \\left(- \\sin{\\left(\\frac{\\delta}{2} \\right)} + i \\cos{\\left(\\frac{\\delta}{2} \\right)}\\right) \\sqrt{\\left|{\\frac{k_{s}}{m \\cos{\\left(\\delta \\right)}}}\\right|}} \\sqrt{\\left|{\\frac{k_{s}}{m \\cos{\\left(\\delta \\right)}}}\\right|}$"
      ],
      "text/plain": [
       "                             ____________                 \n",
       "   ⎛     ⎛δ⎞        ⎛δ⎞⎞    ╱ │   kₛ   │                  \n",
       " t⋅⎜- sin⎜─⎟ + ⅈ⋅cos⎜─⎟⎟⋅  ╱  │────────│      ____________\n",
       "   ⎝     ⎝2⎠        ⎝2⎠⎠ ╲╱   │m⋅cos(δ)│     ╱ │   kₛ   │ \n",
       "ℯ                                        ⋅  ╱  │────────│ \n",
       "                                          ╲╱   │m⋅cos(δ)│ "
      ]
     },
     "metadata": {},
     "output_type": "display_data"
    },
    {
     "data": {
      "image/png": "[encoded data removed]",
      "text/latex": [
       "$\\displaystyle e^{t \\left(\\sin{\\left(\\frac{\\delta}{2} \\right)} - i \\cos{\\left(\\frac{\\delta}{2} \\right)}\\right) \\sqrt{\\left|{\\frac{k_{s}}{m \\cos{\\left(\\delta \\right)}}}\\right|}} \\sqrt{\\left|{\\frac{k_{s}}{m \\cos{\\left(\\delta \\right)}}}\\right|}$"
      ],
      "text/plain": [
       "                           ____________                 \n",
       "   ⎛   ⎛δ⎞        ⎛δ⎞⎞    ╱ │   kₛ   │                  \n",
       " t⋅⎜sin⎜─⎟ - ⅈ⋅cos⎜─⎟⎟⋅  ╱  │────────│      ____________\n",
       "   ⎝   ⎝2⎠        ⎝2⎠⎠ ╲╱   │m⋅cos(δ)│     ╱ │   kₛ   │ \n",
       "ℯ                                      ⋅  ╱  │────────│ \n",
       "                                        ╲╱   │m⋅cos(δ)│ "
      ]
     },
     "metadata": {},
     "output_type": "display_data"
    },
    {
     "data": {
      "text/plain": [
       "'Den deriverte ligning'"
      ]
     },
     "metadata": {},
     "output_type": "display_data"
    },
    {
     "data": {
      "image/png": "[encoded data removed]",
      "text/latex": [
       "$\\displaystyle k_{s} z{\\left(t \\right)} + m \\frac{d^{2}}{d t^{2}} z{\\left(t \\right)} = 0$"
      ],
      "text/plain": [
       "              2          \n",
       "             d           \n",
       "kₛ⋅z(t) + m⋅───(z(t)) = 0\n",
       "              2          \n",
       "            dt           "
      ]
     },
     "metadata": {},
     "output_type": "display_data"
    },
    {
     "data": {
      "image/png": "[encoded data removed]",
      "text/latex": [
       "$\\displaystyle z{\\left(t \\right)} = C_{1} e^{- t \\sqrt{- \\frac{k_{s}}{m}}} + C_{2} e^{t \\sqrt{- \\frac{k_{s}}{m}}}$"
      ],
      "text/plain": [
       "                  ______             ______\n",
       "                 ╱ -kₛ              ╱ -kₛ  \n",
       "           -t⋅  ╱  ────        t⋅  ╱  ──── \n",
       "              ╲╱    m            ╲╱    m   \n",
       "z(t) = C₁⋅ℯ              + C₂⋅ℯ            "
      ]
     },
     "execution_count": 80,
     "metadata": {},
     "output_type": "execute_result"
    }
   ],
   "source": [
    "l1 = sqrt(modulo_z)*(-sin(delta/2)+I*cos(delta/2))\n",
    "l2 = sqrt(modulo_z)*(sin(delta/2)-I*cos(delta/2))\n",
    "display(\"De to løsninger for lambda\",l1,l2)\n",
    "\n",
    "z_1 = sqrt(modulo_z)*exp(l1*t)\n",
    "z_2 = sqrt(modulo_z)*exp(l2*t)\n",
    "display(\"De to løsninger for z(t)\",z_1,z_2)\n",
    "\n",
    "z = Function('z')(t)\n",
    "\n",
    "dlign = Eq(m*diff(z,t,2)+k_s*z,0)\n",
    "display(\"Den deriverte ligning\",dlign)\n",
    "\n",
    "dsolve(dlign,z)"
   ]
  },
  {
   "cell_type": "code",
   "execution_count": 81,
   "metadata": {},
   "outputs": [
    {
     "data": {
      "image/png": "[encoded data removed]",
      "text/latex": [
       "$\\displaystyle 2 k_{s} \\cosh{\\left(t \\left(\\sin{\\left(\\frac{\\delta}{2} \\right)} - i \\cos{\\left(\\frac{\\delta}{2} \\right)}\\right) \\sqrt{\\left|{\\frac{k_{s}}{m \\cos{\\left(\\delta \\right)}}}\\right|} \\right)} \\sqrt{\\left|{\\frac{k_{s}}{m \\cos{\\left(\\delta \\right)}}}\\right|} + 2 m \\left(\\sin{\\left(\\frac{\\delta}{2} \\right)} - i \\cos{\\left(\\frac{\\delta}{2} \\right)}\\right)^{2} \\cosh{\\left(t \\left(\\sin{\\left(\\frac{\\delta}{2} \\right)} - i \\cos{\\left(\\frac{\\delta}{2} \\right)}\\right) \\sqrt{\\left|{\\frac{k_{s}}{m \\cos{\\left(\\delta \\right)}}}\\right|} \\right)} \\left|{\\frac{k_{s}}{m \\cos{\\left(\\delta \\right)}}}\\right|^{\\frac{3}{2}} = 0$"
      ],
      "text/plain": [
       "         ⎛                          ____________⎞     ____________            \n",
       "         ⎜  ⎛   ⎛δ⎞        ⎛δ⎞⎞    ╱ │   kₛ   │ ⎟    ╱ │   kₛ   │        ⎛   ⎛\n",
       "2⋅kₛ⋅cosh⎜t⋅⎜sin⎜─⎟ - ⅈ⋅cos⎜─⎟⎟⋅  ╱  │────────│ ⎟⋅  ╱  │────────│  + 2⋅m⋅⎜sin⎜\n",
       "         ⎝  ⎝   ⎝2⎠        ⎝2⎠⎠ ╲╱   │m⋅cos(δ)│ ⎠ ╲╱   │m⋅cos(δ)│        ⎝   ⎝\n",
       "\n",
       "              2     ⎛                          ____________⎞           3/2    \n",
       "δ⎞        ⎛δ⎞⎞      ⎜  ⎛   ⎛δ⎞        ⎛δ⎞⎞    ╱ │   kₛ   │ ⎟ │   kₛ   │       \n",
       "─⎟ - ⅈ⋅cos⎜─⎟⎟ ⋅cosh⎜t⋅⎜sin⎜─⎟ - ⅈ⋅cos⎜─⎟⎟⋅  ╱  │────────│ ⎟⋅│────────│    = 0\n",
       "2⎠        ⎝2⎠⎠      ⎝  ⎝   ⎝2⎠        ⎝2⎠⎠ ╲╱   │m⋅cos(δ)│ ⎠ │m⋅cos(δ)│       "
      ]
     },
     "execution_count": 81,
     "metadata": {},
     "output_type": "execute_result"
    }
   ],
   "source": [
    "z_løs = simplify(z_1 + z_2)\n",
    "\n",
    "simplify(dlign.subs(z,z_løs))"
   ]
  },
  {
   "cell_type": "markdown",
   "metadata": {},
   "source": [
    "## 2.3"
   ]
  },
  {
   "cell_type": "code",
   "execution_count": 82,
   "metadata": {},
   "outputs": [
    {
     "data": {
      "image/png": "[encoded data removed]",
      "text/plain": [
       "<Figure size 640x480 with 1 Axes>"
      ]
     },
     "metadata": {},
     "output_type": "display_data"
    }
   ],
   "source": [
    "# Bestemmer x1(t) og x2(t) ud fra z(t)\n",
    "c1,c2 = symbols('c1 c2')\n",
    "x1 = re(z_1)\n",
    "x2 = re(z_2)\n",
    "\n",
    "# ks = 2, m = 3, plotter for forskellige værdier af delta\n",
    "# prøver med en masse værdier på x1\n",
    "\n",
    "# delta positiv giver konvergente løsninger for x1\n",
    "p1 = plot(re(z_1.subs({k_s:2,m:3,delta:1,c1:I})), show = False) # konvergent\n",
    "p2 = plot(re(z_1.subs({k_s:2,m:3,delta:1,c1:-I})), show = False) # konvergent\n",
    "p3 = plot(re(z_1.subs({k_s:2,m:3,delta:-1,c1:I})), show = False) # divergent, ens med p4\n",
    "p4 = plot(re(z_1.subs({k_s:2,m:3,delta:-1,c1:-I})), show = False) # divergent, ens med p3\n",
    "\n",
    "p1.title = ('x1(t) for delta = 1, konvergent')\n",
    "p1.show()"
   ]
  },
  {
   "cell_type": "code",
   "execution_count": 83,
   "metadata": {},
   "outputs": [
    {
     "data": {
      "image/png": "[encoded data removed]",
      "text/plain": [
       "<Figure size 640x480 with 1 Axes>"
      ]
     },
     "metadata": {},
     "output_type": "display_data"
    }
   ],
   "source": [
    "# for x2\n",
    "# der er asltid en af de to x(t) løsninbger som er konvergent og går mod 0, for x1(t) er det for delta større end 0 og for x2(t) er det for delta mindre end 0\n",
    "\n",
    "p5 = plot(x2.subs({k_s:2,m:3,delta:1,c2:1}), show = False) # div\n",
    "p6 = plot(x2.subs({k_s:2,m:3,delta:1,c2:-1}), show = False) # div\n",
    "p7 = plot(x2.subs({k_s:2,m:3,delta:-1,c2:1}), show = False) # kon\n",
    "p8 = plot(x2.subs({k_s:2,m:3,delta:-1,c2:-1}), show = False) # kon\n",
    "\n",
    "p5.show()"
   ]
  },
  {
   "cell_type": "markdown",
   "metadata": {},
   "source": [
    "## 2.4"
   ]
  },
  {
   "cell_type": "code",
   "execution_count": 86,
   "metadata": {},
   "outputs": [
    {
     "data": {
      "text/plain": [
       "'lambda 1'"
      ]
     },
     "metadata": {},
     "output_type": "display_data"
    },
    {
     "data": {
      "image/png": "[encoded data removed]",
      "text/latex": [
       "$\\displaystyle - \\frac{\\sqrt{6} \\sin{\\left(\\frac{1}{2} \\right)}}{3 \\sqrt{\\cos{\\left(1 \\right)}}} + \\frac{\\sqrt{6} i \\cos{\\left(\\frac{1}{2} \\right)}}{3 \\sqrt{\\cos{\\left(1 \\right)}}}$"
      ],
      "text/plain": [
       "  √6⋅sin(1/2)    √6⋅ⅈ⋅cos(1/2)\n",
       "- ──────────── + ─────────────\n",
       "      ________        ________\n",
       "  3⋅╲╱ cos(1)     3⋅╲╱ cos(1) "
      ]
     },
     "metadata": {},
     "output_type": "display_data"
    },
    {
     "data": {
      "text/plain": [
       "'lambda 2'"
      ]
     },
     "metadata": {},
     "output_type": "display_data"
    },
    {
     "data": {
      "image/png": "[encoded data removed]",
      "text/latex": [
       "$\\displaystyle \\frac{\\sqrt{6} \\sin{\\left(\\frac{1}{2} \\right)}}{3 \\sqrt{\\cos{\\left(1 \\right)}}} - \\frac{\\sqrt{6} i \\cos{\\left(\\frac{1}{2} \\right)}}{3 \\sqrt{\\cos{\\left(1 \\right)}}}$"
      ],
      "text/plain": [
       "√6⋅sin(1/2)    √6⋅ⅈ⋅cos(1/2)\n",
       "──────────── - ─────────────\n",
       "    ________        ________\n",
       "3⋅╲╱ cos(1)     3⋅╲╱ cos(1) "
      ]
     },
     "metadata": {},
     "output_type": "display_data"
    },
    {
     "data": {
      "text/plain": [
       "'E1 for lambda 1, dæmpningsfaktor'"
      ]
     },
     "metadata": {},
     "output_type": "display_data"
    },
    {
     "data": {
      "image/png": "[encoded data removed]",
      "text/latex": [
       "$\\displaystyle \\sin{\\left(\\frac{1}{2} \\right)}$"
      ],
      "text/plain": [
       "sin(1/2)"
      ]
     },
     "metadata": {},
     "output_type": "display_data"
    },
    {
     "data": {
      "text/plain": [
       "'E2 for lambda 2, dæmpningsfaktor'"
      ]
     },
     "metadata": {},
     "output_type": "display_data"
    },
    {
     "data": {
      "image/png": "[encoded data removed]",
      "text/latex": [
       "$\\displaystyle - \\sin{\\left(\\frac{1}{2} \\right)}$"
      ],
      "text/plain": [
       "-sin(1/2)"
      ]
     },
     "metadata": {},
     "output_type": "display_data"
    },
    {
     "data": {
      "text/plain": [
       "'w_d1, dæmpede egensvingningsfrekvens for lambda1'"
      ]
     },
     "metadata": {},
     "output_type": "display_data"
    },
    {
     "data": {
      "image/png": "[encoded data removed]",
      "text/latex": [
       "$\\displaystyle \\frac{\\sqrt{6} \\cos{\\left(\\frac{1}{2} \\right)}}{3 \\sqrt{\\cos{\\left(1 \\right)}}}$"
      ],
      "text/plain": [
       "√6⋅cos(1/2) \n",
       "────────────\n",
       "    ________\n",
       "3⋅╲╱ cos(1) "
      ]
     },
     "metadata": {},
     "output_type": "display_data"
    },
    {
     "data": {
      "text/plain": [
       "'w_d2, dæmpede egensvingningsfrekvens for lambda2'"
      ]
     },
     "metadata": {},
     "output_type": "display_data"
    },
    {
     "data": {
      "image/png": "[encoded data removed]",
      "text/latex": [
       "$\\displaystyle \\frac{\\sqrt{6} \\cos{\\left(\\frac{1}{2} \\right)}}{3 \\sqrt{\\cos{\\left(1 \\right)}}}$"
      ],
      "text/plain": [
       "√6⋅cos(1/2) \n",
       "────────────\n",
       "    ________\n",
       "3⋅╲╱ cos(1) "
      ]
     },
     "metadata": {},
     "output_type": "display_data"
    },
    {
     "data": {
      "text/plain": [
       "'w_n1, udæmpede egensvingningsfrekvens for lambda1'"
      ]
     },
     "metadata": {},
     "output_type": "display_data"
    },
    {
     "data": {
      "image/png": "[encoded data removed]",
      "text/latex": [
       "$\\displaystyle \\frac{\\sqrt{6}}{3 \\sqrt{\\cos{\\left(1 \\right)}}}$"
      ],
      "text/plain": [
       "     √6     \n",
       "────────────\n",
       "    ________\n",
       "3⋅╲╱ cos(1) "
      ]
     },
     "metadata": {},
     "output_type": "display_data"
    },
    {
     "data": {
      "text/plain": [
       "'w_n2, udæmpede egensvingningsfrekvens for lambda2'"
      ]
     },
     "metadata": {},
     "output_type": "display_data"
    },
    {
     "data": {
      "image/png": "[encoded data removed]",
      "text/latex": [
       "$\\displaystyle \\frac{\\sqrt{6}}{3 \\sqrt{\\cos{\\left(1 \\right)}}}$"
      ],
      "text/plain": [
       "     √6     \n",
       "────────────\n",
       "    ________\n",
       "3⋅╲╱ cos(1) "
      ]
     },
     "metadata": {},
     "output_type": "display_data"
    },
    {
     "data": {
      "text/plain": [
       "'T1, svingningsperiode for lambda1'"
      ]
     },
     "metadata": {},
     "output_type": "display_data"
    },
    {
     "data": {
      "image/png": "[encoded data removed]",
      "text/latex": [
       "$\\displaystyle \\frac{\\sqrt{6} \\pi \\sqrt{\\cos{\\left(1 \\right)}}}{\\cos{\\left(\\frac{1}{2} \\right)}}$"
      ],
      "text/plain": [
       "       ________\n",
       "√6⋅π⋅╲╱ cos(1) \n",
       "───────────────\n",
       "    cos(1/2)   "
      ]
     },
     "metadata": {},
     "output_type": "display_data"
    },
    {
     "data": {
      "text/plain": [
       "'T2, svingningsperiode for lambda2'"
      ]
     },
     "metadata": {},
     "output_type": "display_data"
    },
    {
     "data": {
      "image/png": "[encoded data removed]",
      "text/latex": [
       "$\\displaystyle \\frac{\\sqrt{6} \\pi \\sqrt{\\cos{\\left(1 \\right)}}}{\\cos{\\left(\\frac{1}{2} \\right)}}$"
      ],
      "text/plain": [
       "       ________\n",
       "√6⋅π⋅╲╱ cos(1) \n",
       "───────────────\n",
       "    cos(1/2)   "
      ]
     },
     "metadata": {},
     "output_type": "display_data"
    }
   ],
   "source": [
    "# Definerer lambda på rektangulær form:\n",
    "l, m, k_s, delta = symbols('lambda m k_s delta')\n",
    "\n",
    "l1 = (sqrt(k_s/(m*cos(delta)))*I*cos(delta/2) - sqrt(k_s/(m*cos(delta)))*sin(delta/2)).subs({delta:1, k_s:2, m:3})\n",
    "display(\"lambda 1\",l1)\n",
    "l2 = (-sqrt(k_s/(m*cos(delta)))*I*cos(delta/2) + sqrt(k_s/(m*cos(delta)))*sin(delta/2)).subs({delta:1, k_s:2, m:3})\n",
    "display(\"lambda 2\",l2)\n",
    "\n",
    "# dæmpningsfaktor E\n",
    "E1 = simplify(-re(l1)/abs(l1))\n",
    "display(\"E1 for lambda 1, dæmpningsfaktor\",E1)\n",
    "E2 = simplify(-re(l2)/abs(l2))\n",
    "display(\"E2 for lambda 2, dæmpningsfaktor\",E2)\n",
    "\n",
    "# dæmpede egensvingningsfrekvens\n",
    "w_d1 = simplify(abs(im(l1)))\n",
    "display(\"w_d1, dæmpede egensvingningsfrekvens for lambda1\",w_d1)\n",
    "w_d2 = simplify(abs(im(l2)))\n",
    "display(\"w_d2, dæmpede egensvingningsfrekvens for lambda2\",w_d2)\n",
    "\n",
    "# udæmpede egensvingningsfrekvens\n",
    "w_n1 = simplify(abs(l1))\n",
    "display(\"w_n1, udæmpede egensvingningsfrekvens for lambda1\",w_n1)\n",
    "w_n2 = simplify(abs(l2))\n",
    "display(\"w_n2, udæmpede egensvingningsfrekvens for lambda2\",w_n2)\n",
    "\n",
    "# T = svingningsperiode\n",
    "T1 = simplify(2*pi/w_d1)\n",
    "display(\"T1, svingningsperiode for lambda1\",T1)\n",
    "T2 = simplify(2*pi/w_d2)\n",
    "display(\"T2, svingningsperiode for lambda2\",T2)\n",
    "\n",
    "# For at konvertere fra radianer/pr.sekund til hertz, divideres med 2*pi\n",
    "w_d1_hertz = w_d1/(2*pi)\n",
    "w_n1_hertz = w_n1/(2*pi)\n",
    "w_d2_hertz = w_d2/(2*pi)\n",
    "w_n2_hertz = w_n2/(2*pi)\n",
    "\n",
    "# En løsning er ustabil for E < 0, marginalt stabilt for E = 0 og stabil for E > 0\n",
    "\n",
    "# Jeg bestemmer disse 4 værdier for x1(t) og x2(t)\n"
   ]
  },
  {
   "cell_type": "code",
   "execution_count": null,
   "metadata": {},
   "outputs": [],
   "source": []
  }
 ],
 "metadata": {
  "kernelspec": {
   "display_name": "Python 3.11.2 64-bit",
   "language": "python",
   "name": "python3"
  },
  "language_info": {
   "codemirror_mode": {
    "name": "ipython",
    "version": 3
   },
   "file_extension": ".py",
   "mimetype": "text/x-python",
   "name": "python",
   "nbconvert_exporter": "python",
   "pygments_lexer": "ipython3",
   "version": "3.11.2"
  },
  "orig_nbformat": 4,
  "vscode": {
   "interpreter": {
    "hash": "b0fa6594d8f4cbf19f97940f81e996739fb7646882a419484c72d19e05852a7e"
   }
  }
 },
 "nbformat": 4,
 "nbformat_minor": 2
}
