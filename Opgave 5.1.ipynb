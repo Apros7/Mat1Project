{
 "cells": [
  {
   "cell_type": "markdown",
   "metadata": {},
   "source": [
    "# 5.1"
   ]
  },
  {
   "cell_type": "code",
   "execution_count": 2,
   "metadata": {},
   "outputs": [],
   "source": [
    "from sympy import *\n",
    "init_printing()\n",
    "from dtumathtools import *"
   ]
  },
  {
   "cell_type": "code",
   "execution_count": 3,
   "metadata": {},
   "outputs": [],
   "source": [
    "x, y, z, a, b, c = symbols('x y z a b c')\n",
    "k, w = symbols('k w', real=True)\n",
    "f, m, t, delta = symbols('f m t delta', real=True, positive=True)\n",
    "xi = symbols('xi', real=True)\n",
    "k_s = symbols('k_s', real=True, positive=True)\n",
    "\n",
    "k1, k2, kc, kb2, l1, l2, lg, it = symbols('k_1 k_2 k_c k_{b2} l_1 l_2 l_g I_t', real=True, positive=True)\n",
    "m2, mr, g, u, w, t, phiu = symbols('m_2 m_r g u omega t phi_u', real=True, positive=True)\n",
    "ffhm = symbols('F_FHM')\n",
    "kk3 = l2**(-2)*(kc+l1**2*k1-lg*mr*g)\n",
    "\n",
    "y1, y2 = Function('y_1')(t), Function('y_2')(t)\n",
    "z1, z2 = Function('z_1')(t), Function('z_2')(t)\n",
    "\n",
    "M = Matrix([[l2**(-2)*it, 0], [0, m2]])\n",
    "K = Matrix([[k2+l2**(-2)*(kc+l1**2*k1-lg*mr*g), -k2], [-k2, k2+kb2]])\n",
    "ft = Matrix([l2**(-1)*u*w**2*sin(w*t+phiu), 0])\n",
    "yt = Matrix([y1, y2])\n",
    "zt = Matrix([z1, z2])\n",
    "\n",
    "k2, k3, k4, k5 = symbols('k_2 k_3 k_4 k_5')\n",
    "f1, f2 = symbols('f_1 f_2', real=True)\n",
    "K = Matrix([[k2 + k3, -k2], [-k2, k2 + k4]])\n",
    "FFHM = Matrix([[0, 0],[0, k5]])\n",
    "f = Matrix([f1, f2])\n",
    "f_re = re(f * (cos(w*t) + I*sin(w*t)))\n",
    "f_sol = solve([Eq(f_re[0], ft[0]), Eq(f_re[1], ft[1])], [f1, f2])\n",
    "f_til = f.subs(f_sol)\n",
    "K_til = K + FFHM\n",
    "eta, ks, Fs0, hp, cs = symbols('eta k_s F_{0s} h_p c_s', real=True, positive=True)\n",
    "kk = ks*(1 + eta*I) + Fs0 / hp * (1 + cs)\n",
    "la = symbols('lambda')\n",
    "A = - M.inv() * K_til\n",
    "AE = A - eye(2) * la"
   ]
  },
  {
   "cell_type": "code",
   "execution_count": 4,
   "metadata": {},
   "outputs": [
    {
     "data": {
      "text/latex": [
       "$\\displaystyle \\left[\\begin{matrix}-4296.14915128205 & 3569.29775641026\\\\1141.84397163121 & - 146.572104018913 F_{0s} - 1.41843971631206 k_{s} \\left(i \\eta + 1\\right) - 1652.48226950355\\end{matrix}\\right]$"
      ],
      "text/plain": [
       "⎡-4296.14915128205                               3569.29775641026             \n",
       "⎢                                                                             \n",
       "⎣1141.84397163121   -146.572104018913⋅F_{0s} - 1.41843971631206⋅kₛ⋅(ⅈ⋅η + 1) -\n",
       "\n",
       "                 ⎤\n",
       "                 ⎥\n",
       " 1652.48226950355⎦"
      ]
     },
     "metadata": {},
     "output_type": "display_data"
    }
   ],
   "source": [
    "mydict = {g:9.81,kc:0.7,u:14.8*10**(-6),\n",
    "          phiu:7,mr:0.616,m2:1.410,it:31.2*10**(-3),\n",
    "          lg:0.188,l1:0.118,l2:0.263,\n",
    "          kb2:0.72*10**(3),k1:1.66*10**3,k2:1.61*10**3,\n",
    "          hp:12*10**(-3), cs:0.24}\n",
    "A_func = A.subs({k3: kk3, k4: kb2, k5: 2*kk})\n",
    "A = A_func.subs(mydict)\n",
    "display(A)"
   ]
  },
  {
   "cell_type": "code",
   "execution_count": 5,
   "metadata": {},
   "outputs": [],
   "source": [
    "v30 = {ks:0.83, eta:33, Fs0:5.2}\n",
    "v50 = {ks:0.995, eta:21, Fs0:8}\n",
    "v70 = {ks:1.37, eta:10.5, Fs0:9.65}\n",
    "\n",
    "A30 = A.subs(v30)\n",
    "A50 = A.subs(v50)\n",
    "A70 = A.subs(v70)"
   ]
  },
  {
   "cell_type": "code",
   "execution_count": 20,
   "metadata": {},
   "outputs": [],
   "source": [
    "a, b, c, d, f1_tilde = symbols('a b c d f1_tilde')\n",
    "s1,s2 = symbols('s_1 s_2', real=False)\n",
    "\n",
    "def sensitivitet(A):\n",
    "    V = Matrix([[A.eigenvects()[0][2][0][0],A.eigenvects()[0][2][0][1]],[A.eigenvects()[1][2][0][0],A.eigenvects()[1][2][0][1]]]) \n",
    "    # Dette er en matrix med egebnvektorer som søjler\n",
    "\n",
    "    # Vi skal nu finde sensitiviteterne for de to egebnvektorer\n",
    "    s = Matrix([s1,s2])\n",
    "\n",
    "    f_til = (Matrix([l2**(-1)*u*w**2*(sin(phiu)-I*cos(phiu)),0])).subs(mydict)\n",
    "\n",
    "\n",
    "    løs = simplify(solve(Eq(V*s,f_til),s))\n",
    "\n",
    "    return expand(s.subs(løs.subs(w,1)))\n",
    "# modulus af s, kan bruges som indikator på sensitiviteten\n",
    "\n",
    "# Disse to skal plottes med indsatte værdier fra dictiornary, samt for variende temperaturer 30,50 og 70 grader. omega (w) sættes til 1 rad/s."
   ]
  },
  {
   "cell_type": "code",
   "execution_count": 21,
   "metadata": {},
   "outputs": [
    {
     "data": {
      "text/plain": [
       "'s for 30 grader'"
      ]
     },
     "metadata": {},
     "output_type": "display_data"
    },
    {
     "data": {
      "image/png": "[encoded data removed]",
      "text/latex": [
       "$\\displaystyle 6.40906299651312 \\cdot 10^{-5}$"
      ],
      "text/plain": [
       "6.40906299651312e-5"
      ]
     },
     "metadata": {},
     "output_type": "display_data"
    },
    {
     "data": {
      "text/plain": [
       "'s for 50 grader'"
      ]
     },
     "metadata": {},
     "output_type": "display_data"
    },
    {
     "data": {
      "image/png": "[encoded data removed]",
      "text/latex": [
       "$\\displaystyle 6.46345189177211 \\cdot 10^{-5}$"
      ],
      "text/plain": [
       "6.46345189177211e-5"
      ]
     },
     "metadata": {},
     "output_type": "display_data"
    },
    {
     "data": {
      "text/plain": [
       "'s for 70 grader'"
      ]
     },
     "metadata": {},
     "output_type": "display_data"
    },
    {
     "data": {
      "image/png": "[encoded data removed]",
      "text/latex": [
       "$\\displaystyle 6.49202481279973 \\cdot 10^{-5}$"
      ],
      "text/plain": [
       "6.49202481279973e-5"
      ]
     },
     "metadata": {},
     "output_type": "display_data"
    }
   ],
   "source": [
    "display(\"s for 30 grader\",\n",
    "    sensitivitet(A30).norm(),\n",
    "    \"s for 50 grader\",\n",
    "    sensitivitet(A50).norm(),\n",
    "    \"s for 70 grader\",\n",
    "    sensitivitet(A70).norm())"
   ]
  },
  {
   "cell_type": "code",
   "execution_count": 22,
   "metadata": {},
   "outputs": [
    {
     "data": {
      "image/png": "[encoded data removed]",
      "text/plain": [
       "<Figure size 640x480 with 1 Axes>"
      ]
     },
     "metadata": {},
     "output_type": "display_data"
    }
   ],
   "source": [
    "p1 = dtuplot.scatter(30,(abs(sensitivitet(A30))).norm(),title=\"30 grader blå, 50grader orange, 70grader grøn\",show = False)\n",
    "p2 = dtuplot.scatter(50,(abs(sensitivitet(A50))).norm(),show = False)\n",
    "p3 = dtuplot.scatter(70,(abs(sensitivitet(A70))).norm(),show = False)\n",
    "\n",
    "(p1+p2+p3).show()"
   ]
  },
  {
   "cell_type": "markdown",
   "metadata": {},
   "source": [
    "Des højere temperatur, des højere sensitivitet har egensvingningsformerne over for den ydre kraftpåvirkning"
   ]
  },
  {
   "cell_type": "code",
   "execution_count": null,
   "metadata": {},
   "outputs": [],
   "source": []
  }
 ],
 "metadata": {
  "kernelspec": {
   "display_name": "Python 3.11.2 64-bit",
   "language": "python",
   "name": "python3"
  },
  "language_info": {
   "codemirror_mode": {
    "name": "ipython",
    "version": 3
   },
   "file_extension": ".py",
   "mimetype": "text/x-python",
   "name": "python",
   "nbconvert_exporter": "python",
   "pygments_lexer": "ipython3",
   "version": "3.11.2"
  },
  "orig_nbformat": 4,
  "vscode": {
   "interpreter": {
    "hash": "b0fa6594d8f4cbf19f97940f81e996739fb7646882a419484c72d19e05852a7e"
   }
  }
 },
 "nbformat": 4,
 "nbformat_minor": 2
}
