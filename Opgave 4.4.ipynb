{
 "cells": [
  {
   "cell_type": "code",
   "execution_count": 2,
   "metadata": {},
   "outputs": [],
   "source": [
    "from sympy import *\n",
    "init_printing()"
   ]
  },
  {
   "cell_type": "code",
   "execution_count": 3,
   "metadata": {},
   "outputs": [],
   "source": [
    "l_2, I_t, k_2, k_c, k_1, l_g, m_r, g, k_b2, y1, y2, t, u, w, phi_u, m_2 = symbols('l_2, I_t, k_2, k_c, k_1, l_g, m_r, g, k_b2, y1, y2, t, u, w, phi_u m_2')\n",
    "l_1 = symbols('l_1')\n",
    "y1 = Function('y1')(t)\n",
    "y2 = Function('y2')(t)\n",
    "\n",
    "M = Matrix([[l_2**(-2) * I_t,0],[0,m_2]])\n",
    "K = Matrix([[k_2 + l_2**(-2) *(k_c + l_1**2 * k_1 - l_g*m_r*g), -k_2], [-k_2, k_2 + k_b2]])\n",
    "y = Matrix([y1, y2])\n",
    "f = Matrix([l_2**(-1) * u*w**2 * sin(w*t*+phi_u),0])\n",
    "\n",
    "M = M.subs({g:9.81,k_c:0.7,u:1.48*10**(-6),phi_u:7,m_r:0.616,m_2:1.410,I_t:31.2*10**(-3),l_g:0.188,l_2:0.263,k_b2:0.72*10**(3),k_1:1.66*10**3,k_2:1.61*10**3})\n",
    "K = K.subs({g:9.81,k_c:0.7,u:1.48*10**(-6),phi_u:7,m_r:0.616,m_2:1.410,I_t:31.2*10**(-3),l_g:0.188,l_2:0.263,k_b2:0.72*10**(3),k_1:1.66*10**3,k_2:1.61*10**3, l_1:0.118})\n",
    "f = f.subs({g:9.81,k_c:0.7,u:1.48*10**(-6),phi_u:7,m_r:0.616,m_2:1.410,I_t:31.2*10**(-3),l_g:0.188,l_2:0.263,k_b2:0.72*10**(3),k_1:1.66*10**3,k_2:1.61*10**3})\n",
    "\n",
    "k_s, F_s0, h_p, c_s, n, z_2 = symbols('k_s, F_s0, h_p, c_s, n z_2' )\n",
    "F_z_stjerne = -2*(k_s*(1+n*I)+F_s0/h_p*(1+c_s))*z_2\n",
    "F_z_stjerne = F_z_stjerne.subs({c_s:0.24,h_p:12*10**(-3)})\n",
    "\n",
    "F_FHM_stjerne = re(F_z_stjerne)\n",
    "f_FHM = Matrix([0,F_FHM_stjerne])\n",
    "\n",
    "lign13 = Eq(M*y.diff(t,2)+K*y -f_FHM,f)\n",
    "\n",
    "a,b,w,t,phi = symbols('a,b,w,t,phi')\n",
    "\n",
    "løs = solve(Eq(Matrix([a,b])*cos(w*t), f),[a,b])\n",
    "\n",
    "a = løs[a]\n",
    "b = løs[b]\n",
    "\n",
    "f_tilde = Matrix([a,b])\n",
    "\n",
    "z, K_tilde = symbols('z, K_tilde')\n",
    "\n",
    "\n",
    "k_stjerne = (k_s*(1+n*I)+F_s0/h_p*(1+c_s))\n",
    "\n",
    "K_tilde = Matrix([[k_2 + l_2**(-2) *(k_c + l_1**2 * k_1 - l_g*m_r*g), -k_2], [-k_2, k_stjerne*(k_2 + k_b2)]])\n",
    "\n",
    "mydict = {g:9.81,k_c:0.7,u:1.48*10**(-6),phi_u:7,m_r:0.616,m_2:1.410,I_t:31.2*10**(-3),l_g:0.188,l_1: 0.118, l_2:0.263,k_b2:0.72*10**(3),k_1:1.66*10**3,k_2:1.61*10**3, h_p:12*10**(-3)}"
   ]
  },
  {
   "cell_type": "code",
   "execution_count": 4,
   "metadata": {},
   "outputs": [],
   "source": [
    "e_a, e_b, phi_a, phi_b, c_s = symbols(\"e_a e_b phi_a phi_b c_s\") \n",
    "mydict = {\n",
    "    g:9.81,\n",
    "    k_c:0.7,\n",
    "    u:1.48*10**(-6),\n",
    "    e_a:0.11*10**(-3),\n",
    "    e_b:0.14*10**(-3),\n",
    "    phi_u:7,\n",
    "    phi_a:38,\n",
    "    phi_b:-118,\n",
    "    m_r:0.616,\n",
    "    m_2:1.410,\n",
    "    I_t:31.2*10**(-3),\n",
    "    l_g:0.188,\n",
    "    l_1:0.118,\n",
    "    l_2:0.263,\n",
    "    k_b2:0.72*10**(3),\n",
    "    k_1:1.66*10**3,\n",
    "    k_2:1.61*10**3,\n",
    "    h_p:12*10**(-3),\n",
    "    c_s:0.24,\n",
    "    k_s: 0.83, # observeret\n",
    "    n: 11*3, # observeret\n",
    "    F_s0: 5.2 # observeret\n",
    "}"
   ]
  },
  {
   "cell_type": "code",
   "execution_count": 5,
   "metadata": {},
   "outputs": [
    {
     "data": {
      "image/png": "[encoded data removed]",
      "text/latex": [
       "$\\displaystyle F_{s0}$"
      ],
      "text/plain": [
       "Fₛ₀"
      ]
     },
     "execution_count": 5,
     "metadata": {},
     "output_type": "execute_result"
    }
   ],
   "source": [
    "F_s0"
   ]
  },
  {
   "cell_type": "code",
   "execution_count": 6,
   "metadata": {},
   "outputs": [],
   "source": [
    "k_stjerne = (k_s*(1+n*I)+F_s0/h_p*(1+c_s))\n",
    "M = Matrix([[l_2**(-2) * I_t,0],[0,m_2]])\n",
    "K = Matrix([[k_2 + l_2**(-2) *(k_c + l_1**2 * k_1 - l_g*m_r*g), -k_2], [-k_2, k_2 + k_b2 -2*k_stjerne]])\n",
    "A = -M.inv()*K\n",
    "A = A.subs(mydict)"
   ]
  },
  {
   "cell_type": "code",
   "execution_count": 7,
   "metadata": {},
   "outputs": [
    {
     "data": {
      "text/latex": [
       "$\\displaystyle \\left[\\begin{matrix}k_{2} + \\frac{- g l_{g} m_{r} + k_{1} l_{1}^{2} + k_{c}}{l_{2}^{2}} & - k_{2}\\\\- k_{2} & - \\frac{2 F_{s0} \\left(c_{s} + 1\\right)}{h_{p}} + k_{2} + k_{b2} - 2 k_{s} \\left(i n + 1\\right)\\end{matrix}\\right]$"
      ],
      "text/plain": [
       "⎡                      2                                                     ⎤\n",
       "⎢     -g⋅l_g⋅mᵣ + k₁⋅l₁  + k_c                                               ⎥\n",
       "⎢k₂ + ────────────────────────                       -k₂                     ⎥\n",
       "⎢                 2                                                          ⎥\n",
       "⎢               l₂                                                           ⎥\n",
       "⎢                                                                            ⎥\n",
       "⎢                                 2⋅Fₛ₀⋅(cₛ + 1)                             ⎥\n",
       "⎢             -k₂               - ────────────── + k₂ + k_b2 - 2⋅kₛ⋅(ⅈ⋅n + 1)⎥\n",
       "⎣                                       hₚ                                   ⎦"
      ]
     },
     "execution_count": 7,
     "metadata": {},
     "output_type": "execute_result"
    }
   ],
   "source": [
    "K"
   ]
  },
  {
   "cell_type": "code",
   "execution_count": 8,
   "metadata": {},
   "outputs": [
    {
     "data": {
      "image/png": "[encoded data removed]",
      "text/latex": [
       "$\\displaystyle \\operatorname{PurePoly}{\\left( 1.0 \\lambda^{2} + \\left(2.0 \\lambda_{tilde} + 5185.27917492271 - 38.8510638297872 i\\right) \\lambda + 1.0 \\lambda_{tilde}^{2} + \\lambda_{tilde} \\left(5185.27917492271 - 38.8510638297872 i\\right) - 255745.92967062 - 166909.964898745 i, \\lambda, domain=\\mathbb{C}\\left[\\lambda_{tilde}\\right] \\right)}$"
      ],
      "text/plain": [
       "PurePoly(1.0*lambda**2 + (2.0*lambda_tilde + 5185.27917492271 - 38.85106382978\n",
       "72*I)*lambda + 1.0*lambda_tilde**2 + lambda_tilde*(5185.27917492271 - 38.85106\n",
       "38297872*I) - 255745.92967062 - 166909.964898745*I, lambda, domain='CC[lambda_\n",
       "tilde]')"
      ]
     },
     "execution_count": 8,
     "metadata": {},
     "output_type": "execute_result"
    }
   ],
   "source": [
    "lamb_tilde, lamb = symbols(\"lambda_tilde lambda\")\n",
    "(A-lamb_tilde*Matrix([[1,0],[0,1]])).charpoly()"
   ]
  },
  {
   "cell_type": "code",
   "execution_count": 9,
   "metadata": {},
   "outputs": [
    {
     "data": {
      "image/png": "[encoded data removed]",
      "text/latex": [
       "$\\displaystyle \\frac{F_{s0} \\left(c_{s} + 1\\right)}{h_{p}} + k_{s} \\left(i n + 1\\right)$"
      ],
      "text/plain": [
       "Fₛ₀⋅(cₛ + 1)               \n",
       "──────────── + kₛ⋅(ⅈ⋅n + 1)\n",
       "     hₚ                    "
      ]
     },
     "execution_count": 9,
     "metadata": {},
     "output_type": "execute_result"
    }
   ],
   "source": [
    "k_stjerne"
   ]
  },
  {
   "cell_type": "code",
   "execution_count": 10,
   "metadata": {},
   "outputs": [
    {
     "data": {
      "image/png": "[encoded data removed]",
      "text/latex": [
       "$\\displaystyle \\left[ 0.04767134752993 + 72.3470859264737 i, \\  7.32004688198781 + 2.18258832169892 i, \\  0.04767134752993 - 72.3470859264737 i, \\  7.32004688198781 - 2.18258832169892 i\\right]$"
      ],
      "text/plain": [
       "[0.04767134752993 + 72.3470859264737⋅ⅈ, 7.32004688198781 + 2.18258832169892⋅ⅈ,\n",
       " 0.04767134752993 - 72.3470859264737⋅ⅈ, 7.32004688198781 - 2.18258832169892⋅ⅈ]"
      ]
     },
     "execution_count": 10,
     "metadata": {},
     "output_type": "execute_result"
    }
   ],
   "source": [
    "values = [sqrt(val).evalf() for val in A.eigenvals().keys()]\n",
    "all_values = [re(val)+im(val)*I for val in values] + [re(val)-im(val)*I for val in values]\n",
    "#all_values = [p.evalf() for p in all_values]\n",
    "all_values"
   ]
  },
  {
   "cell_type": "code",
   "execution_count": 11,
   "metadata": {},
   "outputs": [
    {
     "data": {
      "text/latex": [
       "$\\displaystyle \\left[ \\left( -5234.0985694952 + 6.89776615195682 i, \\  1, \\  \\left[ \\left[\\begin{matrix}0.967091354531414 + 0.01169915413801 i\\\\-0.254157409462942 - 0.00120540372359481 i\\end{matrix}\\right]\\right]\\right), \\  \\left( 48.8193945724829 + 31.9532976778304 i, \\  1, \\  \\left[ \\left[\\begin{matrix}0.69846262688847 - 0.0117627878200135 i\\\\0.850356067575216 - 0.00806622501695358 i\\end{matrix}\\right]\\right]\\right)\\right]$"
      ],
      "text/plain": [
       "⎡⎛                                          ⎡⎡  0.967091354531414 + 0.01169915\n",
       "⎢⎜-5234.0985694952 + 6.89776615195682⋅ⅈ, 1, ⎢⎢                                \n",
       "⎣⎝                                          ⎣⎣-0.254157409462942 - 0.001205403\n",
       "\n",
       "413801⋅ⅈ  ⎤⎤⎞  ⎛                                          ⎡⎡ 0.69846262688847 \n",
       "          ⎥⎥⎟, ⎜48.8193945724829 + 31.9532976778304⋅ⅈ, 1, ⎢⎢                  \n",
       "72359481⋅ⅈ⎦⎦⎠  ⎝                                          ⎣⎣0.850356067575216 \n",
       "\n",
       "- 0.0117627878200135⋅ⅈ ⎤⎤⎞⎤\n",
       "                       ⎥⎥⎟⎥\n",
       "- 0.00806622501695358⋅ⅈ⎦⎦⎠⎦"
      ]
     },
     "execution_count": 11,
     "metadata": {},
     "output_type": "execute_result"
    }
   ],
   "source": [
    "A.eigenvects()"
   ]
  },
  {
   "cell_type": "code",
   "execution_count": null,
   "metadata": {},
   "outputs": [],
   "source": []
  }
 ],
 "metadata": {
  "kernelspec": {
   "display_name": "Python 3.11.2 64-bit",
   "language": "python",
   "name": "python3"
  },
  "language_info": {
   "codemirror_mode": {
    "name": "ipython",
    "version": 3
   },
   "file_extension": ".py",
   "mimetype": "text/x-python",
   "name": "python",
   "nbconvert_exporter": "python",
   "pygments_lexer": "ipython3",
   "version": "3.11.2"
  },
  "orig_nbformat": 4,
  "vscode": {
   "interpreter": {
    "hash": "b0fa6594d8f4cbf19f97940f81e996739fb7646882a419484c72d19e05852a7e"
   }
  }
 },
 "nbformat": 4,
 "nbformat_minor": 2
}
