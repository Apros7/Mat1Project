{
 "cells": [
  {
   "cell_type": "markdown",
   "metadata": {},
   "source": [
    "# 4.7"
   ]
  },
  {
   "cell_type": "code",
   "execution_count": 22,
   "metadata": {},
   "outputs": [],
   "source": [
    "from sympy import *\n",
    "init_printing()\n",
    "from dtumathtools import *"
   ]
  },
  {
   "cell_type": "code",
   "execution_count": null,
   "metadata": {},
   "outputs": [],
   "source": [
    "dtuplPT"
   ]
  },
  {
   "cell_type": "code",
   "execution_count": 3,
   "metadata": {},
   "outputs": [],
   "source": [
    "l_2, I_t, k_2, k_c, k_1, l_g, m_r, g, k_b2, y1, y2, t, u, w, phi_u, m_2 = symbols('l_2, I_t, k_2, k_c, k_1, l_g, m_r, g, k_b2, y1, y2, t, u, w, phi_u m_2')\n",
    "l_1 = symbols('l_1')\n",
    "y1 = Function('y1')(t)\n",
    "y2 = Function('y2')(t)\n",
    "\n",
    "M = Matrix([[l_2**(-2) * I_t,0],[0,m_2]])\n",
    "K = Matrix([[k_2 + l_2**(-2) *(k_c + l_1**2 * k_1 - l_g*m_r*g), -k_2], [-k_2, k_2 + k_b2]])\n",
    "y = Matrix([y1, y2])\n",
    "f = Matrix([l_2**(-1) * u*w**2 * sin(w*t*+phi_u),0])\n",
    "\n",
    "M = M.subs({g:9.81,k_c:0.7,u:1.48*10**(-6),phi_u:7,m_r:0.616,m_2:1.410,I_t:31.2*10**(-3),l_g:0.188,l_2:0.263,k_b2:0.72*10**(3),k_1:1.66*10**3,k_2:1.61*10**3})\n",
    "K = K.subs({g:9.81,k_c:0.7,u:1.48*10**(-6),phi_u:7,m_r:0.616,m_2:1.410,I_t:31.2*10**(-3),l_g:0.188,l_2:0.263,k_b2:0.72*10**(3),k_1:1.66*10**3,k_2:1.61*10**3, l_1:0.118})\n",
    "f = f.subs({g:9.81,k_c:0.7,u:1.48*10**(-6),phi_u:7,m_r:0.616,m_2:1.410,I_t:31.2*10**(-3),l_g:0.188,l_2:0.263,k_b2:0.72*10**(3),k_1:1.66*10**3,k_2:1.61*10**3})\n",
    "\n",
    "k_s, F_s0, h_p, c_s, n, z_2 = symbols('k_s, F_s0, h_p, c_s, n z_2' )\n",
    "F_z_stjerne = -2*(k_s*(1+n*I)+F_s0/h_p*(1+c_s))*z_2\n",
    "F_z_stjerne = F_z_stjerne.subs({c_s:0.24,h_p:12*10**(-3)})\n",
    "\n",
    "F_FHM_stjerne = re(F_z_stjerne)\n",
    "f_FHM = Matrix([0,F_FHM_stjerne])\n",
    "\n",
    "lign13 = Eq(M*y.diff(t,2)+K*y -f_FHM,f)\n",
    "\n",
    "a,b,w,t,phi = symbols('a,b,w,t,phi')\n",
    "\n",
    "løs = solve(Eq(Matrix([a,b])*cos(w*t), f),[a,b])\n",
    "\n",
    "a = løs[a]\n",
    "b = løs[b]\n",
    "\n",
    "f_tilde = Matrix([a,b])\n",
    "\n",
    "z, K_tilde = symbols('z, K_tilde')\n",
    "\n",
    "\n",
    "k_stjerne = (k_s*(1+n*I)+F_s0/h_p*(1+c_s))\n",
    "\n",
    "K_tilde = Matrix([[k_2 + l_2**(-2) *(k_c + l_1**2 * k_1 - l_g*m_r*g), -k_2], [-k_2, k_stjerne*(k_2 + k_b2)]])\n",
    "\n",
    "mydict = {g:9.81,k_c:0.7,u:1.48*10**(-6),phi_u:7,m_r:0.616,m_2:1.410,I_t:31.2*10**(-3),l_g:0.188,l_1: 0.118, l_2:0.263,k_b2:0.72*10**(3),k_1:1.66*10**3,k_2:1.61*10**3, h_p:12*10**(-3)}"
   ]
  },
  {
   "cell_type": "code",
   "execution_count": 4,
   "metadata": {},
   "outputs": [],
   "source": [
    "e_a, e_b, phi_a, phi_b, c_s = symbols(\"e_a e_b phi_a phi_b c_s\") \n",
    "mydict = {\n",
    "    g:9.81,\n",
    "    k_c:0.7,\n",
    "    u:1.48*10**(-6),\n",
    "    e_a:0.11*10**(-3),\n",
    "    e_b:0.14*10**(-3),\n",
    "    phi_u:7,\n",
    "    phi_a:38,\n",
    "    phi_b:-118,\n",
    "    m_r:0.616,\n",
    "    m_2:1.410,\n",
    "    I_t:31.2*10**(-3),\n",
    "    l_g:0.188,\n",
    "    l_1:0.118,\n",
    "    l_2:0.263,\n",
    "    k_b2:0.72*10**(3),\n",
    "    k_1:1.66*10**3,\n",
    "    k_2:1.61*10**3,\n",
    "    h_p:12*10**(-3),\n",
    "    c_s:0.24,\n",
    "}"
   ]
  },
  {
   "cell_type": "code",
   "execution_count": 5,
   "metadata": {},
   "outputs": [
    {
     "data": {
      "text/latex": [
       "$\\displaystyle \\left[\\begin{matrix}-4296.14915128205 & 3569.29775641026\\\\1141.84397163121 & 146.572104018913 F_{s0} + 1.41843971631206 k_{s} \\left(i n + 1\\right) - 1652.48226950355\\end{matrix}\\right]$"
      ],
      "text/plain": [
       "⎡-4296.14915128205                             3569.29775641026               \n",
       "⎢                                                                             \n",
       "⎣1141.84397163121   146.572104018913⋅Fₛ₀ + 1.41843971631206⋅kₛ⋅(ⅈ⋅n + 1) - 165\n",
       "\n",
       "             ⎤\n",
       "             ⎥\n",
       "2.48226950355⎦"
      ]
     },
     "execution_count": 5,
     "metadata": {},
     "output_type": "execute_result"
    }
   ],
   "source": [
    "k_stjerne = (k_s*(1+n*I)+F_s0/h_p*(1+c_s))\n",
    "M = Matrix([[l_2**(-2) * I_t,0],[0,m_2]])\n",
    "K = Matrix([[k_2 + l_2**(-2) *(k_c + l_1**2 * k_1 - l_g*m_r*g), -k_2], [-k_2, k_2 + k_b2 -2*k_stjerne]])\n",
    "A = -M.inv()*K\n",
    "A = A.subs(mydict)  \n",
    "A"
   ]
  },
  {
   "cell_type": "code",
   "execution_count": 6,
   "metadata": {},
   "outputs": [
    {
     "data": {
      "text/latex": [
       "$\\displaystyle \\left[ \\left( -5234.0985694952 + 6.89776615195682 i, \\  1, \\  \\left[ \\left[\\begin{matrix}0.967091354531414 + 0.01169915413801 i\\\\-0.254157409462942 - 0.00120540372359481 i\\end{matrix}\\right]\\right]\\right), \\  \\left( 48.8193945724828 + 31.9532976778304 i, \\  1, \\  \\left[ \\left[\\begin{matrix}0.69846262688847 - 0.0117627878200135 i\\\\0.850356067575216 - 0.00806622501695358 i\\end{matrix}\\right]\\right]\\right)\\right]$"
      ],
      "text/plain": [
       "⎡⎛                                          ⎡⎡  0.967091354531414 + 0.01169915\n",
       "⎢⎜-5234.0985694952 + 6.89776615195682⋅ⅈ, 1, ⎢⎢                                \n",
       "⎣⎝                                          ⎣⎣-0.254157409462942 - 0.001205403\n",
       "\n",
       "413801⋅ⅈ  ⎤⎤⎞  ⎛                                          ⎡⎡ 0.69846262688847 \n",
       "          ⎥⎥⎟, ⎜48.8193945724828 + 31.9532976778304⋅ⅈ, 1, ⎢⎢                  \n",
       "72359481⋅ⅈ⎦⎦⎠  ⎝                                          ⎣⎣0.850356067575216 \n",
       "\n",
       "- 0.0117627878200135⋅ⅈ ⎤⎤⎞⎤\n",
       "                       ⎥⎥⎟⎥\n",
       "- 0.00806622501695358⋅ⅈ⎦⎦⎠⎦"
      ]
     },
     "metadata": {},
     "output_type": "display_data"
    },
    {
     "data": {
      "text/latex": [
       "$\\displaystyle \\left[ \\left( -5165.64180713249 + 4.99397627531787 i, \\  1, \\  \\left[ \\left[\\begin{matrix}0.971540703938891 + 0.00941407924313508 i\\\\-0.236683677932395 - 0.000933971264105545 i\\end{matrix}\\right]\\right]\\right), \\  \\left( 391.005658214506 + 26.9209173417034 i, \\  1, \\  \\left[ \\left[\\begin{matrix}0.661065952252706 - 0.0090145866256365 i\\\\0.868171094124023 - 0.00685184113767025 i\\end{matrix}\\right]\\right]\\right)\\right]$"
      ],
      "text/plain": [
       "⎡⎛                                           ⎡⎡ 0.971540703938891 + 0.00941407\n",
       "⎢⎜-5165.64180713249 + 4.99397627531787⋅ⅈ, 1, ⎢⎢                               \n",
       "⎣⎝                                           ⎣⎣-0.236683677932395 - 0.00093397\n",
       "\n",
       "924313508⋅ⅈ ⎤⎤⎞  ⎛                                          ⎡⎡0.66106595225270\n",
       "            ⎥⎥⎟, ⎜391.005658214506 + 26.9209173417034⋅ⅈ, 1, ⎢⎢                \n",
       "1264105545⋅ⅈ⎦⎦⎠  ⎝                                          ⎣⎣0.86817109412402\n",
       "\n",
       "6 - 0.0090145866256365⋅ⅈ ⎤⎤⎞⎤\n",
       "                         ⎥⎥⎟⎥\n",
       "3 - 0.00685184113767025⋅ⅈ⎦⎦⎠⎦"
      ]
     },
     "metadata": {},
     "output_type": "display_data"
    },
    {
     "data": {
      "text/latex": [
       "$\\displaystyle \\left[ \\left( -5129.08533555031 + 2.96816792546358 i, \\  1, \\  \\left[ \\left[\\begin{matrix}0.973816789967373 + 0.00593083976560015 i\\\\-0.227256144008546 - 0.000574219194497144 i\\end{matrix}\\right]\\right]\\right), \\  \\left( 596.817980958564 + 17.4360873936854 i, \\  1, \\  \\left[ \\left[\\begin{matrix}0.640082488512401 - 0.00551570914881716 i\\\\0.877483181383739 - 0.00443438750349864 i\\end{matrix}\\right]\\right]\\right)\\right]$"
      ],
      "text/plain": [
       "⎡⎛                                           ⎡⎡ 0.973816789967373 + 0.00593083\n",
       "⎢⎜-5129.08533555031 + 2.96816792546358⋅ⅈ, 1, ⎢⎢                               \n",
       "⎣⎝                                           ⎣⎣-0.227256144008546 - 0.00057421\n",
       "\n",
       "976560015⋅ⅈ ⎤⎤⎞  ⎛                                          ⎡⎡0.64008248851240\n",
       "            ⎥⎥⎟, ⎜596.817980958564 + 17.4360873936854⋅ⅈ, 1, ⎢⎢                \n",
       "9194497144⋅ⅈ⎦⎦⎠  ⎝                                          ⎣⎣0.87748318138373\n",
       "\n",
       "1 - 0.00551570914881716⋅ⅈ⎤⎤⎞⎤\n",
       "                         ⎥⎥⎟⎥\n",
       "9 - 0.00443438750349864⋅ⅈ⎦⎦⎠⎦"
      ]
     },
     "metadata": {},
     "output_type": "display_data"
    }
   ],
   "source": [
    "A30 = A.subs({    \n",
    "    k_s: 0.83, # observeret\n",
    "    n: 11*3, # observeret\n",
    "    F_s0: 5.2})\n",
    "\n",
    "A50 = A.subs({    \n",
    "    k_s: 1, # observeret\n",
    "    n: 22.5, # observeret\n",
    "    F_s0: 8})\n",
    "\n",
    "A70 = A.subs({    \n",
    "    k_s: 1.37, # observeret\n",
    "    n: 10.5, # observeret\n",
    "    F_s0: 9.65})\n",
    "\n",
    "A30vals = A30.eigenvects()\n",
    "A50vals = A50.eigenvects()\n",
    "A70vals = A70.eigenvects()\n",
    "\n",
    "display(A30vals,A50vals,A70vals)"
   ]
  },
  {
   "cell_type": "code",
   "execution_count": 67,
   "metadata": {},
   "outputs": [
    {
     "name": "stderr",
     "output_type": "stream",
     "text": [
      "\n",
      "The following keyword arguments are unused.\n",
      "* 'color': did you mean 'ncols'?\n"
     ]
    },
    {
     "data": {
      "image/png": "[encoded data removed]",
      "text/plain": [
       "<Figure size 640x480 with 1 Axes>"
      ]
     },
     "metadata": {},
     "output_type": "display_data"
    },
    {
     "data": {
      "text/plain": [
       "<spb.backends.matplotlib.MatplotlibBackend at 0x2887c0ed0>"
      ]
     },
     "execution_count": 67,
     "metadata": {},
     "output_type": "execute_result"
    }
   ],
   "source": [
    "dtuplot.scatter([re((A30vals[0][2])[0])[0]],[re((A30vals[1][2])[0])[0]],color='red')"
   ]
  },
  {
   "cell_type": "code",
   "execution_count": 14,
   "metadata": {},
   "outputs": [
    {
     "name": "stdout",
     "output_type": "stream",
     "text": [
      "Tjekker 0.04767134752993 + 72.3470859264737*I\n",
      "xi, dæmpning = 0.000658925464245171\n",
      "Tjekker 7.3200468819878 + 2.18258832169893*I\n",
      "xi, dæmpning = 0.958308681958388\n",
      "Tjekker 0.03474195746869 + 71.8724078776835*I\n",
      "xi, dæmpning = 0.000483383741211465\n",
      "Tjekker 19.7855626584842 + 0.680317204175125*I\n",
      "xi, dæmpning = 0.999409375835319\n",
      "Tjekker 0.02072232551502 + 71.617635851549*I\n",
      "xi, dæmpning = 0.000289346672801647\n",
      "Tjekker 24.4324641202115 + 0.35682212215471*I\n",
      "xi, dæmpning = 0.999893372422460\n"
     ]
    }
   ],
   "source": [
    "def dæmp(A):\n",
    "    values = [sqrt(val).evalf() for val in A.eigenvals().keys()]\n",
    "    for lamb in values:\n",
    "        print(f\"Tjekker {lamb}\")\n",
    "        xi = re(lamb)/abs(lamb)\n",
    "        print(f\"xi, dæmpning = {xi}\")\n",
    "\n",
    "dæmp(A30)\n",
    "dæmp(A50)\n",
    "dæmp(A70)"
   ]
  },
  {
   "cell_type": "code",
   "execution_count": null,
   "metadata": {},
   "outputs": [],
   "source": [
    "# OBS vi har ikke alle værdierne\n",
    "def plotløsning(lamb1,lamb2,A): # C1 = 1\n",
    "    # omega d:\n",
    "    omega_d1 = im(lamb1)\n",
    "    omega_d2 = im(lamb2)\n",
    "    \n",
    "    # phi 1,1:\n",
    "    phi11 = arg()\n",
    "\n",
    "    # phi 1,c\n",
    "\n",
    "\n",
    "    # phi 2,1:\n",
    "    xi1  = re(lamb1)/abs(lamb1)\n",
    "    xi2  = re(lamb2)/abs(lamb2)\n",
    "    y1 = 1*exp(-xi1*omega_n*t)*Matrix([A[0][0]*cos(omega_d1*t + phi11 + phic)]) + 1*exp(-xi2*omega_n*t)*Matrix([A[0][1]*cos(omega_d1*t + phi12 + phic)])\n",
    "    y2 = 1*exp(-xi1*omega_n*t)*Matrix([A[1][0]*cos(omega_d2*t + phi21 + phic)]) + 1*exp(-xi2*omega_n*t)*Matrix([A[1][1]*cos(omega_d2*t + phi22 + phic)])\n",
    "    y_HOM = y1 + y2\n",
    "\n",
    "    # plotter løsning\n",
    "    p1 = plot(y_HOM[0],(t,0,0.1),show=False)\n",
    "    p2 = plot(y_HOM[1],(t,0,0.1),show=False)\n",
    "    p1.extend(p2)\n",
    "    p1.show()\n",
    "    return y_HOM\n",
    "\n"
   ]
  },
  {
   "cell_type": "markdown",
   "metadata": {},
   "source": [
    "# 4.8"
   ]
  },
  {
   "cell_type": "code",
   "execution_count": 98,
   "metadata": {},
   "outputs": [
    {
     "ename": "AssertionError",
     "evalue": "scatterplot only supports 2D and 3D plots",
     "output_type": "error",
     "traceback": [
      "\u001b[0;31m---------------------------------------------------------------------------\u001b[0m",
      "\u001b[0;31mAssertionError\u001b[0m                            Traceback (most recent call last)",
      "Cell \u001b[0;32mIn[98], line 8\u001b[0m\n\u001b[1;32m      5\u001b[0m p150 \u001b[38;5;241m=\u001b[39m \u001b[38;5;28mabs\u001b[39m(v150[\u001b[38;5;241m0\u001b[39m]\u001b[38;5;241m/\u001b[39mv150[\u001b[38;5;241m1\u001b[39m])\n\u001b[1;32m      6\u001b[0m p170 \u001b[38;5;241m=\u001b[39m \u001b[38;5;28mabs\u001b[39m(v170[\u001b[38;5;241m0\u001b[39m]\u001b[38;5;241m/\u001b[39mv170[\u001b[38;5;241m1\u001b[39m])\n\u001b[0;32m----> 8\u001b[0m plot1 \u001b[38;5;241m=\u001b[39m \u001b[43mdtuplot\u001b[49m\u001b[38;5;241;43m.\u001b[39;49m\u001b[43mscatter\u001b[49m\u001b[43m(\u001b[49m\u001b[43mp130\u001b[49m\u001b[43m,\u001b[49m\u001b[43mcolor\u001b[49m\u001b[38;5;241;43m=\u001b[39;49m\u001b[38;5;124;43m'\u001b[39;49m\u001b[38;5;124;43mblue\u001b[39;49m\u001b[38;5;124;43m'\u001b[39;49m\u001b[43m)\u001b[49m\n\u001b[1;32m     11\u001b[0m v230 \u001b[38;5;241m=\u001b[39m ((A30\u001b[38;5;241m.\u001b[39meigenvects())[\u001b[38;5;241m1\u001b[39m][\u001b[38;5;241m2\u001b[39m][\u001b[38;5;241m0\u001b[39m])\n\u001b[1;32m     12\u001b[0m v250 \u001b[38;5;241m=\u001b[39m ((A50\u001b[38;5;241m.\u001b[39meigenvects())[\u001b[38;5;241m1\u001b[39m][\u001b[38;5;241m2\u001b[39m][\u001b[38;5;241m0\u001b[39m])\n",
      "File \u001b[0;32m/opt/homebrew/lib/python3.11/site-packages/dtumathtools/dtuplot/scatterplot.py:64\u001b[0m, in \u001b[0;36mscatter\u001b[0;34m(*args, **kwargs)\u001b[0m\n\u001b[1;32m     61\u001b[0m     args \u001b[39m=\u001b[39m newargs\n\u001b[1;32m     62\u001b[0m     args\u001b[39m.\u001b[39mextend(otherargs)\n\u001b[0;32m---> 64\u001b[0m \u001b[39massert\u001b[39;00m dim \u001b[39min\u001b[39;00m [\u001b[39m2\u001b[39m, \u001b[39m3\u001b[39m], \u001b[39m\"\u001b[39m\u001b[39mscatterplot only supports 2D and 3D plots\u001b[39m\u001b[39m\"\u001b[39m\n\u001b[1;32m     65\u001b[0m \u001b[39mif\u001b[39;00m dim \u001b[39m==\u001b[39m \u001b[39m2\u001b[39m:\n\u001b[1;32m     66\u001b[0m     rendering_kw \u001b[39m=\u001b[39m kwargs\u001b[39m.\u001b[39mpop(\u001b[39m\"\u001b[39m\u001b[39mrendering_kw\u001b[39m\u001b[39m\"\u001b[39m, {})\n",
      "\u001b[0;31mAssertionError\u001b[0m: scatterplot only supports 2D and 3D plots"
     ]
    }
   ],
   "source": [
    "v130 = ((A30.eigenvects())[0][2][0])\n",
    "v150 = ((A50.eigenvects())[0][2][0])\n",
    "v170 = ((A70.eigenvects())[0][2][0])\n",
    "p130 = abs(v130[0]/v130[1])\n",
    "p150 = abs(v150[0]/v150[1])\n",
    "p170 = abs(v170[0]/v170[1])\n",
    "\n",
    "plot1 = dtuplot.scatter(p130,color='blue')\n",
    "\n",
    "\n",
    "v230 = ((A30.eigenvects())[1][2][0])\n",
    "v250 = ((A50.eigenvects())[1][2][0])\n",
    "v270 = ((A70.eigenvects())[1][2][0])"
   ]
  },
  {
   "cell_type": "code",
   "execution_count": 90,
   "metadata": {},
   "outputs": [
    {
     "data": {
      "image/png": "[encoded data removed]",
      "text/plain": [
       "<Figure size 640x480 with 1 Axes>"
      ]
     },
     "metadata": {},
     "output_type": "display_data"
    }
   ],
   "source": [
    "v1 = ((A30.eigenvects())[0][2][0])\n",
    "\n",
    "p1 = (abs(v1[0])/abs(v1[1]))\n",
    "\n",
    "v2 = ((A30.eigenvects())[1][2][0])\n",
    "p2 = (abs(v2[0])/abs(v2[1]))\n",
    "\n",
    "plot1 = dtuplot.scatter([30,p1],[30,p2],color='red')\n",
    "# Det er 30 grader, og A11 er første element af egenbvektor v1. P1 er så a11/a12, og P2 er a21/a22\n",
    "\n"
   ]
  },
  {
   "cell_type": "code",
   "execution_count": 92,
   "metadata": {},
   "outputs": [
    {
     "data": {
      "text/latex": [
       "$\\displaystyle \\left[ \\left( -5165.64180713249 + 4.99397627531787 i, \\  1, \\  \\left[ \\left[\\begin{matrix}0.971540703938891 + 0.00941407924313508 i\\\\-0.236683677932395 - 0.000933971264105545 i\\end{matrix}\\right]\\right]\\right), \\  \\left( 391.005658214506 + 26.9209173417034 i, \\  1, \\  \\left[ \\left[\\begin{matrix}0.661065952252706 - 0.0090145866256365 i\\\\0.868171094124023 - 0.00685184113767025 i\\end{matrix}\\right]\\right]\\right)\\right]$"
      ],
      "text/plain": [
       "⎡⎛                                           ⎡⎡ 0.971540703938891 + 0.00941407\n",
       "⎢⎜-5165.64180713249 + 4.99397627531787⋅ⅈ, 1, ⎢⎢                               \n",
       "⎣⎝                                           ⎣⎣-0.236683677932395 - 0.00093397\n",
       "\n",
       "924313508⋅ⅈ ⎤⎤⎞  ⎛                                          ⎡⎡0.66106595225270\n",
       "            ⎥⎥⎟, ⎜391.005658214506 + 26.9209173417034⋅ⅈ, 1, ⎢⎢                \n",
       "1264105545⋅ⅈ⎦⎦⎠  ⎝                                          ⎣⎣0.86817109412402\n",
       "\n",
       "6 - 0.0090145866256365⋅ⅈ ⎤⎤⎞⎤\n",
       "                         ⎥⎥⎟⎥\n",
       "3 - 0.00685184113767025⋅ⅈ⎦⎦⎠⎦"
      ]
     },
     "execution_count": 92,
     "metadata": {},
     "output_type": "execute_result"
    }
   ],
   "source": [
    "A50.eigenvects()"
   ]
  },
  {
   "cell_type": "markdown",
   "metadata": {},
   "source": []
  }
 ],
 "metadata": {
  "kernelspec": {
   "display_name": "Python 3.11.2 64-bit",
   "language": "python",
   "name": "python3"
  },
  "language_info": {
   "codemirror_mode": {
    "name": "ipython",
    "version": 3
   },
   "file_extension": ".py",
   "mimetype": "text/x-python",
   "name": "python",
   "nbconvert_exporter": "python",
   "pygments_lexer": "ipython3",
   "version": "3.11.2"
  },
  "orig_nbformat": 4,
  "vscode": {
   "interpreter": {
    "hash": "b0fa6594d8f4cbf19f97940f81e996739fb7646882a419484c72d19e05852a7e"
   }
  }
 },
 "nbformat": 4,
 "nbformat_minor": 2
}
