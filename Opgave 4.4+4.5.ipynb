{
 "cells": [
  {
   "cell_type": "code",
   "execution_count": 1,
   "metadata": {},
   "outputs": [],
   "source": [
    "from sympy import *\n",
    "init_printing()"
   ]
  },
  {
   "cell_type": "code",
   "execution_count": 2,
   "metadata": {},
   "outputs": [],
   "source": [
    "l_2, I_t, k_2, k_c, k_1, l_g, m_r, g, k_b2, y1, y2, t, u, w, phi_u, m_2 = symbols('l_2, I_t, k_2, k_c, k_1, l_g, m_r, g, k_b2, y1, y2, t, u, w, phi_u m_2')\n",
    "l_1 = symbols('l_1')\n",
    "y1 = Function('y1')(t)\n",
    "y2 = Function('y2')(t)\n",
    "\n",
    "M = Matrix([[l_2**(-2) * I_t,0],[0,m_2]])\n",
    "K = Matrix([[k_2 + l_2**(-2) *(k_c + l_1**2 * k_1 - l_g*m_r*g), -k_2], [-k_2, k_2 + k_b2]])\n",
    "y = Matrix([y1, y2])\n",
    "f = Matrix([l_2**(-1) * u*w**2 * sin(w*t*+phi_u),0])\n",
    "\n",
    "M = M.subs({g:9.81,k_c:0.7,u:1.48*10**(-6),phi_u:7,m_r:0.616,m_2:1.410,I_t:31.2*10**(-3),l_g:0.188,l_2:0.263,k_b2:0.72*10**(3),k_1:1.66*10**3,k_2:1.61*10**3})\n",
    "K = K.subs({g:9.81,k_c:0.7,u:1.48*10**(-6),phi_u:7,m_r:0.616,m_2:1.410,I_t:31.2*10**(-3),l_g:0.188,l_2:0.263,k_b2:0.72*10**(3),k_1:1.66*10**3,k_2:1.61*10**3, l_1:0.118})\n",
    "f = f.subs({g:9.81,k_c:0.7,u:1.48*10**(-6),phi_u:7,m_r:0.616,m_2:1.410,I_t:31.2*10**(-3),l_g:0.188,l_2:0.263,k_b2:0.72*10**(3),k_1:1.66*10**3,k_2:1.61*10**3})\n",
    "\n",
    "k_s, F_s0, h_p, c_s, n, z_2 = symbols('k_s, F_s0, h_p, c_s, n z_2' )\n",
    "F_z_stjerne = -2*(k_s*(1+n*I)+F_s0/h_p*(1+c_s))*z_2\n",
    "F_z_stjerne = F_z_stjerne.subs({c_s:0.24,h_p:12*10**(-3)})\n",
    "\n",
    "F_FHM_stjerne = re(F_z_stjerne)\n",
    "f_FHM = Matrix([0,F_FHM_stjerne])\n",
    "\n",
    "lign13 = Eq(M*y.diff(t,2)+K*y -f_FHM,f)\n",
    "\n",
    "a,b,w,t,phi = symbols('a,b,w,t,phi')\n",
    "\n",
    "løs = solve(Eq(Matrix([a,b])*cos(w*t), f),[a,b])\n",
    "\n",
    "a = løs[a]\n",
    "b = løs[b]\n",
    "\n",
    "f_tilde = Matrix([a,b])\n",
    "\n",
    "z, K_tilde = symbols('z, K_tilde')\n",
    "\n",
    "\n",
    "k_stjerne = (k_s*(1+n*I)+F_s0/h_p*(1+c_s))\n",
    "\n",
    "K_tilde = Matrix([[k_2 + l_2**(-2) *(k_c + l_1**2 * k_1 - l_g*m_r*g), -k_2], [-k_2, k_stjerne*(k_2 + k_b2)]])\n",
    "\n",
    "mydict = {g:9.81,k_c:0.7,u:1.48*10**(-6),phi_u:7,m_r:0.616,m_2:1.410,I_t:31.2*10**(-3),l_g:0.188,l_1: 0.118, l_2:0.263,k_b2:0.72*10**(3),k_1:1.66*10**3,k_2:1.61*10**3, h_p:12*10**(-3)}"
   ]
  },
  {
   "cell_type": "code",
   "execution_count": 3,
   "metadata": {},
   "outputs": [],
   "source": [
    "e_a, e_b, phi_a, phi_b, c_s = symbols(\"e_a e_b phi_a phi_b c_s\") \n",
    "mydict = {\n",
    "    g:9.81,\n",
    "    k_c:0.7,\n",
    "    u:1.48*10**(-6),\n",
    "    e_a:0.11*10**(-3),\n",
    "    e_b:0.14*10**(-3),\n",
    "    phi_u:7,\n",
    "    phi_a:38,\n",
    "    phi_b:-118,\n",
    "    m_r:0.616,\n",
    "    m_2:1.410,\n",
    "    I_t:31.2*10**(-3),\n",
    "    l_g:0.188,\n",
    "    l_1:0.118,\n",
    "    l_2:0.263,\n",
    "    k_b2:0.72*10**(3),\n",
    "    k_1:1.66*10**3,\n",
    "    k_2:1.61*10**3,\n",
    "    h_p:12*10**(-3),\n",
    "    c_s:0.24,\n",
    "    k_s: 0.83, # observeret\n",
    "    n: 11*3/100, # observeret\n",
    "    F_s0: 5.2 # observeret\n",
    "}"
   ]
  },
  {
   "cell_type": "code",
   "execution_count": 4,
   "metadata": {},
   "outputs": [
    {
     "data": {
      "image/png": "[encoded data removed]",
      "text/latex": [
       "$\\displaystyle F_{s0}$"
      ],
      "text/plain": [
       "Fₛ₀"
      ]
     },
     "execution_count": 4,
     "metadata": {},
     "output_type": "execute_result"
    }
   ],
   "source": [
    "F_s0"
   ]
  },
  {
   "cell_type": "code",
   "execution_count": 5,
   "metadata": {},
   "outputs": [],
   "source": [
    "k_stjerne = (k_s*(1+n*I)+F_s0/h_p*(1+c_s))\n",
    "M = Matrix([[l_2**(-2) * I_t,0],[0,m_2]])\n",
    "K = Matrix([[k_2 + l_2**(-2) *(k_c + l_1**2 * k_1 - l_g*m_r*g), -k_2], [-k_2, k_2 + k_b2 -2*k_stjerne]])\n",
    "A = -M.inv()*K\n",
    "A = A.subs(mydict)"
   ]
  },
  {
   "cell_type": "code",
   "execution_count": 6,
   "metadata": {},
   "outputs": [
    {
     "data": {
      "text/latex": [
       "$\\displaystyle \\left[\\begin{matrix}k_{2} + \\frac{- g l_{g} m_{r} + k_{1} l_{1}^{2} + k_{c}}{l_{2}^{2}} & - k_{2}\\\\- k_{2} & - \\frac{2 F_{s0} \\left(c_{s} + 1\\right)}{h_{p}} + k_{2} + k_{b2} - 2 k_{s} \\left(i n + 1\\right)\\end{matrix}\\right]$"
      ],
      "text/plain": [
       "⎡                      2                                                     ⎤\n",
       "⎢     -g⋅l_g⋅mᵣ + k₁⋅l₁  + k_c                                               ⎥\n",
       "⎢k₂ + ────────────────────────                       -k₂                     ⎥\n",
       "⎢                 2                                                          ⎥\n",
       "⎢               l₂                                                           ⎥\n",
       "⎢                                                                            ⎥\n",
       "⎢                                 2⋅Fₛ₀⋅(cₛ + 1)                             ⎥\n",
       "⎢             -k₂               - ────────────── + k₂ + k_b2 - 2⋅kₛ⋅(ⅈ⋅n + 1)⎥\n",
       "⎣                                       hₚ                                   ⎦"
      ]
     },
     "execution_count": 6,
     "metadata": {},
     "output_type": "execute_result"
    }
   ],
   "source": [
    "K"
   ]
  },
  {
   "cell_type": "code",
   "execution_count": 7,
   "metadata": {},
   "outputs": [
    {
     "data": {
      "image/png": "[encoded data removed]",
      "text/latex": [
       "$\\displaystyle \\operatorname{PurePoly}{\\left( 1.0 \\lambda^{2} + \\left(2.0 \\lambda_{tilde} + 5185.27917492271 - 0.388510638297872 i\\right) \\lambda + 1.0 \\lambda_{tilde}^{2} + \\lambda_{tilde} \\left(5185.27917492271 - 0.388510638297872 i\\right) - 255745.92967062 - 1669.09964898745 i, \\lambda, domain=\\mathbb{C}\\left[\\lambda_{tilde}\\right] \\right)}$"
      ],
      "text/plain": [
       "PurePoly(1.0*lambda**2 + (2.0*lambda_tilde + 5185.27917492271 - 0.388510638297\n",
       "872*I)*lambda + 1.0*lambda_tilde**2 + lambda_tilde*(5185.27917492271 - 0.38851\n",
       "0638297872*I) - 255745.92967062 - 1669.09964898745*I, lambda, domain='CC[lambd\n",
       "a_tilde]')"
      ]
     },
     "execution_count": 7,
     "metadata": {},
     "output_type": "execute_result"
    }
   ],
   "source": [
    "lamb_tilde, lamb = symbols(\"lambda_tilde lambda\")\n",
    "(A-lamb_tilde*Matrix([[1,0],[0,1]])).charpoly()"
   ]
  },
  {
   "cell_type": "code",
   "execution_count": 8,
   "metadata": {},
   "outputs": [
    {
     "data": {
      "image/png": "[encoded data removed]",
      "text/latex": [
       "$\\displaystyle \\frac{F_{s0} \\left(c_{s} + 1\\right)}{h_{p}} + k_{s} \\left(i n + 1\\right)$"
      ],
      "text/plain": [
       "Fₛ₀⋅(cₛ + 1)               \n",
       "──────────── + kₛ⋅(ⅈ⋅n + 1)\n",
       "     hₚ                    "
      ]
     },
     "execution_count": 8,
     "metadata": {},
     "output_type": "execute_result"
    }
   ],
   "source": [
    "k_stjerne"
   ]
  },
  {
   "cell_type": "code",
   "execution_count": 13,
   "metadata": {},
   "outputs": [
    {
     "data": {
      "image/png": "[encoded data removed]",
      "text/latex": [
       "$\\displaystyle \\left[ 5234.14028602318, \\  48.8621554335526\\right]$"
      ],
      "text/plain": [
       "[5234.14028602318, 48.8621554335526]"
      ]
     },
     "metadata": {},
     "output_type": "display_data"
    },
    {
     "data": {
      "image/png": "[encoded data removed]",
      "text/latex": [
       "$\\displaystyle \\left[ 48.8611106459295 + 0.319530998322659 i, \\  -5234.14028556864 + 0.068979639975213 i\\right]$"
      ],
      "text/plain": [
       "[48.8611106459295 + 0.319530998322659⋅ⅈ, -5234.14028556864 + 0.068979639975213\n",
       "⋅ⅈ]"
      ]
     },
     "metadata": {},
     "output_type": "display_data"
    },
    {
     "data": {
      "image/png": "[encoded data removed]",
      "text/latex": [
       "$\\displaystyle \\left[ 6.99010965863491 + 0.022855936024404 i, \\  0.00047672535238 + 72.3473585267348 i, \\  6.99010965863491 - 0.022855936024404 i, \\  0.00047672535238 - 72.3473585267348 i\\right]$"
      ],
      "text/plain": [
       "[6.99010965863491 + 0.022855936024404⋅ⅈ, 0.00047672535238 + 72.3473585267348⋅ⅈ\n",
       ", 6.99010965863491 - 0.022855936024404⋅ⅈ, 0.00047672535238 - 72.3473585267348⋅\n",
       "ⅈ]"
      ]
     },
     "execution_count": 13,
     "metadata": {},
     "output_type": "execute_result"
    }
   ],
   "source": [
    "display([abs(val).evalf() for val in A.eigenvals().keys()])\n",
    "løsninger = [x for x in (list(A.eigenvals().keys()))[::-1]]\n",
    "values = [sqrt(val).evalf() for val in løsninger]\n",
    "all_values = [re(val)+im(val)*I for val in values] + [re(val)-im(val)*I for val in values]\n",
    "#all_values = [p.evalf() for p in all_values]\n",
    "all_values"
   ]
  },
  {
   "cell_type": "code",
   "execution_count": 14,
   "metadata": {},
   "outputs": [
    {
     "data": {
      "text/latex": [
       "$\\displaystyle \\left[ \\left( -5234.14028556864 + 0.068979639975213 i, \\  1, \\  \\left[ \\left[\\begin{matrix}0.967161019301949 + 0.000116993316464227 i\\\\-0.254164413146454 - 1.20539886669451 \\cdot 10^{-5} i\\end{matrix}\\right]\\right]\\right), \\  \\left( 48.8611106459295 + 0.319530998322659 i, \\  1, \\  \\left[ \\left[\\begin{matrix}0.698559268752901 - 0.000117631553212161 i\\\\0.850376582741536 - 8.06598342164525 \\cdot 10^{-5} i\\end{matrix}\\right]\\right]\\right)\\right]$"
      ],
      "text/plain": [
       "⎡⎛                                            ⎡⎡0.967161019301949 + 0.00011699\n",
       "⎢⎜-5234.14028556864 + 0.068979639975213⋅ⅈ, 1, ⎢⎢                              \n",
       "⎣⎝                                            ⎣⎣-0.254164413146454 - 1.2053988\n",
       "\n",
       "3316464227⋅ⅈ⎤⎤⎞  ⎛                                           ⎡⎡0.6985592687529\n",
       "            ⎥⎥⎟, ⎜48.8611106459295 + 0.319530998322659⋅ⅈ, 1, ⎢⎢               \n",
       "6669451e-5⋅ⅈ⎦⎦⎠  ⎝                                           ⎣⎣0.8503765827415\n",
       "\n",
       "01 - 0.000117631553212161⋅ⅈ⎤⎤⎞⎤\n",
       "                           ⎥⎥⎟⎥\n",
       "36 - 8.06598342164525e-5⋅ⅈ ⎦⎦⎠⎦"
      ]
     },
     "execution_count": 14,
     "metadata": {},
     "output_type": "execute_result"
    }
   ],
   "source": [
    "A.eigenvects()"
   ]
  },
  {
   "cell_type": "markdown",
   "metadata": {},
   "source": [
    "----\n",
    "4.5"
   ]
  },
  {
   "cell_type": "markdown",
   "metadata": {},
   "source": [
    "### TJEK IGEN"
   ]
  },
  {
   "cell_type": "code",
   "execution_count": 16,
   "metadata": {},
   "outputs": [
    {
     "name": "stdout",
     "output_type": "stream",
     "text": [
      "Tjekker 6.99010965863491 + 0.022855936024404*I\n",
      "xi = -0.999994654398653\n",
      "omega_n = 6.99014702517426\n",
      "\n",
      "Tjekker 0.00047672535238 + 72.3473585267348*I\n",
      "xi = -0.00000658939541235645\n",
      "omega_n = 72.3473585283055\n",
      "\n"
     ]
    }
   ],
   "source": [
    "for lamb in values:\n",
    "    print(f\"Tjekker {lamb}\")\n",
    "    xi = -re(lamb)/abs(lamb)\n",
    "    print(f\"xi = {xi}\")\n",
    "    omega_n = abs(lamb)\n",
    "    print(f\"omega_n = {omega_n}\\n\")"
   ]
  },
  {
   "cell_type": "markdown",
   "metadata": {},
   "source": [
    "#### Ens for positive og negativ, derfor kun angivet for positive"
   ]
  },
  {
   "cell_type": "code",
   "execution_count": null,
   "metadata": {},
   "outputs": [],
   "source": []
  }
 ],
 "metadata": {
  "kernelspec": {
   "display_name": "Python 3.11.2 64-bit",
   "language": "python",
   "name": "python3"
  },
  "language_info": {
   "codemirror_mode": {
    "name": "ipython",
    "version": 3
   },
   "file_extension": ".py",
   "mimetype": "text/x-python",
   "name": "python",
   "nbconvert_exporter": "python",
   "pygments_lexer": "ipython3",
   "version": "3.11.2"
  },
  "orig_nbformat": 4,
  "vscode": {
   "interpreter": {
    "hash": "b0fa6594d8f4cbf19f97940f81e996739fb7646882a419484c72d19e05852a7e"
   }
  }
 },
 "nbformat": 4,
 "nbformat_minor": 2
}
