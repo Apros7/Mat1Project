{
 "cells": [
  {
   "cell_type": "code",
   "execution_count": 2,
   "metadata": {},
   "outputs": [],
   "source": [
    "from sympy import *\n",
    "init_printing()\n",
    "from dtumathtools import *"
   ]
  },
  {
   "cell_type": "markdown",
   "metadata": {},
   "source": [
    "# Aksel-leje projekt\n",
    "\n",
    "Danmarks Tekniske Universitet\\\n",
    "Advanced Engineering Mathematics 1\n"
   ]
  },
  {
   "cell_type": "markdown",
   "metadata": {},
   "source": [
    "## 1. Kompleks stivhed"
   ]
  },
  {
   "cell_type": "markdown",
   "metadata": {},
   "source": [
    "#### 1.1"
   ]
  },
  {
   "cell_type": "markdown",
   "metadata": {},
   "source": [
    "\n",
    "\n",
    "Nedenstende sammenhæng skal vises:\n",
    "\n",
    "$x (t)=A \\cdot \\cos (\\mathit{wt} +\\varphi)=Re (A \\cdot {\\mathrm e}^{{i} {({\\mathit{wt}} {+}{\\varphi})}})$\n",
    "\n",
    "Vi ved at følgende gælder:\n",
    "\n",
    "${\\mathrm e}^{{\\mathit{iv}}}=\\cos (v)+i \\cdot \\sin (v)\n",
    "\\\\\n",
    " \\Rightarrow \n",
    "\\\\\n",
    " {\\mathrm e}^{{i} {({\\mathit{wt}} {+}{\\varphi})}}=\\cos (\\mathit{wt} +\\varphi)+i \\cdot \\sin (\\mathit{wt} +\\varphi)$\n",
    "\n",
    "Når amplituden indsættes, kan det omskrives således:\n",
    "\n",
    " $\\Rightarrow$\n",
    "\n",
    " $A {\\mathrm e}^{{i} {({\\mathit{wt}} {+}{\\varphi})}}=A (\\cos (\\mathit{wt} +\\varphi)+i \\cdot \\sin (\\mathit{wt} +\\varphi))$\n",
    "\n",
    "Når man tager reeldelen af dette, kan man altså omskrive det til:\n",
    "\n",
    "$\\Rightarrow$\n",
    "\n",
    " $Re (A {\\mathrm e}^{{i} {({\\mathit{wt}} {+}{\\varphi})}})=Re (A (\\cos (\\mathit{wt} +\\phi)+i \\cdot \\sin (\\mathit{wt} +\\phi)))=A \\cdot \\cos (\\mathit{wt} +\\varphi)$\n",
    "\n",
    " Hvilket var det vi skulle vise, altså at:\n",
    "\n",
    "$x (t)=A \\cdot \\cos (\\mathit{wt} +\\varphi)=Re (A \\cdot {\\mathrm e}^{{i} {({\\mathit{wt}} {+}{\\varphi})}})$\n"
   ]
  },
  {
   "cell_type": "markdown",
   "metadata": {},
   "source": [
    "**Vi skal finde et udtryk for A og $\\phi$, udtryk ved a og b.**"
   ]
  },
  {
   "cell_type": "code",
   "execution_count": 45,
   "metadata": {},
   "outputs": [
    {
     "data": {
      "image/png": "[encoded data removed]",
      "text/latex": [
       "$\\displaystyle \\left( \\left[ \\frac{a \\cos{\\left(t w \\right)} + b \\sin{\\left(t w \\right)}}{\\sin{\\left(\\phi + t w \\right)}}\\right], \\  \\left[ - t w + \\operatorname{asin}{\\left(\\frac{a \\cos{\\left(t w \\right)} + b \\sin{\\left(t w \\right)}}{A} \\right)}, \\  - t w - \\operatorname{asin}{\\left(\\frac{a \\cos{\\left(t w \\right)} + b \\sin{\\left(t w \\right)}}{A} \\right)} + \\pi\\right]\\right)$"
      ],
      "text/plain": [
       "⎛⎡a⋅cos(t⋅w) + b⋅sin(t⋅w)⎤  ⎡           ⎛a⋅cos(t⋅w) + b⋅sin(t⋅w)⎞             \n",
       "⎜⎢───────────────────────⎥, ⎢-t⋅w + asin⎜───────────────────────⎟, -t⋅w - asin\n",
       "⎝⎣      sin(φ + t⋅w)     ⎦  ⎣           ⎝           A           ⎠             \n",
       "\n",
       "⎛a⋅cos(t⋅w) + b⋅sin(t⋅w)⎞    ⎤⎞\n",
       "⎜───────────────────────⎟ + π⎥⎟\n",
       "⎝           A           ⎠    ⎦⎠"
      ]
     },
     "metadata": {},
     "output_type": "display_data"
    }
   ],
   "source": [
    "a,b,x,t,w,phi,A = symbols('a b x t w phi A', real=True)\n",
    "Lign1 = Eq(a*cos(w*t)+b*sin(w*t),A*sin(w*t+phi))\n",
    "# Isolerer A\n",
    "A_iso = solve(Lign1,A)\n",
    "\n",
    "# Isolerer phi\n",
    "phi_iso = solve(Lign1,phi)\n",
    "display((A_iso,phi_iso))\n"
   ]
  },
  {
   "cell_type": "markdown",
   "metadata": {},
   "source": [
    "#### 1.2"
   ]
  },
  {
   "cell_type": "code",
   "execution_count": 46,
   "metadata": {},
   "outputs": [
    {
     "data": {
      "image/png": "[encoded data removed]",
      "text/latex": [
       "$\\displaystyle A k_{s} \\sin{\\left(\\phi + t w \\right)} \\tan{\\left(\\delta \\right)} - A k_{s} \\cos{\\left(\\phi + t w \\right)}$"
      ],
      "text/plain": [
       "A⋅kₛ⋅sin(φ + t⋅w)⋅tan(δ) - A⋅kₛ⋅cos(φ + t⋅w)"
      ]
     },
     "execution_count": 46,
     "metadata": {},
     "output_type": "execute_result"
    }
   ],
   "source": [
    "delta, k_s = symbols('delta k_s', real=True)\n",
    "k = k_s*(1+tan(delta)*I)\n",
    "z = A*(cos(w*t+phi)+I*sin(w*t+phi))\n",
    "expand(re(-k*z))"
   ]
  },
  {
   "cell_type": "code",
   "execution_count": 51,
   "metadata": {},
   "outputs": [],
   "source": [
    "lille_a = -A*k_s\n",
    "lille_b = A*k_s*tan(delta)"
   ]
  },
  {
   "cell_type": "code",
   "execution_count": 57,
   "metadata": {},
   "outputs": [
    {
     "data": {
      "image/png": "[encoded data removed]",
      "text/latex": [
       "$\\displaystyle \\frac{A k_{s} \\sin{\\left(t w \\right)} \\tan{\\left(\\delta \\right)} - A k_{s} \\cos{\\left(t w \\right)}}{\\sin{\\left(\\phi + t w \\right)}}$"
      ],
      "text/plain": [
       "A⋅kₛ⋅sin(t⋅w)⋅tan(δ) - A⋅kₛ⋅cos(t⋅w)\n",
       "────────────────────────────────────\n",
       "            sin(φ + t⋅w)            "
      ]
     },
     "execution_count": 57,
     "metadata": {},
     "output_type": "execute_result"
    }
   ],
   "source": [
    "# løsning for store A\n",
    "A_F = A_iso[0].subs({a:lille_a,b:lille_b})\n",
    "A_F"
   ]
  },
  {
   "cell_type": "code",
   "execution_count": 56,
   "metadata": {},
   "outputs": [
    {
     "data": {
      "image/png": "[encoded data removed]",
      "text/latex": [
       "$\\displaystyle \\left( - t w + \\operatorname{asin}{\\left(k_{s} \\left(\\sin{\\left(t w \\right)} \\tan{\\left(\\delta \\right)} - \\cos{\\left(t w \\right)}\\right) \\right)}, \\  - t w - \\operatorname{asin}{\\left(k_{s} \\left(\\sin{\\left(t w \\right)} \\tan{\\left(\\delta \\right)} - \\cos{\\left(t w \\right)}\\right) \\right)} + \\pi\\right)$"
      ],
      "text/plain": [
       "(-t⋅w + asin(kₛ⋅(sin(t⋅w)⋅tan(δ) - cos(t⋅w))), -t⋅w - asin(kₛ⋅(sin(t⋅w)⋅tan(δ)\n",
       " - cos(t⋅w))) + π)"
      ]
     },
     "execution_count": 56,
     "metadata": {},
     "output_type": "execute_result"
    }
   ],
   "source": [
    "simplify(phi_iso[0].subs({a:lille_a,b:lille_b})), simplify(phi_iso[1].subs({a:lille_a,b:lille_b}))"
   ]
  },
  {
   "cell_type": "markdown",
   "metadata": {},
   "source": [
    "#### 1.3"
   ]
  },
  {
   "cell_type": "code",
   "execution_count": null,
   "metadata": {},
   "outputs": [],
   "source": []
  },
  {
   "cell_type": "markdown",
   "metadata": {},
   "source": [
    "#### 1.4"
   ]
  },
  {
   "cell_type": "code",
   "execution_count": 17,
   "metadata": {},
   "outputs": [
    {
     "data": {
      "image/png": "[encoded data removed]",
      "text/latex": [
       "$\\displaystyle \\left(-0.653643620863612 - 0.756802495307928 i\\right) e^{3 i}$"
      ],
      "text/plain": [
       "                                            3⋅ⅈ\n",
       "(-0.653643620863612 - 0.756802495307928⋅ⅈ)⋅ℯ   "
      ]
     },
     "execution_count": 17,
     "metadata": {},
     "output_type": "execute_result"
    }
   ],
   "source": []
  },
  {
   "cell_type": "markdown",
   "metadata": {},
   "source": [
    "## 2. Frie svingninger i system med én frihedsgrad"
   ]
  },
  {
   "cell_type": "code",
   "execution_count": null,
   "metadata": {},
   "outputs": [],
   "source": []
  },
  {
   "cell_type": "markdown",
   "metadata": {},
   "source": [
    "#### 2.1"
   ]
  },
  {
   "cell_type": "code",
   "execution_count": null,
   "metadata": {},
   "outputs": [],
   "source": []
  },
  {
   "cell_type": "markdown",
   "metadata": {},
   "source": [
    "#### 2.2"
   ]
  },
  {
   "cell_type": "code",
   "execution_count": null,
   "metadata": {},
   "outputs": [],
   "source": []
  },
  {
   "cell_type": "markdown",
   "metadata": {},
   "source": [
    "#### 2.3"
   ]
  },
  {
   "cell_type": "code",
   "execution_count": null,
   "metadata": {},
   "outputs": [],
   "source": []
  },
  {
   "cell_type": "markdown",
   "metadata": {},
   "source": [
    "#### 2.4"
   ]
  },
  {
   "cell_type": "code",
   "execution_count": null,
   "metadata": {},
   "outputs": [],
   "source": []
  },
  {
   "cell_type": "markdown",
   "metadata": {},
   "source": [
    "#### 2.5"
   ]
  },
  {
   "cell_type": "code",
   "execution_count": null,
   "metadata": {},
   "outputs": [],
   "source": []
  },
  {
   "cell_type": "markdown",
   "metadata": {},
   "source": [
    "#### 2.6"
   ]
  },
  {
   "cell_type": "code",
   "execution_count": null,
   "metadata": {},
   "outputs": [],
   "source": []
  },
  {
   "cell_type": "markdown",
   "metadata": {},
   "source": [
    "#### 2.7"
   ]
  },
  {
   "cell_type": "code",
   "execution_count": null,
   "metadata": {},
   "outputs": [],
   "source": []
  },
  {
   "cell_type": "markdown",
   "metadata": {},
   "source": [
    "#### 2.8"
   ]
  },
  {
   "cell_type": "code",
   "execution_count": null,
   "metadata": {},
   "outputs": [],
   "source": []
  },
  {
   "cell_type": "markdown",
   "metadata": {},
   "source": [
    "## 3. Tvungne svingninger i system med én frihedsgrad"
   ]
  },
  {
   "cell_type": "code",
   "execution_count": null,
   "metadata": {},
   "outputs": [],
   "source": []
  },
  {
   "cell_type": "markdown",
   "metadata": {},
   "source": [
    "#### 3.1"
   ]
  },
  {
   "cell_type": "code",
   "execution_count": null,
   "metadata": {},
   "outputs": [],
   "source": []
  },
  {
   "cell_type": "markdown",
   "metadata": {},
   "source": [
    "#### 3.2"
   ]
  },
  {
   "cell_type": "code",
   "execution_count": null,
   "metadata": {},
   "outputs": [],
   "source": []
  },
  {
   "cell_type": "markdown",
   "metadata": {},
   "source": [
    "#### 3.3"
   ]
  },
  {
   "cell_type": "code",
   "execution_count": null,
   "metadata": {},
   "outputs": [],
   "source": []
  },
  {
   "cell_type": "markdown",
   "metadata": {},
   "source": [
    "#### 3.4"
   ]
  },
  {
   "cell_type": "code",
   "execution_count": null,
   "metadata": {},
   "outputs": [],
   "source": []
  },
  {
   "cell_type": "markdown",
   "metadata": {},
   "source": [
    "#### 3.5"
   ]
  },
  {
   "cell_type": "code",
   "execution_count": null,
   "metadata": {},
   "outputs": [],
   "source": []
  },
  {
   "cell_type": "markdown",
   "metadata": {},
   "source": [
    "#### 3.6"
   ]
  },
  {
   "cell_type": "code",
   "execution_count": null,
   "metadata": {},
   "outputs": [],
   "source": []
  },
  {
   "cell_type": "markdown",
   "metadata": {},
   "source": [
    "#### 3.7"
   ]
  },
  {
   "cell_type": "code",
   "execution_count": null,
   "metadata": {},
   "outputs": [],
   "source": []
  },
  {
   "cell_type": "markdown",
   "metadata": {},
   "source": [
    "## 4. Modalanalyse af aksel-leje-system"
   ]
  },
  {
   "cell_type": "code",
   "execution_count": null,
   "metadata": {},
   "outputs": [],
   "source": []
  },
  {
   "cell_type": "markdown",
   "metadata": {},
   "source": [
    "#### 4.1"
   ]
  },
  {
   "cell_type": "code",
   "execution_count": null,
   "metadata": {},
   "outputs": [],
   "source": []
  },
  {
   "cell_type": "markdown",
   "metadata": {},
   "source": [
    "#### 4.2"
   ]
  },
  {
   "cell_type": "code",
   "execution_count": null,
   "metadata": {},
   "outputs": [],
   "source": []
  },
  {
   "cell_type": "markdown",
   "metadata": {},
   "source": [
    "#### 4.3"
   ]
  },
  {
   "cell_type": "code",
   "execution_count": null,
   "metadata": {},
   "outputs": [],
   "source": []
  },
  {
   "cell_type": "markdown",
   "metadata": {},
   "source": [
    "#### 4.4"
   ]
  },
  {
   "cell_type": "code",
   "execution_count": null,
   "metadata": {},
   "outputs": [],
   "source": []
  },
  {
   "cell_type": "markdown",
   "metadata": {},
   "source": [
    "#### 4.5"
   ]
  },
  {
   "cell_type": "code",
   "execution_count": null,
   "metadata": {},
   "outputs": [],
   "source": []
  },
  {
   "cell_type": "markdown",
   "metadata": {},
   "source": [
    "#### 4.6"
   ]
  },
  {
   "cell_type": "code",
   "execution_count": null,
   "metadata": {},
   "outputs": [],
   "source": []
  },
  {
   "cell_type": "markdown",
   "metadata": {},
   "source": [
    "#### 4.7"
   ]
  },
  {
   "cell_type": "code",
   "execution_count": null,
   "metadata": {},
   "outputs": [],
   "source": []
  },
  {
   "cell_type": "markdown",
   "metadata": {},
   "source": [
    "#### 4.8"
   ]
  },
  {
   "cell_type": "code",
   "execution_count": null,
   "metadata": {},
   "outputs": [],
   "source": []
  },
  {
   "cell_type": "markdown",
   "metadata": {},
   "source": [
    "## 5. Frekvensrespons af aksel-leje-system"
   ]
  },
  {
   "cell_type": "markdown",
   "metadata": {},
   "source": []
  },
  {
   "cell_type": "code",
   "execution_count": null,
   "metadata": {},
   "outputs": [],
   "source": []
  },
  {
   "cell_type": "markdown",
   "metadata": {},
   "source": [
    "#### 5.1"
   ]
  },
  {
   "cell_type": "code",
   "execution_count": null,
   "metadata": {},
   "outputs": [],
   "source": []
  },
  {
   "cell_type": "markdown",
   "metadata": {},
   "source": [
    "#### 5.2"
   ]
  },
  {
   "cell_type": "code",
   "execution_count": null,
   "metadata": {},
   "outputs": [],
   "source": []
  },
  {
   "cell_type": "markdown",
   "metadata": {},
   "source": [
    "#### 5.3"
   ]
  },
  {
   "cell_type": "code",
   "execution_count": null,
   "metadata": {},
   "outputs": [],
   "source": []
  },
  {
   "cell_type": "markdown",
   "metadata": {},
   "source": [
    "#### 5.4"
   ]
  },
  {
   "cell_type": "code",
   "execution_count": null,
   "metadata": {},
   "outputs": [],
   "source": []
  },
  {
   "cell_type": "markdown",
   "metadata": {},
   "source": [
    "#### 5.5"
   ]
  },
  {
   "cell_type": "code",
   "execution_count": null,
   "metadata": {},
   "outputs": [],
   "source": []
  },
  {
   "cell_type": "markdown",
   "metadata": {},
   "source": [
    "#### 5.6"
   ]
  },
  {
   "cell_type": "code",
   "execution_count": null,
   "metadata": {},
   "outputs": [],
   "source": []
  },
  {
   "cell_type": "markdown",
   "metadata": {},
   "source": [
    "#### 5.7"
   ]
  },
  {
   "cell_type": "code",
   "execution_count": null,
   "metadata": {},
   "outputs": [],
   "source": []
  },
  {
   "cell_type": "markdown",
   "metadata": {},
   "source": [
    "#### 5.8"
   ]
  },
  {
   "cell_type": "code",
   "execution_count": null,
   "metadata": {},
   "outputs": [],
   "source": []
  },
  {
   "cell_type": "markdown",
   "metadata": {},
   "source": [
    "#### 5.9"
   ]
  },
  {
   "cell_type": "code",
   "execution_count": null,
   "metadata": {},
   "outputs": [],
   "source": []
  }
 ],
 "metadata": {
  "kernelspec": {
   "display_name": "Python 3.11.2 64-bit",
   "language": "python",
   "name": "python3"
  },
  "language_info": {
   "codemirror_mode": {
    "name": "ipython",
    "version": 3
   },
   "file_extension": ".py",
   "mimetype": "text/x-python",
   "name": "python",
   "nbconvert_exporter": "python",
   "pygments_lexer": "ipython3",
   "version": "3.11.2"
  },
  "orig_nbformat": 4,
  "vscode": {
   "interpreter": {
    "hash": "b0fa6594d8f4cbf19f97940f81e996739fb7646882a419484c72d19e05852a7e"
   }
  }
 },
 "nbformat": 4,
 "nbformat_minor": 2
}
