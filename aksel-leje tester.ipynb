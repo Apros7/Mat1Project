{
 "cells": [
  {
   "cell_type": "code",
   "execution_count": 8,
   "metadata": {},
   "outputs": [],
   "source": [
    "from sympy import *\n",
    "from dtumathtools import *\n",
    "from matfunctions.mat1 import *\n",
    "from spb import *\n",
    "init_printing()"
   ]
  },
  {
   "cell_type": "code",
   "execution_count": 53,
   "metadata": {},
   "outputs": [
    {
     "data": {
      "text/latex": [
       "$\\displaystyle \\left( \\left[\\begin{matrix}\\frac{I_{t}}{l_{2}^{2}} & 0\\\\0 & m_{2}\\end{matrix}\\right], \\  \\left[\\begin{matrix}k_{2} + \\frac{- g l_{g} m_{r} + k_{1} l_{1}^{2} + k_{c}}{l_{2}^{2}} & - k_{2}\\\\- k_{2} & k_{2} + k_{b2}\\end{matrix}\\right], \\  \\left[\\begin{matrix}\\frac{\\omega^{2} u \\sin{\\left(\\omega t + \\phi_{u} \\right)}}{l_{2}}\\\\0\\end{matrix}\\right], \\  \\left[\\begin{matrix}y_{1}{\\left(t \\right)}\\\\y_{2}{\\left(t \\right)}\\end{matrix}\\right]\\right)$"
      ],
      "text/plain": [
       "⎛⎡ Iₜ    ⎤  ⎡                      2                   ⎤  ⎡ 2                ⎤\n",
       "⎜⎢───  0 ⎥  ⎢     -g⋅l_g⋅mᵣ + k₁⋅l₁  + k_c             ⎥  ⎢ω ⋅u⋅sin(ω⋅t + φᵤ)⎥\n",
       "⎜⎢  2    ⎥  ⎢k₂ + ────────────────────────      -k₂    ⎥  ⎢──────────────────⎥\n",
       "⎜⎢l₂     ⎥, ⎢                 2                        ⎥, ⎢        l₂        ⎥\n",
       "⎜⎢       ⎥  ⎢               l₂                         ⎥  ⎢                  ⎥\n",
       "⎜⎣ 0   m₂⎦  ⎢                                          ⎥  ⎣        0         ⎦\n",
       "⎝           ⎣             -k₂               k₂ + k_{b2}⎦                      \n",
       "\n",
       "         ⎞\n",
       "         ⎟\n",
       "  ⎡y₁(t)⎤⎟\n",
       ", ⎢     ⎥⎟\n",
       "  ⎣y₂(t)⎦⎟\n",
       "         ⎟\n",
       "         ⎠"
      ]
     },
     "execution_count": 53,
     "metadata": {},
     "output_type": "execute_result"
    }
   ],
   "source": [
    "x, y, z, a, b, c = symbols('x y z a b c')\n",
    "w = symbols('k w', real=True)\n",
    "m, t, delta = symbols('m t delta', real=True, positive=True)\n",
    "xi = symbols('xi', real=True)\n",
    "\n",
    "k1, k2, kc, kb2, l1, l2, lg, it = symbols('k_1 k_2 k_c k_{b2} l_1 l_2 l_g I_t', real=True, positive=True)\n",
    "m2, mr, g, u, w, t, phiu = symbols('m_2 m_r g u omega t phi_u', real=True, positive=True)\n",
    "ks, n, F0s, hp, cs = symbols('k_s eta F_{0s} h_p c_s')\n",
    "z1,z2 = quick_functions(\"z(1:3)\")\n",
    "z = Lambda(t, Matrix([z1(t), z2(t)]))\n",
    "\n",
    "k = ks*(1+n*I) + F0s/hp * (1+cs)\n",
    "Fz = -2*k*z2(t)\n",
    "FFHM = re(Fz)\n",
    "ffhm = Lambda(t, Matrix([0, FFHM]))\n",
    "\n",
    "y1, y2 = quick_functions(\"y(1:3)\")\n",
    "\n",
    "M = Matrix([[l2**(-2)*it, 0], [0, m2]]) # Massematrice\n",
    "K = Matrix([[k2+l2**(-2)*(kc+l1**2*k1-lg*mr*g), -k2], [-k2, k2+kb2]]) # Stivhedsmatrice\n",
    "f = Lambda(t, Matrix([l2**(-1)*u*w**2*sin(w*t+phiu), 0]))\n",
    "y = Lambda(t, Matrix([y1(t), y2(t)])) # Tilstandsvektor\n",
    "\n",
    "M, K, f(t), y(t)"
   ]
  },
  {
   "cell_type": "code",
   "execution_count": 54,
   "metadata": {},
   "outputs": [
    {
     "data": {
      "text/latex": [
       "$\\displaystyle \\left[\\begin{matrix}\\frac{I_{t} \\frac{d^{2}}{d t^{2}} y_{1}{\\left(t \\right)}}{l_{2}^{2}} - k_{2} y_{2}{\\left(t \\right)} + \\left(k_{2} + \\frac{- g l_{g} m_{r} + k_{1} l_{1}^{2} + k_{c}}{l_{2}^{2}}\\right) y_{1}{\\left(t \\right)}\\\\- k_{2} y_{1}{\\left(t \\right)} + m_{2} \\frac{d^{2}}{d t^{2}} y_{2}{\\left(t \\right)} + \\left(k_{2} + k_{b2}\\right) y_{2}{\\left(t \\right)} - \\left(- 2 \\cdot \\left(1 - \\operatorname{im}{\\left(\\eta\\right)}\\right) \\operatorname{re}{\\left(k_{s}\\right)} - 2 \\left(\\operatorname{re}{\\left(c_{s}\\right)} + 1\\right) \\operatorname{re}{\\left(\\frac{F_{0s}}{h_{p}}\\right)} + 2 \\operatorname{re}{\\left(\\eta\\right)} \\operatorname{im}{\\left(k_{s}\\right)} + 2 \\operatorname{im}{\\left(c_{s}\\right)} \\operatorname{im}{\\left(\\frac{F_{0s}}{h_{p}}\\right)}\\right) \\operatorname{re}{\\left(z_{2}{\\left(t \\right)}\\right)} + \\left(- 2 \\cdot \\left(1 - \\operatorname{im}{\\left(\\eta\\right)}\\right) \\operatorname{im}{\\left(k_{s}\\right)} - 2 \\left(\\operatorname{re}{\\left(c_{s}\\right)} + 1\\right) \\operatorname{im}{\\left(\\frac{F_{0s}}{h_{p}}\\right)} - 2 \\operatorname{re}{\\left(\\eta\\right)} \\operatorname{re}{\\left(k_{s}\\right)} - 2 \\operatorname{re}{\\left(\\frac{F_{0s}}{h_{p}}\\right)} \\operatorname{im}{\\left(c_{s}\\right)}\\right) \\operatorname{im}{\\left(z_{2}{\\left(t \\right)}\\right)}\\end{matrix}\\right] = \\left[\\begin{matrix}\\frac{\\omega^{2} u \\sin{\\left(\\omega t + \\phi_{u} \\right)}}{l_{2}}\\\\0\\end{matrix}\\right]$"
      ],
      "text/plain": [
       "⎡                                                                             \n",
       "⎢                                                                             \n",
       "⎢                                                                             \n",
       "⎢                                                                             \n",
       "⎢                                                                             \n",
       "⎢                                                                             \n",
       "⎢                                                                             \n",
       "⎢                                                                             \n",
       "⎢                                                                             \n",
       "⎢                 2                                                           \n",
       "⎢                d                                 ⎛                          \n",
       "⎢-k₂⋅y₁(t) + m₂⋅───(y₂(t)) + (k₂ + k_{b2})⋅y₂(t) - ⎜-2⋅(1 - im(η))⋅re(kₛ) - 2⋅\n",
       "⎢                 2                                ⎝                          \n",
       "⎣               dt                                                            \n",
       "\n",
       "                      2                                                       \n",
       "                     d                                                        \n",
       "                 Iₜ⋅───(y₁(t))                                                \n",
       "                      2                     ⎛                      2      ⎞   \n",
       "                    dt                      ⎜     -g⋅l_g⋅mᵣ + k₁⋅l₁  + k_c⎟   \n",
       "                 ───────────── - k₂⋅y₂(t) + ⎜k₂ + ────────────────────────⎟⋅y₁\n",
       "                        2                   ⎜                 2           ⎟   \n",
       "                      l₂                    ⎝               l₂            ⎠   \n",
       "                                                                              \n",
       "                                                                              \n",
       "               ⎛F_{0s}⎞                               ⎛F_{0s}⎞⎞             ⎛ \n",
       "(re(cₛ) + 1)⋅re⎜──────⎟ + 2⋅re(η)⋅im(kₛ) + 2⋅im(cₛ)⋅im⎜──────⎟⎟⋅re(z₂(t)) + ⎜-\n",
       "               ⎝  hₚ  ⎠                               ⎝  hₚ  ⎠⎠             ⎝ \n",
       "                                                                              \n",
       "\n",
       "                                                                              \n",
       "                                                                              \n",
       "                                                                              \n",
       "                                                                              \n",
       "                                                                              \n",
       "(t)                                                                           \n",
       "                                                                              \n",
       "                                                                              \n",
       "                                                                              \n",
       "                                                                              \n",
       "                                        ⎛F_{0s}⎞                        ⎛F_{0s\n",
       "2⋅(1 - im(η))⋅im(kₛ) - 2⋅(re(cₛ) + 1)⋅im⎜──────⎟ - 2⋅re(η)⋅re(kₛ) - 2⋅re⎜─────\n",
       "                                        ⎝  hₚ  ⎠                        ⎝  hₚ \n",
       "                                                                              \n",
       "\n",
       "                    ⎤                       \n",
       "                    ⎥                       \n",
       "                    ⎥                       \n",
       "                    ⎥                       \n",
       "                    ⎥   ⎡ 2                ⎤\n",
       "                    ⎥   ⎢ω ⋅u⋅sin(ω⋅t + φᵤ)⎥\n",
       "                    ⎥   ⎢──────────────────⎥\n",
       "                    ⎥ = ⎢        l₂        ⎥\n",
       "                    ⎥   ⎢                  ⎥\n",
       "                    ⎥   ⎣        0         ⎦\n",
       "}⎞       ⎞          ⎥                       \n",
       "─⎟⋅im(cₛ)⎟⋅im(z₂(t))⎥                       \n",
       " ⎠       ⎠          ⎥                       \n",
       "                    ⎦                       "
      ]
     },
     "execution_count": 54,
     "metadata": {},
     "output_type": "execute_result"
    }
   ],
   "source": [
    "Eq(M*diff(y(t), t, 2) + K*y(t) - ffhm(t), f(t))"
   ]
  },
  {
   "cell_type": "code",
   "execution_count": 55,
   "metadata": {},
   "outputs": [
    {
     "data": {
      "text/latex": [
       "$\\displaystyle \\left( \\left[\\begin{matrix}\\frac{I_{t} \\frac{d^{2}}{d t^{2}} z_{1}{\\left(t \\right)}}{l_{2}^{2}} - k_{2} z_{2}{\\left(t \\right)} + \\left(k_{2} + \\frac{- g l_{g} m_{r} + k_{1} l_{1}^{2} + k_{c}}{l_{2}^{2}}\\right) z_{1}{\\left(t \\right)}\\\\- k_{2} z_{1}{\\left(t \\right)} + m_{2} \\frac{d^{2}}{d t^{2}} z_{2}{\\left(t \\right)} + \\left(k_{2} + k_{b2}\\right) z_{2}{\\left(t \\right)}\\end{matrix}\\right], \\  \\left[\\begin{matrix}\\frac{\\omega^{2} u \\sin{\\left(\\omega t + \\phi_{u} \\right)}}{l_{2}}\\\\0\\end{matrix}\\right]\\right)$"
      ],
      "text/plain": [
       "⎛⎡     2                                                          ⎤           \n",
       "⎜⎢    d                                                           ⎥           \n",
       "⎜⎢Iₜ⋅───(z₁(t))                                                   ⎥           \n",
       "⎜⎢     2                     ⎛                      2      ⎞      ⎥           \n",
       "⎜⎢   dt                      ⎜     -g⋅l_g⋅mᵣ + k₁⋅l₁  + k_c⎟      ⎥  ⎡ 2      \n",
       "⎜⎢───────────── - k₂⋅z₂(t) + ⎜k₂ + ────────────────────────⎟⋅z₁(t)⎥  ⎢ω ⋅u⋅sin\n",
       "⎜⎢       2                   ⎜                 2           ⎟      ⎥  ⎢────────\n",
       "⎜⎢     l₂                    ⎝               l₂            ⎠      ⎥, ⎢        \n",
       "⎜⎢                                                                ⎥  ⎢        \n",
       "⎜⎢                         2                                      ⎥  ⎣        \n",
       "⎜⎢                        d                                       ⎥           \n",
       "⎜⎢        -k₂⋅z₁(t) + m₂⋅───(z₂(t)) + (k₂ + k_{b2})⋅z₂(t)         ⎥           \n",
       "⎜⎢                         2                                      ⎥           \n",
       "⎝⎣                       dt                                       ⎦           \n",
       "\n",
       "           ⎞\n",
       "           ⎟\n",
       "           ⎟\n",
       "           ⎟\n",
       "          ⎤⎟\n",
       "(ω⋅t + φᵤ)⎥⎟\n",
       "──────────⎥⎟\n",
       "l₂        ⎥⎟\n",
       "          ⎥⎟\n",
       "0         ⎦⎟\n",
       "           ⎟\n",
       "           ⎟\n",
       "           ⎟\n",
       "           ⎠"
      ]
     },
     "execution_count": 55,
     "metadata": {},
     "output_type": "execute_result"
    }
   ],
   "source": [
    "M*diff(z(t), t, 2) + K*z(t), f(t)"
   ]
  },
  {
   "cell_type": "code",
   "execution_count": 103,
   "metadata": {},
   "outputs": [
    {
     "data": {
      "text/latex": [
       "$\\displaystyle \\left( f_{M}, \\  \\left[\\begin{matrix}\\frac{\\omega^{2} u \\sin{\\left(\\omega t + \\phi_{u} \\right)}}{l_{2} \\cos{\\left(\\omega t \\right)}}\\\\0\\end{matrix}\\right]\\right)$"
      ],
      "text/plain": [
       "⎛     ⎡ 2                ⎤⎞\n",
       "⎜     ⎢ω ⋅u⋅sin(ω⋅t + φᵤ)⎥⎟\n",
       "⎜     ⎢──────────────────⎥⎟\n",
       "⎜f_M, ⎢   l₂⋅cos(ω⋅t)    ⎥⎟\n",
       "⎜     ⎢                  ⎥⎟\n",
       "⎝     ⎣        0         ⎦⎠"
      ]
     },
     "execution_count": 103,
     "metadata": {},
     "output_type": "execute_result"
    }
   ],
   "source": [
    "# De første to led forsvinder når man tager reel delen af ligning 16 og man får ligningen:\n",
    "t,w = symbols(\"t omega\", real=True)\n",
    "\n",
    "fM = f(t) / re(exp(I*w*t))"
   ]
  },
  {
   "cell_type": "code",
   "execution_count": 85,
   "metadata": {},
   "outputs": [
    {
     "ename": "TypeError",
     "evalue": "First argument of MatrixElement should be a matrix",
     "output_type": "error",
     "traceback": [
      "\u001b[1;31m---------------------------------------------------------------------------\u001b[0m",
      "\u001b[1;31mTypeError\u001b[0m                                 Traceback (most recent call last)",
      "Cell \u001b[1;32mIn[85], line 5\u001b[0m\n\u001b[0;32m      2\u001b[0m fM  \u001b[39m=\u001b[39m MatrixSymbol(\u001b[39m\"\u001b[39m\u001b[39mf_M\u001b[39m\u001b[39m\"\u001b[39m, \u001b[39m2\u001b[39m, \u001b[39m1\u001b[39m)\n\u001b[0;32m      3\u001b[0m t \u001b[39m=\u001b[39m symbols(\u001b[39m\"\u001b[39m\u001b[39mt\u001b[39m\u001b[39m\"\u001b[39m, real\u001b[39m=\u001b[39m\u001b[39mTrue\u001b[39;00m)\n\u001b[1;32m----> 5\u001b[0m solve(Eq(f(t), re(fM \u001b[39m*\u001b[39;49m exp(I\u001b[39m*\u001b[39;49mw\u001b[39m*\u001b[39;49mt))), fM)\n",
      "File \u001b[1;32mc:\\Users\\alexa\\AppData\\Local\\Programs\\Python\\Python39\\lib\\site-packages\\sympy\\solvers\\solvers.py:1009\u001b[0m, in \u001b[0;36msolve\u001b[1;34m(f, *symbols, **flags)\u001b[0m\n\u001b[0;32m   1006\u001b[0m     symbols \u001b[39m=\u001b[39m \u001b[39msorted\u001b[39m(symbols, key\u001b[39m=\u001b[39mdefault_sort_key)\n\u001b[0;32m   1008\u001b[0m \u001b[39m# we can solve for non-symbol entities by replacing them with Dummy symbols\u001b[39;00m\n\u001b[1;32m-> 1009\u001b[0m f, symbols, swap_sym \u001b[39m=\u001b[39m recast_to_symbols(f, symbols)\n\u001b[0;32m   1011\u001b[0m \u001b[39m# this is needed in the next two events\u001b[39;00m\n\u001b[0;32m   1012\u001b[0m symset \u001b[39m=\u001b[39m \u001b[39mset\u001b[39m(symbols)\n",
      "File \u001b[1;32mc:\\Users\\alexa\\AppData\\Local\\Programs\\Python\\Python39\\lib\\site-packages\\sympy\\solvers\\solvers.py:104\u001b[0m, in \u001b[0;36mrecast_to_symbols\u001b[1;34m(eqs, symbols)\u001b[0m\n\u001b[0;32m    102\u001b[0m isubs \u001b[39m=\u001b[39m \u001b[39mgetattr\u001b[39m(i, \u001b[39m'\u001b[39m\u001b[39msubs\u001b[39m\u001b[39m'\u001b[39m, \u001b[39mNone\u001b[39;00m)\n\u001b[0;32m    103\u001b[0m \u001b[39mif\u001b[39;00m isubs \u001b[39mis\u001b[39;00m \u001b[39mnot\u001b[39;00m \u001b[39mNone\u001b[39;00m:\n\u001b[1;32m--> 104\u001b[0m     new_f\u001b[39m.\u001b[39mappend(isubs(swap_sym))\n\u001b[0;32m    105\u001b[0m \u001b[39melse\u001b[39;00m:\n\u001b[0;32m    106\u001b[0m     new_f\u001b[39m.\u001b[39mappend(i)\n",
      "File \u001b[1;32mc:\\Users\\alexa\\AppData\\Local\\Programs\\Python\\Python39\\lib\\site-packages\\sympy\\core\\basic.py:997\u001b[0m, in \u001b[0;36mBasic.subs\u001b[1;34m(self, *args, **kwargs)\u001b[0m\n\u001b[0;32m    995\u001b[0m rv \u001b[39m=\u001b[39m \u001b[39mself\u001b[39m\n\u001b[0;32m    996\u001b[0m \u001b[39mfor\u001b[39;00m old, new \u001b[39min\u001b[39;00m sequence:\n\u001b[1;32m--> 997\u001b[0m     rv \u001b[39m=\u001b[39m rv\u001b[39m.\u001b[39m_subs(old, new, \u001b[39m*\u001b[39m\u001b[39m*\u001b[39mkwargs)\n\u001b[0;32m    998\u001b[0m     \u001b[39mif\u001b[39;00m \u001b[39mnot\u001b[39;00m \u001b[39misinstance\u001b[39m(rv, Basic):\n\u001b[0;32m    999\u001b[0m         \u001b[39mbreak\u001b[39;00m\n",
      "File \u001b[1;32mc:\\Users\\alexa\\AppData\\Local\\Programs\\Python\\Python39\\lib\\site-packages\\sympy\\core\\cache.py:70\u001b[0m, in \u001b[0;36m__cacheit.<locals>.func_wrapper.<locals>.wrapper\u001b[1;34m(*args, **kwargs)\u001b[0m\n\u001b[0;32m     67\u001b[0m \u001b[39m@wraps\u001b[39m(func)\n\u001b[0;32m     68\u001b[0m \u001b[39mdef\u001b[39;00m \u001b[39mwrapper\u001b[39m(\u001b[39m*\u001b[39margs, \u001b[39m*\u001b[39m\u001b[39m*\u001b[39mkwargs):\n\u001b[0;32m     69\u001b[0m     \u001b[39mtry\u001b[39;00m:\n\u001b[1;32m---> 70\u001b[0m         retval \u001b[39m=\u001b[39m cfunc(\u001b[39m*\u001b[39margs, \u001b[39m*\u001b[39m\u001b[39m*\u001b[39mkwargs)\n\u001b[0;32m     71\u001b[0m     \u001b[39mexcept\u001b[39;00m \u001b[39mTypeError\u001b[39;00m \u001b[39mas\u001b[39;00m e:\n\u001b[0;32m     72\u001b[0m         \u001b[39mif\u001b[39;00m \u001b[39mnot\u001b[39;00m e\u001b[39m.\u001b[39margs \u001b[39mor\u001b[39;00m \u001b[39mnot\u001b[39;00m e\u001b[39m.\u001b[39margs[\u001b[39m0\u001b[39m]\u001b[39m.\u001b[39mstartswith(\u001b[39m'\u001b[39m\u001b[39munhashable type:\u001b[39m\u001b[39m'\u001b[39m):\n",
      "File \u001b[1;32mc:\\Users\\alexa\\AppData\\Local\\Programs\\Python\\Python39\\lib\\site-packages\\sympy\\core\\basic.py:1111\u001b[0m, in \u001b[0;36mBasic._subs\u001b[1;34m(self, old, new, **hints)\u001b[0m\n\u001b[0;32m   1109\u001b[0m rv \u001b[39m=\u001b[39m \u001b[39mself\u001b[39m\u001b[39m.\u001b[39m_eval_subs(old, new)\n\u001b[0;32m   1110\u001b[0m \u001b[39mif\u001b[39;00m rv \u001b[39mis\u001b[39;00m \u001b[39mNone\u001b[39;00m:\n\u001b[1;32m-> 1111\u001b[0m     rv \u001b[39m=\u001b[39m fallback(\u001b[39mself\u001b[39;49m, old, new)\n\u001b[0;32m   1112\u001b[0m \u001b[39mreturn\u001b[39;00m rv\n",
      "File \u001b[1;32mc:\\Users\\alexa\\AppData\\Local\\Programs\\Python\\Python39\\lib\\site-packages\\sympy\\core\\basic.py:1083\u001b[0m, in \u001b[0;36mBasic._subs.<locals>.fallback\u001b[1;34m(self, old, new)\u001b[0m\n\u001b[0;32m   1081\u001b[0m \u001b[39mif\u001b[39;00m \u001b[39mnot\u001b[39;00m \u001b[39mhasattr\u001b[39m(arg, \u001b[39m'\u001b[39m\u001b[39m_eval_subs\u001b[39m\u001b[39m'\u001b[39m):\n\u001b[0;32m   1082\u001b[0m     \u001b[39mcontinue\u001b[39;00m\n\u001b[1;32m-> 1083\u001b[0m arg \u001b[39m=\u001b[39m arg\u001b[39m.\u001b[39m_subs(old, new, \u001b[39m*\u001b[39m\u001b[39m*\u001b[39mhints)\n\u001b[0;32m   1084\u001b[0m \u001b[39mif\u001b[39;00m \u001b[39mnot\u001b[39;00m _aresame(arg, args[i]):\n\u001b[0;32m   1085\u001b[0m     hit \u001b[39m=\u001b[39m \u001b[39mTrue\u001b[39;00m\n",
      "File \u001b[1;32mc:\\Users\\alexa\\AppData\\Local\\Programs\\Python\\Python39\\lib\\site-packages\\sympy\\core\\cache.py:70\u001b[0m, in \u001b[0;36m__cacheit.<locals>.func_wrapper.<locals>.wrapper\u001b[1;34m(*args, **kwargs)\u001b[0m\n\u001b[0;32m     67\u001b[0m \u001b[39m@wraps\u001b[39m(func)\n\u001b[0;32m     68\u001b[0m \u001b[39mdef\u001b[39;00m \u001b[39mwrapper\u001b[39m(\u001b[39m*\u001b[39margs, \u001b[39m*\u001b[39m\u001b[39m*\u001b[39mkwargs):\n\u001b[0;32m     69\u001b[0m     \u001b[39mtry\u001b[39;00m:\n\u001b[1;32m---> 70\u001b[0m         retval \u001b[39m=\u001b[39m cfunc(\u001b[39m*\u001b[39margs, \u001b[39m*\u001b[39m\u001b[39m*\u001b[39mkwargs)\n\u001b[0;32m     71\u001b[0m     \u001b[39mexcept\u001b[39;00m \u001b[39mTypeError\u001b[39;00m \u001b[39mas\u001b[39;00m e:\n\u001b[0;32m     72\u001b[0m         \u001b[39mif\u001b[39;00m \u001b[39mnot\u001b[39;00m e\u001b[39m.\u001b[39margs \u001b[39mor\u001b[39;00m \u001b[39mnot\u001b[39;00m e\u001b[39m.\u001b[39margs[\u001b[39m0\u001b[39m]\u001b[39m.\u001b[39mstartswith(\u001b[39m'\u001b[39m\u001b[39munhashable type:\u001b[39m\u001b[39m'\u001b[39m):\n",
      "File \u001b[1;32mc:\\Users\\alexa\\AppData\\Local\\Programs\\Python\\Python39\\lib\\site-packages\\sympy\\core\\basic.py:1111\u001b[0m, in \u001b[0;36mBasic._subs\u001b[1;34m(self, old, new, **hints)\u001b[0m\n\u001b[0;32m   1109\u001b[0m rv \u001b[39m=\u001b[39m \u001b[39mself\u001b[39m\u001b[39m.\u001b[39m_eval_subs(old, new)\n\u001b[0;32m   1110\u001b[0m \u001b[39mif\u001b[39;00m rv \u001b[39mis\u001b[39;00m \u001b[39mNone\u001b[39;00m:\n\u001b[1;32m-> 1111\u001b[0m     rv \u001b[39m=\u001b[39m fallback(\u001b[39mself\u001b[39;49m, old, new)\n\u001b[0;32m   1112\u001b[0m \u001b[39mreturn\u001b[39;00m rv\n",
      "File \u001b[1;32mc:\\Users\\alexa\\AppData\\Local\\Programs\\Python\\Python39\\lib\\site-packages\\sympy\\core\\basic.py:1083\u001b[0m, in \u001b[0;36mBasic._subs.<locals>.fallback\u001b[1;34m(self, old, new)\u001b[0m\n\u001b[0;32m   1081\u001b[0m \u001b[39mif\u001b[39;00m \u001b[39mnot\u001b[39;00m \u001b[39mhasattr\u001b[39m(arg, \u001b[39m'\u001b[39m\u001b[39m_eval_subs\u001b[39m\u001b[39m'\u001b[39m):\n\u001b[0;32m   1082\u001b[0m     \u001b[39mcontinue\u001b[39;00m\n\u001b[1;32m-> 1083\u001b[0m arg \u001b[39m=\u001b[39m arg\u001b[39m.\u001b[39m_subs(old, new, \u001b[39m*\u001b[39m\u001b[39m*\u001b[39mhints)\n\u001b[0;32m   1084\u001b[0m \u001b[39mif\u001b[39;00m \u001b[39mnot\u001b[39;00m _aresame(arg, args[i]):\n\u001b[0;32m   1085\u001b[0m     hit \u001b[39m=\u001b[39m \u001b[39mTrue\u001b[39;00m\n",
      "File \u001b[1;32mc:\\Users\\alexa\\AppData\\Local\\Programs\\Python\\Python39\\lib\\site-packages\\sympy\\core\\cache.py:70\u001b[0m, in \u001b[0;36m__cacheit.<locals>.func_wrapper.<locals>.wrapper\u001b[1;34m(*args, **kwargs)\u001b[0m\n\u001b[0;32m     67\u001b[0m \u001b[39m@wraps\u001b[39m(func)\n\u001b[0;32m     68\u001b[0m \u001b[39mdef\u001b[39;00m \u001b[39mwrapper\u001b[39m(\u001b[39m*\u001b[39margs, \u001b[39m*\u001b[39m\u001b[39m*\u001b[39mkwargs):\n\u001b[0;32m     69\u001b[0m     \u001b[39mtry\u001b[39;00m:\n\u001b[1;32m---> 70\u001b[0m         retval \u001b[39m=\u001b[39m cfunc(\u001b[39m*\u001b[39margs, \u001b[39m*\u001b[39m\u001b[39m*\u001b[39mkwargs)\n\u001b[0;32m     71\u001b[0m     \u001b[39mexcept\u001b[39;00m \u001b[39mTypeError\u001b[39;00m \u001b[39mas\u001b[39;00m e:\n\u001b[0;32m     72\u001b[0m         \u001b[39mif\u001b[39;00m \u001b[39mnot\u001b[39;00m e\u001b[39m.\u001b[39margs \u001b[39mor\u001b[39;00m \u001b[39mnot\u001b[39;00m e\u001b[39m.\u001b[39margs[\u001b[39m0\u001b[39m]\u001b[39m.\u001b[39mstartswith(\u001b[39m'\u001b[39m\u001b[39munhashable type:\u001b[39m\u001b[39m'\u001b[39m):\n",
      "File \u001b[1;32mc:\\Users\\alexa\\AppData\\Local\\Programs\\Python\\Python39\\lib\\site-packages\\sympy\\core\\basic.py:1111\u001b[0m, in \u001b[0;36mBasic._subs\u001b[1;34m(self, old, new, **hints)\u001b[0m\n\u001b[0;32m   1109\u001b[0m rv \u001b[39m=\u001b[39m \u001b[39mself\u001b[39m\u001b[39m.\u001b[39m_eval_subs(old, new)\n\u001b[0;32m   1110\u001b[0m \u001b[39mif\u001b[39;00m rv \u001b[39mis\u001b[39;00m \u001b[39mNone\u001b[39;00m:\n\u001b[1;32m-> 1111\u001b[0m     rv \u001b[39m=\u001b[39m fallback(\u001b[39mself\u001b[39;49m, old, new)\n\u001b[0;32m   1112\u001b[0m \u001b[39mreturn\u001b[39;00m rv\n",
      "File \u001b[1;32mc:\\Users\\alexa\\AppData\\Local\\Programs\\Python\\Python39\\lib\\site-packages\\sympy\\core\\basic.py:1088\u001b[0m, in \u001b[0;36mBasic._subs.<locals>.fallback\u001b[1;34m(self, old, new)\u001b[0m\n\u001b[0;32m   1086\u001b[0m         args[i] \u001b[39m=\u001b[39m arg\n\u001b[0;32m   1087\u001b[0m \u001b[39mif\u001b[39;00m hit:\n\u001b[1;32m-> 1088\u001b[0m     rv \u001b[39m=\u001b[39m \u001b[39mself\u001b[39;49m\u001b[39m.\u001b[39;49mfunc(\u001b[39m*\u001b[39;49margs)\n\u001b[0;32m   1089\u001b[0m     hack2 \u001b[39m=\u001b[39m hints\u001b[39m.\u001b[39mget(\u001b[39m'\u001b[39m\u001b[39mhack2\u001b[39m\u001b[39m'\u001b[39m, \u001b[39mFalse\u001b[39;00m)\n\u001b[0;32m   1090\u001b[0m     \u001b[39mif\u001b[39;00m hack2 \u001b[39mand\u001b[39;00m \u001b[39mself\u001b[39m\u001b[39m.\u001b[39mis_Mul \u001b[39mand\u001b[39;00m \u001b[39mnot\u001b[39;00m rv\u001b[39m.\u001b[39mis_Mul:  \u001b[39m# 2-arg hack\u001b[39;00m\n",
      "File \u001b[1;32mc:\\Users\\alexa\\AppData\\Local\\Programs\\Python\\Python39\\lib\\site-packages\\sympy\\matrices\\expressions\\matexpr.py:606\u001b[0m, in \u001b[0;36mMatrixElement.__new__\u001b[1;34m(cls, name, n, m)\u001b[0m\n\u001b[0;32m    604\u001b[0m     name \u001b[39m=\u001b[39m _sympify(name)\n\u001b[0;32m    605\u001b[0m     \u001b[39mif\u001b[39;00m \u001b[39mnot\u001b[39;00m \u001b[39misinstance\u001b[39m(name\u001b[39m.\u001b[39mkind, MatrixKind):\n\u001b[1;32m--> 606\u001b[0m         \u001b[39mraise\u001b[39;00m \u001b[39mTypeError\u001b[39;00m(\u001b[39m\"\u001b[39m\u001b[39mFirst argument of MatrixElement should be a matrix\u001b[39m\u001b[39m\"\u001b[39m)\n\u001b[0;32m    607\u001b[0m \u001b[39mif\u001b[39;00m \u001b[39mnot\u001b[39;00m \u001b[39mgetattr\u001b[39m(name, \u001b[39m'\u001b[39m\u001b[39mvalid_index\u001b[39m\u001b[39m'\u001b[39m, \u001b[39mlambda\u001b[39;00m n, m: \u001b[39mTrue\u001b[39;00m)(n, m):\n\u001b[0;32m    608\u001b[0m     \u001b[39mraise\u001b[39;00m \u001b[39mIndexError\u001b[39;00m(\u001b[39m'\u001b[39m\u001b[39mindices out of range\u001b[39m\u001b[39m'\u001b[39m)\n",
      "\u001b[1;31mTypeError\u001b[0m: First argument of MatrixElement should be a matrix"
     ]
    }
   ],
   "source": [
    "# De første to led forsvinder når man tager reel delen af ligning 16 og man får ligningen:\n",
    "fM  = MatrixSymbol(\"f_M\", 2, 1)\n",
    "t = symbols(\"t\", real=True)\n",
    "\n",
    "solve(Eq(f(t), re(fM * exp(I*w*t))), fM)"
   ]
  },
  {
   "cell_type": "code",
   "execution_count": 66,
   "metadata": {},
   "outputs": [
    {
     "data": {
      "text/latex": [
       "$\\displaystyle \\left[\\begin{matrix}\\frac{\\omega^{2} u \\sin{\\left(\\omega t + \\phi_{u} \\right)}}{l_{2}}\\\\2 \\left(- \\left(\\operatorname{re}{\\left(c_{s}\\right)} + 1\\right) \\operatorname{re}{\\left(\\frac{F_{0s}}{h_{p}}\\right)} + \\left(\\operatorname{im}{\\left(\\eta\\right)} - 1\\right) \\operatorname{re}{\\left(k_{s}\\right)} + \\operatorname{re}{\\left(\\eta\\right)} \\operatorname{im}{\\left(k_{s}\\right)} + \\operatorname{im}{\\left(c_{s}\\right)} \\operatorname{im}{\\left(\\frac{F_{0s}}{h_{p}}\\right)}\\right) \\operatorname{re}{\\left(z_{2}{\\left(t \\right)}\\right)} + 2 \\left(\\left(\\operatorname{re}{\\left(c_{s}\\right)} + 1\\right) \\operatorname{im}{\\left(\\frac{F_{0s}}{h_{p}}\\right)} - \\left(\\operatorname{im}{\\left(\\eta\\right)} - 1\\right) \\operatorname{im}{\\left(k_{s}\\right)} + \\operatorname{re}{\\left(\\eta\\right)} \\operatorname{re}{\\left(k_{s}\\right)} + \\operatorname{re}{\\left(\\frac{F_{0s}}{h_{p}}\\right)} \\operatorname{im}{\\left(c_{s}\\right)}\\right) \\operatorname{im}{\\left(z_{2}{\\left(t \\right)}\\right)}\\end{matrix}\\right]$"
      ],
      "text/plain": [
       "⎡                                                                             \n",
       "⎢                                                                             \n",
       "⎢                                                                             \n",
       "⎢                                                                             \n",
       "⎢                                                                             \n",
       "⎢  ⎛                 ⎛F_{0s}⎞                                                ⎛\n",
       "⎢2⋅⎜- (re(cₛ) + 1)⋅re⎜──────⎟ + (im(η) - 1)⋅re(kₛ) + re(η)⋅im(kₛ) + im(cₛ)⋅im⎜\n",
       "⎣  ⎝                 ⎝  hₚ  ⎠                                                ⎝\n",
       "\n",
       "          2                                                                   \n",
       "         ω ⋅u⋅sin(ω⋅t + φᵤ)                                                   \n",
       "         ──────────────────                                                   \n",
       "                 l₂                                                           \n",
       "                                                                              \n",
       "F_{0s}⎞⎞               ⎛               ⎛F_{0s}⎞                               \n",
       "──────⎟⎟⋅re(z₂(t)) + 2⋅⎜(re(cₛ) + 1)⋅im⎜──────⎟ - (im(η) - 1)⋅im(kₛ) + re(η)⋅r\n",
       "  hₚ  ⎠⎠               ⎝               ⎝  hₚ  ⎠                               \n",
       "\n",
       "                                    ⎤\n",
       "                                    ⎥\n",
       "                                    ⎥\n",
       "                                    ⎥\n",
       "                                    ⎥\n",
       "          ⎛F_{0s}⎞       ⎞          ⎥\n",
       "e(kₛ) + re⎜──────⎟⋅im(cₛ)⎟⋅im(z₂(t))⎥\n",
       "          ⎝  hₚ  ⎠       ⎠          ⎦"
      ]
     },
     "execution_count": 66,
     "metadata": {},
     "output_type": "execute_result"
    }
   ],
   "source": [
    "simplify(re(f(t)) + ffhm(t))"
   ]
  },
  {
   "cell_type": "code",
   "execution_count": 76,
   "metadata": {},
   "outputs": [
    {
     "data": {
      "text/latex": [
       "$\\displaystyle \\left( c e^{\\lambda t} \\left[\\begin{matrix}\\frac{- g l_{g} m_{r} + k_{1} l_{1}^{2} + k_{2} l_{2}^{2} + k_{c}}{l_{2}^{2}} & - k_{2}\\\\- k_{2} & k_{2} + k_{b2}\\end{matrix}\\right] v + c \\lambda^{2} e^{\\lambda t} \\left[\\begin{matrix}\\frac{I_{t}}{l_{2}^{2}} & 0\\\\0 & m_{2}\\end{matrix}\\right] v, \\  \\left[\\begin{matrix}\\frac{\\omega^{2} u \\sin{\\left(\\omega t + \\phi_{u} \\right)}}{l_{2}}\\\\0\\end{matrix}\\right]\\right)$"
      ],
      "text/plain": [
       "⎛       ⎡                 2        2                   ⎤               ⎡ Iₜ   \n",
       "⎜       ⎢-g⋅l_g⋅mᵣ + k₁⋅l₁  + k₂⋅l₂  + k_c             ⎥               ⎢───  0\n",
       "⎜   λ⋅t ⎢─────────────────────────────────      -k₂    ⎥        2  λ⋅t ⎢  2   \n",
       "⎜c⋅ℯ   ⋅⎢                 2                            ⎥⋅v + c⋅λ ⋅ℯ   ⋅⎢l₂    \n",
       "⎜       ⎢               l₂                             ⎥               ⎢      \n",
       "⎜       ⎢                                              ⎥               ⎣ 0   m\n",
       "⎝       ⎣               -k₂                 k₂ + k_{b2}⎦                      \n",
       "\n",
       " ⎤    ⎡ 2                ⎤⎞\n",
       " ⎥    ⎢ω ⋅u⋅sin(ω⋅t + φᵤ)⎥⎟\n",
       " ⎥    ⎢──────────────────⎥⎟\n",
       " ⎥⋅v, ⎢        l₂        ⎥⎟\n",
       " ⎥    ⎢                  ⎥⎟\n",
       "₂⎦    ⎣        0         ⎦⎟\n",
       "                          ⎠"
      ]
     },
     "execution_count": 76,
     "metadata": {},
     "output_type": "execute_result"
    }
   ],
   "source": [
    "c,l = symbols(\"c lambda\", complex=True)\n",
    "v = MatrixSymbol(\"v\", 2, 1)\n",
    "z = c*v*exp(l*t)\n",
    "\n",
    "simplify(M*diff(z, t, 2) + K*z), f(t)"
   ]
  },
  {
   "cell_type": "code",
   "execution_count": null,
   "metadata": {},
   "outputs": [],
   "source": [
    "e_a, e_b, phi_a, phi_b, c_s = symbols(\"e_a e_b phi_a phi_b c_s\") \n",
    "mydict2 = {\n",
    "    g:9.81,\n",
    "    k_c:0.7,\n",
    "    u:1.48*10**(-6),\n",
    "    e_a:0.11*10**(-3),\n",
    "    e_b:0.14*10**(-3),\n",
    "    phi_u:7,\n",
    "    phi_a:38,\n",
    "    phi_b:-118,\n",
    "    m_r:0.616,\n",
    "    m_2:1.410,\n",
    "    I_t:31.2*10**(-3),\n",
    "    l_g:0.188,\n",
    "    l_1:0.118,\n",
    "    l_2:0.263,\n",
    "    k_b2:0.72*10**(3),\n",
    "    k_1:1.66*10**3,\n",
    "    k_2:1.61*10**3,\n",
    "    h_p:12*10**(-3),\n",
    "    c_s:0.24\n",
    "}"
   ]
  }
 ],
 "metadata": {
  "kernelspec": {
   "display_name": "Python 3",
   "language": "python",
   "name": "python3"
  },
  "language_info": {
   "codemirror_mode": {
    "name": "ipython",
    "version": 3
   },
   "file_extension": ".py",
   "mimetype": "text/x-python",
   "name": "python",
   "nbconvert_exporter": "python",
   "pygments_lexer": "ipython3",
   "version": "3.9.13"
  },
  "orig_nbformat": 4
 },
 "nbformat": 4,
 "nbformat_minor": 2
}
