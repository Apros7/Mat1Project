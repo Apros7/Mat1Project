{
 "cells": [
  {
   "cell_type": "code",
   "execution_count": 20,
   "metadata": {},
   "outputs": [],
   "source": [
    "from sympy import *\n",
    "from dtumathtools import dtuplot, dtutools\n",
    "init_printing()"
   ]
  },
  {
   "cell_type": "code",
   "execution_count": 21,
   "metadata": {},
   "outputs": [],
   "source": [
    "from sympy import *\n",
    "from dtumathtools import *\n",
    "#from august import *\n",
    "init_printing()\n",
    "\n",
    "x, y, z, a, b, c = symbols('x y z a b c')\n",
    "k, w = symbols('k w', real=True)\n",
    "f, m, t, delta = symbols('f m t delta', real=True, positive=True)\n",
    "xi = symbols('xi', real=True)\n",
    "k_s = symbols('k_s', real=True, positive=True)"
   ]
  },
  {
   "cell_type": "code",
   "execution_count": 22,
   "metadata": {},
   "outputs": [
    {
     "data": {
      "text/latex": [
       "$\\displaystyle \\left( \\left[\\begin{matrix}\\frac{I_{t}}{l_{2}^{2}} & 0\\\\0 & m_{2}\\end{matrix}\\right], \\  \\left[\\begin{matrix}k_{2} + \\frac{- g l_{g} m_{r} + k_{1} l_{1}^{2} + k_{c}}{l_{2}^{2}} & - k_{2}\\\\- k_{2} & k_{2} + k_{b2}\\end{matrix}\\right], \\  \\left[\\begin{matrix}\\frac{\\omega^{2} u \\sin{\\left(\\omega t + \\phi_{u} \\right)}}{l_{2}}\\\\0\\end{matrix}\\right], \\  \\left[\\begin{matrix}y_{1}{\\left(t \\right)}\\\\y_{2}{\\left(t \\right)}\\end{matrix}\\right], \\  \\left[\\begin{matrix}z_{1}{\\left(t \\right)}\\\\z_{2}{\\left(t \\right)}\\end{matrix}\\right]\\right)$"
      ],
      "text/plain": [
       "⎛⎡ Iₜ    ⎤  ⎡                      2                   ⎤  ⎡ 2                ⎤\n",
       "⎜⎢───  0 ⎥  ⎢     -g⋅l_g⋅mᵣ + k₁⋅l₁  + k_c             ⎥  ⎢ω ⋅u⋅sin(ω⋅t + φᵤ)⎥\n",
       "⎜⎢  2    ⎥  ⎢k₂ + ────────────────────────      -k₂    ⎥  ⎢──────────────────⎥\n",
       "⎜⎢l₂     ⎥, ⎢                 2                        ⎥, ⎢        l₂        ⎥\n",
       "⎜⎢       ⎥  ⎢               l₂                         ⎥  ⎢                  ⎥\n",
       "⎜⎣ 0   m₂⎦  ⎢                                          ⎥  ⎣        0         ⎦\n",
       "⎝           ⎣             -k₂               k₂ + k_{b2}⎦                      \n",
       "\n",
       "                  ⎞\n",
       "                  ⎟\n",
       "  ⎡y₁(t)⎤  ⎡z₁(t)⎤⎟\n",
       ", ⎢     ⎥, ⎢     ⎥⎟\n",
       "  ⎣y₂(t)⎦  ⎣z₂(t)⎦⎟\n",
       "                  ⎟\n",
       "                  ⎠"
      ]
     },
     "execution_count": 22,
     "metadata": {},
     "output_type": "execute_result"
    }
   ],
   "source": [
    "k1, k2, kc, kb2, l1, l2, lg, it = symbols('k_1 k_2 k_c k_{b2} l_1 l_2 l_g I_t', real=True, positive=True)\n",
    "m2, mr, g, u, w, t, phiu = symbols('m_2 m_r g u omega t phi_u', real=True, positive=True)\n",
    "ffhm = symbols('F_FHM')\n",
    "kk3 = l2**(-2)*(kc+l1**2*k1-lg*mr*g)\n",
    "\n",
    "y1, y2 = Function('y_1')(t), Function('y_2')(t)\n",
    "z1, z2 = Function('z_1')(t), Function('z_2')(t)\n",
    "\n",
    "M = Matrix([[l2**(-2)*it, 0], [0, m2]])\n",
    "K = Matrix([[k2+l2**(-2)*(kc+l1**2*k1-lg*mr*g), -k2], [-k2, k2+kb2]])\n",
    "ft = Matrix([l2**(-1)*u*w**2*sin(w*t+phiu), 0])\n",
    "yt = Matrix([y1, y2])\n",
    "zt = Matrix([z1, z2])\n",
    "\n",
    "M, K, ft, yt, zt"
   ]
  },
  {
   "cell_type": "code",
   "execution_count": 23,
   "metadata": {},
   "outputs": [],
   "source": [
    "k2, k3, k4, k5 = symbols('k_2 k_3 k_4 k_5')\n",
    "f1, f2 = symbols('f_1 f_2', real=True)\n",
    "K = Matrix([[k2 + k3, -k2], [-k2, k2 + k4]])\n",
    "FFHM = Matrix([[0, 0],[0, k5]])\n",
    "f = Matrix([f1, f2])\n",
    "f_re = re(f * (cos(w*t) + I*sin(w*t)))\n",
    "f_sol = solve([Eq(f_re[0], ft[0]), Eq(f_re[1], ft[1])], [f1, f2])\n",
    "f_til = f.subs(f_sol)\n",
    "K_til = K + FFHM\n",
    "diff_eq = Eq(Add(MatMul(M,yt), MatMul(K_til,yt), evaluate=False), f_til)\n",
    "eta, ks, Fs0, hp, cs = symbols('eta k_s F_{0s} h_p c_s', real=True, positive=True)\n",
    "kk = ks*(1 + eta*I) + Fs0 / hp * (1 + cs)\n",
    "la = symbols('lambda')\n",
    "A = - M.inv() * K_til\n",
    "A_func = A.subs({k3: kk3, k4: kb2, k5: 2*kk})\n",
    "A = A_func"
   ]
  },
  {
   "cell_type": "code",
   "execution_count": 24,
   "metadata": {},
   "outputs": [
    {
     "data": {
      "text/latex": [
       "$\\displaystyle \\left[\\begin{matrix}-4296.14915128205 & 3569.29775641026\\\\1141.84397163121 & - 146.572104018913 F_{0s} - 1.41843971631206 k_{s} \\left(i \\eta + 1\\right) - 1652.48226950355\\end{matrix}\\right]$"
      ],
      "text/plain": [
       "⎡-4296.14915128205                               3569.29775641026             \n",
       "⎢                                                                             \n",
       "⎣1141.84397163121   -146.572104018913⋅F_{0s} - 1.41843971631206⋅kₛ⋅(ⅈ⋅η + 1) -\n",
       "\n",
       "                 ⎤\n",
       "                 ⎥\n",
       " 1652.48226950355⎦"
      ]
     },
     "execution_count": 24,
     "metadata": {},
     "output_type": "execute_result"
    }
   ],
   "source": [
    "mydict = {g:9.81,kc:0.7,u:1.48*10**(-6),\n",
    "          phiu:7,mr:0.616,m2:1.410,it:31.2*10**(-3),\n",
    "          lg:0.188,l1:0.118,l2:0.263,\n",
    "          kb2:0.72*10**(3),k1:1.66*10**3,k2:1.61*10**3,\n",
    "          hp:12*10**(-3), cs:0.24}\n",
    "v30 = {ks:0.83, eta:33/100, Fs0:5.2}\n",
    "v50 = {ks:0.995, eta:21/100, Fs0:8}\n",
    "v70 = {ks:1.37, eta:10.5/100, Fs0:9.65}\n",
    "\n",
    "A = A.subs(mydict)  \n",
    "A"
   ]
  },
  {
   "cell_type": "code",
   "execution_count": 25,
   "metadata": {},
   "outputs": [],
   "source": [
    "A30 = A.subs(v30)\n",
    "\n",
    "A50 = A.subs(v50)\n",
    "\n",
    "A70 = A.subs(v70)"
   ]
  },
  {
   "cell_type": "code",
   "execution_count": 26,
   "metadata": {},
   "outputs": [
    {
     "data": {
      "text/latex": [
       "$\\displaystyle \\left[\\begin{matrix}-4296.14915128205 & 3569.29775641026\\\\1141.84397163121 & -2826.47044917258 - 0.296382978723404 i\\end{matrix}\\right]$"
      ],
      "text/plain": [
       "⎡-4296.14915128205             3569.29775641026            ⎤\n",
       "⎢                                                          ⎥\n",
       "⎣1141.84397163121   -2826.47044917258 - 0.296382978723404⋅ⅈ⎦"
      ]
     },
     "execution_count": 26,
     "metadata": {},
     "output_type": "execute_result"
    }
   ],
   "source": [
    "A50"
   ]
  },
  {
   "cell_type": "code",
   "execution_count": 27,
   "metadata": {},
   "outputs": [
    {
     "data": {
      "text/latex": [
       "$\\displaystyle \\left[ \\left( -5582.98013091667 - 0.112247452269913 i, \\  1, \\  \\left[ \\left[\\begin{matrix}0.94072907059124 - 0.000116699675227937 i\\\\-0.339158962685261 + 1.24893799813809 \\cdot 10^{-5} i\\end{matrix}\\right]\\right]\\right), \\  \\left( -1129.00353573181 - 0.276263186027959 i, \\  1, \\  \\left[ \\left[\\begin{matrix}0.85186401775836 + 0.000137045273680128 i\\\\0.755884661598644 + 5.56702420532263 \\cdot 10^{-5} i\\end{matrix}\\right]\\right]\\right)\\right]$"
      ],
      "text/plain": [
       "⎡⎛                                            ⎡⎡0.94072907059124 - 0.000116699\n",
       "⎢⎜-5582.98013091667 - 0.112247452269913⋅ⅈ, 1, ⎢⎢                              \n",
       "⎣⎝                                            ⎣⎣-0.339158962685261 + 1.2489379\n",
       "\n",
       "675227937⋅ⅈ ⎤⎤⎞  ⎛                                            ⎡⎡0.851864017758\n",
       "            ⎥⎥⎟, ⎜-1129.00353573181 - 0.276263186027959⋅ⅈ, 1, ⎢⎢              \n",
       "9813809e-5⋅ⅈ⎦⎦⎠  ⎝                                            ⎣⎣0.755884661598\n",
       "\n",
       "36 + 0.000137045273680128⋅ⅈ⎤⎤⎞⎤\n",
       "                           ⎥⎥⎟⎥\n",
       "644 + 5.56702420532263e-5⋅ⅈ⎦⎦⎠⎦"
      ]
     },
     "execution_count": 27,
     "metadata": {},
     "output_type": "execute_result"
    }
   ],
   "source": [
    "A30.eigenvects()"
   ]
  },
  {
   "cell_type": "code",
   "execution_count": 28,
   "metadata": {},
   "outputs": [
    {
     "name": "stdout",
     "output_type": "stream",
     "text": [
      "[-1.00526465812873e-5, -0.000122348235006096, 1.00526465812873e-5, 0.000122348235006096]\n"
     ]
    },
    {
     "data": {
      "image/png": "[encoded data removed]",
      "text/latex": [
       "$\\displaystyle \\left[ 0.00075112714216 - 74.7193424186861 i, \\  0.00411098002067 - 33.6006480983919 i, \\  -0.00075112714216 + 74.7193424186861 i, \\  -0.00411098002067 + 33.6006480983919 i\\right]$"
      ],
      "text/plain": [
       "[0.00075112714216 - 74.7193424186861⋅ⅈ, 0.00411098002067 - 33.6006480983919⋅ⅈ,\n",
       " -0.00075112714216 + 74.7193424186861⋅ⅈ, -0.00411098002067 + 33.6006480983919⋅\n",
       "ⅈ]"
      ]
     },
     "execution_count": 28,
     "metadata": {},
     "output_type": "execute_result"
    }
   ],
   "source": [
    "A50.eigenvects()\n",
    "vals = [tup[0] for tup in A30.eigenvects()]\n",
    "values = [sqrt(val).evalf() for val in vals] + [-sqrt(val).evalf() for val in vals]\n",
    "print([-re(val)/abs(val) for val in values])\n",
    "values\n"
   ]
  },
  {
   "cell_type": "code",
   "execution_count": 29,
   "metadata": {},
   "outputs": [
    {
     "data": {
      "text/latex": [
       "$\\displaystyle \\left[ \\left[ \\left[\\begin{matrix}0.94072907059124 - 0.000116699675227937 i\\\\-0.339158962685261 + 1.24893799813809 \\cdot 10^{-5} i\\end{matrix}\\right]\\right], \\  \\left[ \\left[\\begin{matrix}0.85186401775836 + 0.000137045273680128 i\\\\0.755884661598644 + 5.56702420532263 \\cdot 10^{-5} i\\end{matrix}\\right]\\right]\\right]$"
      ],
      "text/plain": [
       "⎡⎡⎡0.94072907059124 - 0.000116699675227937⋅ⅈ ⎤⎤  ⎡⎡0.85186401775836 + 0.000137\n",
       "⎢⎢⎢                                          ⎥⎥, ⎢⎢                           \n",
       "⎣⎣⎣-0.339158962685261 + 1.24893799813809e-5⋅ⅈ⎦⎦  ⎣⎣0.755884661598644 + 5.56702\n",
       "\n",
       "045273680128⋅ⅈ⎤⎤⎤\n",
       "              ⎥⎥⎥\n",
       "420532263e-5⋅ⅈ⎦⎦⎦"
      ]
     },
     "execution_count": 29,
     "metadata": {},
     "output_type": "execute_result"
    }
   ],
   "source": [
    "[x[2] for x in A30.eigenvects()]"
   ]
  },
  {
   "cell_type": "code",
   "execution_count": 30,
   "metadata": {},
   "outputs": [],
   "source": [
    "def find_faktorer(A):\n",
    "    values = [sqrt(val) for val in A.eigenvals().keys()] + [-sqrt(val) for val in A.eigenvals().keys()]\n",
    "    values = [val for val in values if re(val)/abs(val) > 0]\n",
    "    xi = list(set([-re(lamb)/abs(lamb) for lamb in values]))\n",
    "    omega_n = list(set([abs(lamb) for lamb in values]))\n",
    "    eigenvects = [x[2] for x in A.eigenvects()]\n",
    "    arguments = [arg(value) for vector in eigenvects for value in vector[0]]\n",
    "    omega_d = list(set([abs(im(lamb)) for lamb in values]))\n",
    "    return values, xi, omega_n, arguments, omega_d\n",
    "\n",
    "values30, xi30, omega_n30, arguments30, omega_d30 = find_faktorer(A30)\n",
    "values50, xi50, omega_n50, arguments50, omega_d50 = find_faktorer(A50)\n",
    "values70, xi70, omega_n70, arguments70, omega_d70 = find_faktorer(A70)"
   ]
  },
  {
   "cell_type": "code",
   "execution_count": 31,
   "metadata": {},
   "outputs": [
    {
     "data": {
      "image/png": "[encoded data removed]",
      "text/latex": [
       "$\\displaystyle \\left[ -0.000124052374139945, \\  -3.6824561193524 \\cdot 10^{-5} + \\pi, \\  0.000160876935333469, \\  7.36491223870481 \\cdot 10^{-5}\\right]$"
      ],
      "text/plain": [
       "[-0.000124052374139945, -3.6824561193524e-5 + π, 0.000160876935333469, 7.36491\n",
       "223870481e-5]"
      ]
     },
     "execution_count": 31,
     "metadata": {},
     "output_type": "execute_result"
    }
   ],
   "source": [
    "arguments30"
   ]
  },
  {
   "cell_type": "code",
   "execution_count": 32,
   "metadata": {},
   "outputs": [
    {
     "data": {
      "image/png": "[encoded data removed]",
      "text/plain": [
       "<Figure size 640x480 with 1 Axes>"
      ]
     },
     "metadata": {},
     "output_type": "display_data"
    },
    {
     "data": {
      "image/png": "[encoded data removed]",
      "text/plain": [
       "<Figure size 640x480 with 1 Axes>"
      ]
     },
     "metadata": {},
     "output_type": "display_data"
    },
    {
     "data": {
      "text/plain": [
       "<spb.backends.matplotlib.MatplotlibBackend at 0x10fd02ad0>"
      ]
     },
     "execution_count": 32,
     "metadata": {},
     "output_type": "execute_result"
    }
   ],
   "source": [
    "def make_points(number, values):\n",
    "    points = []\n",
    "    for i in range(len(values)):\n",
    "        points.append((number, abs(values[i])))\n",
    "    return points\n",
    "\n",
    "valuePoints30 = make_points(30, values30)\n",
    "valuePoints50 = make_points(50, values50)\n",
    "valuePoints70 = make_points(70, values70)\n",
    "\n",
    "xiPoints30 = make_points(30, xi30)\n",
    "xiPoints50 = make_points(50, xi50) \n",
    "xiPoints70 = make_points(70, xi70)\n",
    "\n",
    "valuePoints = [valuePoints30, valuePoints50, valuePoints70]\n",
    "# omskrivning til frekvens ved at dividere med 2*pi\n",
    "points = [[val[0], val[1]/(2*pi)] for lst in valuePoints for val in lst]\n",
    "x = [val[0] for val in points]\n",
    "y = [val[1] for val in points]\n",
    "\n",
    "dtuplot.scatter(x,y, title=\"Value Points\")\n",
    "\n",
    "xiPoints = [xiPoints30, xiPoints50, xiPoints70]\n",
    "points = [[val[0], val[1]] for lst in xiPoints for val in lst]\n",
    "x = [val[0] for val in points]\n",
    "y = [val[1] for val in points]\n",
    "\n",
    "xi_symbol = symbols(\"xi\")\n",
    "dtuplot.scatter(x,y, title=f\"{xi_symbol} Points\")\n"
   ]
  },
  {
   "cell_type": "markdown",
   "metadata": {},
   "source": [
    "---"
   ]
  },
  {
   "cell_type": "markdown",
   "metadata": {},
   "source": [
    "## 6, 7, 8 er 30 grader\n",
    "## 9 ved 50 grader \n",
    "### Skal være længst væk fra egensvingningsfrekvenserne"
   ]
  },
  {
   "cell_type": "markdown",
   "metadata": {},
   "source": [
    "---"
   ]
  },
  {
   "cell_type": "code",
   "execution_count": 33,
   "metadata": {},
   "outputs": [
    {
     "data": {
      "image/png": "[encoded data removed]",
      "text/latex": [
       "$\\displaystyle 0.00064518569809 - 75.5625407411958 i$"
      ],
      "text/plain": [
       "0.00064518569809 - 75.5625407411958⋅ⅈ"
      ]
     },
     "execution_count": 33,
     "metadata": {},
     "output_type": "execute_result"
    }
   ],
   "source": [
    "values50[0].evalf()"
   ]
  },
  {
   "cell_type": "code",
   "execution_count": 34,
   "metadata": {},
   "outputs": [
    {
     "data": {
      "text/latex": [
       "$\\displaystyle \\left[\\begin{matrix}A_{11} C_{1} e^{- \\omega_{n} t \\xi} \\cos{\\left(\\omega_{d} t + \\phi_{11} + \\phi_{c} \\right)}\\\\A_{12} C_{1} e^{- \\omega_{n} t \\xi} \\cos{\\left(\\omega_{d} t + \\phi_{12} + \\phi_{c} \\right)}\\end{matrix}\\right]$"
      ],
      "text/plain": [
       "⎡        -ωₙ⋅t⋅ξ                       ⎤\n",
       "⎢A₁₁⋅C₁⋅ℯ       ⋅cos(ω_d⋅t + φ₁₁ + φ_c)⎥\n",
       "⎢                                      ⎥\n",
       "⎢        -ωₙ⋅t⋅ξ                       ⎥\n",
       "⎣A₁₂⋅C₁⋅ℯ       ⋅cos(ω_d⋅t + φ₁₂ + φ_c)⎦"
      ]
     },
     "execution_count": 34,
     "metadata": {},
     "output_type": "execute_result"
    }
   ],
   "source": [
    "C_1, xi, omega_n, t, A_11, A_12, omega_d, phi_11, phi_12, phi_c = symbols(\"C_1, xi, omega_n, t, A_11, A_12, omega_d, phi_11, phi_12, phi_c\")\n",
    "y = C_1*exp(-xi*omega_n*t)*Matrix([A_11*cos(omega_d*t+phi_11+phi_c), A_12*cos(omega_d*t+phi_12+phi_c)])\n",
    "y1 = y\n",
    "y2 = y\n",
    "y1"
   ]
  },
  {
   "cell_type": "code",
   "execution_count": 35,
   "metadata": {},
   "outputs": [
    {
     "data": {
      "text/latex": [
       "$\\displaystyle \\left[\\begin{matrix}- 8592.2983025641 e^{0.00411098002066783 t} \\cos{\\left(74.7193424186861 t - 0.000124052374139945 \\right)}\\\\- 7138.59551282051 e^{0.00411098002066783 t} \\cos{\\left(74.7193424186861 t - 3.6824561193524 \\cdot 10^{-5} \\right)}\\end{matrix}\\right]$"
      ],
      "text/plain": [
       "⎡                  0.00411098002066783⋅t                                      \n",
       "⎢-8592.2983025641⋅ℯ                     ⋅cos(74.7193424186861⋅t - 0.0001240523\n",
       "⎢                                                                             \n",
       "⎢                   0.00411098002066783⋅t                                     \n",
       "⎣-7138.59551282051⋅ℯ                     ⋅cos(74.7193424186861⋅t - 3.682456119\n",
       "\n",
       "         ⎤\n",
       "74139945)⎥\n",
       "         ⎥\n",
       "         ⎥\n",
       "3524e-5) ⎦"
      ]
     },
     "execution_count": 35,
     "metadata": {},
     "output_type": "execute_result"
    }
   ],
   "source": [
    "c = 1\n",
    "C_1_bestemt, phi_c1_bestemt = abs(c), arg(c)\n",
    "y1 = y1.subs({\n",
    "    C_1:C_1_bestemt,\n",
    "    phi_c:phi_c1_bestemt,\n",
    "    xi: xi30[0],\n",
    "    omega_n: omega_n30[0],\n",
    "    A_11: A30[0],\n",
    "    A_12: A30[1],\n",
    "    omega_n: omega_n30[0],\n",
    "    phi_11: arguments30[0],\n",
    "    phi_12: arguments30[1],\n",
    "    omega_d: omega_d30[0],\n",
    "})\n",
    "\n",
    "y2 = y1.subs({\n",
    "    C_1:C_1_bestemt,\n",
    "    phi_c:phi_c1_bestemt,\n",
    "    xi: xi30[1],\n",
    "    omega_n: omega_n30[1],\n",
    "    A_11: A30[2],\n",
    "    A_12: A30[3],\n",
    "    omega_n: omega_n30[1],\n",
    "    phi_11: arguments30[2],\n",
    "    phi_12: arguments30[3],\n",
    "    omega_d: omega_d30[1],\n",
    "})\n",
    "\n",
    "y_hom = y1 + y2\n",
    "y_hom"
   ]
  },
  {
   "cell_type": "markdown",
   "metadata": {},
   "source": [
    "---\n",
    "### 4.8"
   ]
  },
  {
   "cell_type": "code",
   "execution_count": 36,
   "metadata": {},
   "outputs": [
    {
     "data": {
      "text/latex": [
       "$\\displaystyle \\left[ \\left[\\begin{matrix}0.94072907059124 - 0.000116699675227937 i\\\\-0.339158962685261 + 1.24893799813809 \\cdot 10^{-5} i\\end{matrix}\\right], \\  \\left[\\begin{matrix}0.85186401775836 + 0.000137045273680128 i\\\\0.755884661598644 + 5.56702420532263 \\cdot 10^{-5} i\\end{matrix}\\right]\\right]$"
      ],
      "text/plain": [
       "⎡⎡0.94072907059124 - 0.000116699675227937⋅ⅈ ⎤  ⎡0.85186401775836 + 0.000137045\n",
       "⎢⎢                                          ⎥, ⎢                              \n",
       "⎣⎣-0.339158962685261 + 1.24893799813809e-5⋅ⅈ⎦  ⎣0.755884661598644 + 5.56702420\n",
       "\n",
       "273680128⋅ⅈ⎤⎤\n",
       "           ⎥⎥\n",
       "532263e-5⋅ⅈ⎦⎦"
      ]
     },
     "metadata": {},
     "output_type": "display_data"
    },
    {
     "data": {
      "text/latex": [
       "$\\displaystyle \\left[ \\left[\\begin{matrix}0.92974407328081 - 8.60676996526835 \\cdot 10^{-5} i\\\\-0.368206396897298 + 8.68723674734648 \\cdot 10^{-6} i\\end{matrix}\\right], \\  \\left[\\begin{matrix}0.893463241991054 + 0.000103788958765861 i\\\\0.721726692707693 + 3.40559572172235 \\cdot 10^{-5} i\\end{matrix}\\right]\\right]$"
      ],
      "text/plain": [
       "⎡⎡ 0.92974407328081 - 8.60676996526835e-5⋅ⅈ ⎤  ⎡0.893463241991054 + 0.00010378\n",
       "⎢⎢                                          ⎥, ⎢                              \n",
       "⎣⎣-0.368206396897298 + 8.68723674734648e-6⋅ⅈ⎦  ⎣0.721726692707693 + 3.40559572\n",
       "\n",
       "8958765861⋅ⅈ⎤⎤\n",
       "            ⎥⎥\n",
       "172235e-5⋅ⅈ ⎦⎦"
      ]
     },
     "metadata": {},
     "output_type": "display_data"
    },
    {
     "data": {
      "text/latex": [
       "$\\displaystyle \\left[ \\left[\\begin{matrix}0.92223510798736 - 5.7559376212278 \\cdot 10^{-5} i\\\\-0.386629541360852 + 5.43673063220217 \\cdot 10^{-6} i\\end{matrix}\\right], \\  \\left[\\begin{matrix}0.917120237260449 + 7.01365590453933 \\cdot 10^{-5} i\\\\0.699836968026036 + 1.96820194803265 \\cdot 10^{-5} i\\end{matrix}\\right]\\right]$"
      ],
      "text/plain": [
       "⎡⎡ 0.92223510798736 - 5.7559376212278e-5⋅ⅈ  ⎤  ⎡0.917120237260449 + 7.01365590\n",
       "⎢⎢                                          ⎥, ⎢                              \n",
       "⎣⎣-0.386629541360852 + 5.43673063220217e-6⋅ⅈ⎦  ⎣0.699836968026036 + 1.96820194\n",
       "\n",
       "453933e-5⋅ⅈ⎤⎤\n",
       "           ⎥⎥\n",
       "803265e-5⋅ⅈ⎦⎦"
      ]
     },
     "metadata": {},
     "output_type": "display_data"
    }
   ],
   "source": [
    "def eigenvects(A):\n",
    "    return [x[2][0] for x in A.eigenvects()]\n",
    "\n",
    "eigenvects30 = eigenvects(A30)\n",
    "eigenvects50 = eigenvects(A50)\n",
    "eigenvects70 = eigenvects(A70)\n",
    "\n",
    "display(eigenvects30)\n",
    "display(eigenvects50)\n",
    "display(eigenvects70)"
   ]
  },
  {
   "cell_type": "code",
   "execution_count": 37,
   "metadata": {},
   "outputs": [
    {
     "data": {
      "image/png": "[encoded data removed]",
      "text/latex": [
       "$\\displaystyle \\left( -1.20363988786489, \\  \\frac{1141.84397163121}{- 146.572104018913 F_{0s} - 1.41843971631206 k_{s} \\left(i \\eta + 1\\right) - 1652.48226950355}\\right)$"
      ],
      "text/plain": [
       "⎛                                                 1141.84397163121            \n",
       "⎜-1.20363988786489, ──────────────────────────────────────────────────────────\n",
       "⎝                   -146.572104018913⋅F_{0s} - 1.41843971631206⋅kₛ⋅(ⅈ⋅η + 1) -\n",
       "\n",
       "                 ⎞\n",
       "─────────────────⎟\n",
       " 1652.48226950355⎠"
      ]
     },
     "execution_count": 37,
     "metadata": {},
     "output_type": "execute_result"
    }
   ],
   "source": [
    "A[0]/A[1], A[2]/A[3]"
   ]
  },
  {
   "cell_type": "code",
   "execution_count": 38,
   "metadata": {},
   "outputs": [
    {
     "data": {
      "image/png": "[encoded data removed]",
      "text/latex": [
       "$\\displaystyle \\left[ 2.77371138814584, \\  2.52506226084136, \\  2.38531982436297\\right]$"
      ],
      "text/plain": [
       "[2.77371138814584, 2.52506226084136, 2.38531982436297]"
      ]
     },
     "metadata": {},
     "output_type": "display_data"
    },
    {
     "data": {
      "image/png": "[encoded data removed]",
      "text/latex": [
       "$\\displaystyle \\left[ 1.12697620384319, \\  1.23795233854062, \\  1.31047698461318\\right]$"
      ],
      "text/plain": [
       "[1.12697620384319, 1.23795233854062, 1.31047698461318]"
      ]
     },
     "metadata": {},
     "output_type": "display_data"
    },
    {
     "data": {
      "image/png": "[encoded data removed]",
      "text/plain": [
       "<Figure size 640x480 with 1 Axes>"
      ]
     },
     "metadata": {},
     "output_type": "display_data"
    }
   ],
   "source": [
    "import matplotlib.pyplot as plt\n",
    "\n",
    "def get_divs(A):\n",
    "    return A[0][0]/A[0][1], A[1][0]/A[1][1]\n",
    "\n",
    "div_A11_A12 = [abs(get_divs(x)[0]) for x in [eigenvects30, eigenvects50, eigenvects70]]\n",
    "div_A21_A22 = [abs(get_divs(x)[1]) for x in [eigenvects30, eigenvects50, eigenvects70]]\n",
    "\n",
    "display(div_A11_A12)\n",
    "display(div_A21_A22)\n",
    "\n",
    "x = [30, 50, 70]\n",
    "plt.plot(x, div_A11_A12, marker='o', linestyle='-')\n",
    "plt.plot(x, div_A21_A22, marker='o', linestyle='-')\n",
    "plt.show()\n"
   ]
  },
  {
   "cell_type": "markdown",
   "metadata": {},
   "source": [
    "70 grader for blå (da faktoren er mindst - det vil vi gerne, da faktoren skal være så lille som muligt, så der er så få svingninger i akslen)\n",
    "\n",
    "30 grader for orange\n",
    "\n",
    "Dette er forbedholdt, at vi optimerer for så små svingninger i akslen som muligt"
   ]
  },
  {
   "cell_type": "code",
   "execution_count": null,
   "metadata": {},
   "outputs": [],
   "source": []
  }
 ],
 "metadata": {
  "kernelspec": {
   "display_name": "Python 3.11.2 64-bit",
   "language": "python",
   "name": "python3"
  },
  "language_info": {
   "codemirror_mode": {
    "name": "ipython",
    "version": 3
   },
   "file_extension": ".py",
   "mimetype": "text/x-python",
   "name": "python",
   "nbconvert_exporter": "python",
   "pygments_lexer": "ipython3",
   "version": "3.11.2"
  },
  "orig_nbformat": 4,
  "vscode": {
   "interpreter": {
    "hash": "b0fa6594d8f4cbf19f97940f81e996739fb7646882a419484c72d19e05852a7e"
   }
  }
 },
 "nbformat": 4,
 "nbformat_minor": 2
}
