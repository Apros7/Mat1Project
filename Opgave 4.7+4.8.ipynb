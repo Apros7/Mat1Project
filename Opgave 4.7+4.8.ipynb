{
 "cells": [
  {
   "cell_type": "code",
   "execution_count": 1,
   "metadata": {},
   "outputs": [],
   "source": [
    "from sympy import *\n",
    "from dtumathtools import dtuplot, dtutools\n",
    "init_printing()"
   ]
  },
  {
   "cell_type": "code",
   "execution_count": 2,
   "metadata": {},
   "outputs": [],
   "source": [
    "from sympy import *\n",
    "from dtumathtools import *\n",
    "#from august import *\n",
    "init_printing()\n",
    "\n",
    "x, y, z, a, b, c = symbols('x y z a b c')\n",
    "k, w = symbols('k w', real=True)\n",
    "f, m, t, delta = symbols('f m t delta', real=True, positive=True)\n",
    "xi = symbols('xi', real=True)\n",
    "k_s = symbols('k_s', real=True, positive=True)"
   ]
  },
  {
   "cell_type": "code",
   "execution_count": 3,
   "metadata": {},
   "outputs": [
    {
     "data": {
      "text/latex": [
       "$\\displaystyle \\left( \\left[\\begin{matrix}\\frac{I_{t}}{l_{2}^{2}} & 0\\\\0 & m_{2}\\end{matrix}\\right], \\  \\left[\\begin{matrix}k_{2} + \\frac{- g l_{g} m_{r} + k_{1} l_{1}^{2} + k_{c}}{l_{2}^{2}} & - k_{2}\\\\- k_{2} & k_{2} + k_{b2}\\end{matrix}\\right], \\  \\left[\\begin{matrix}\\frac{\\omega^{2} u \\sin{\\left(\\omega t + \\phi_{u} \\right)}}{l_{2}}\\\\0\\end{matrix}\\right], \\  \\left[\\begin{matrix}y_{1}{\\left(t \\right)}\\\\y_{2}{\\left(t \\right)}\\end{matrix}\\right], \\  \\left[\\begin{matrix}z_{1}{\\left(t \\right)}\\\\z_{2}{\\left(t \\right)}\\end{matrix}\\right]\\right)$"
      ],
      "text/plain": [
       "⎛⎡ Iₜ    ⎤  ⎡                      2                   ⎤  ⎡ 2                ⎤\n",
       "⎜⎢───  0 ⎥  ⎢     -g⋅l_g⋅mᵣ + k₁⋅l₁  + k_c             ⎥  ⎢ω ⋅u⋅sin(ω⋅t + φᵤ)⎥\n",
       "⎜⎢  2    ⎥  ⎢k₂ + ────────────────────────      -k₂    ⎥  ⎢──────────────────⎥\n",
       "⎜⎢l₂     ⎥, ⎢                 2                        ⎥, ⎢        l₂        ⎥\n",
       "⎜⎢       ⎥  ⎢               l₂                         ⎥  ⎢                  ⎥\n",
       "⎜⎣ 0   m₂⎦  ⎢                                          ⎥  ⎣        0         ⎦\n",
       "⎝           ⎣             -k₂               k₂ + k_{b2}⎦                      \n",
       "\n",
       "                  ⎞\n",
       "                  ⎟\n",
       "  ⎡y₁(t)⎤  ⎡z₁(t)⎤⎟\n",
       ", ⎢     ⎥, ⎢     ⎥⎟\n",
       "  ⎣y₂(t)⎦  ⎣z₂(t)⎦⎟\n",
       "                  ⎟\n",
       "                  ⎠"
      ]
     },
     "execution_count": 3,
     "metadata": {},
     "output_type": "execute_result"
    }
   ],
   "source": [
    "k1, k2, kc, kb2, l1, l2, lg, it = symbols('k_1 k_2 k_c k_{b2} l_1 l_2 l_g I_t', real=True, positive=True)\n",
    "m2, mr, g, u, w, t, phiu = symbols('m_2 m_r g u omega t phi_u', real=True, positive=True)\n",
    "ffhm = symbols('F_FHM')\n",
    "kk3 = l2**(-2)*(kc+l1**2*k1-lg*mr*g)\n",
    "\n",
    "y1, y2 = Function('y_1')(t), Function('y_2')(t)\n",
    "z1, z2 = Function('z_1')(t), Function('z_2')(t)\n",
    "\n",
    "M = Matrix([[l2**(-2)*it, 0], [0, m2]])\n",
    "K = Matrix([[k2+l2**(-2)*(kc+l1**2*k1-lg*mr*g), -k2], [-k2, k2+kb2]])\n",
    "ft = Matrix([l2**(-1)*u*w**2*sin(w*t+phiu), 0])\n",
    "yt = Matrix([y1, y2])\n",
    "zt = Matrix([z1, z2])\n",
    "\n",
    "M, K, ft, yt, zt"
   ]
  },
  {
   "cell_type": "code",
   "execution_count": 4,
   "metadata": {},
   "outputs": [],
   "source": [
    "k2, k3, k4, k5 = symbols('k_2 k_3 k_4 k_5')\n",
    "f1, f2 = symbols('f_1 f_2', real=True)\n",
    "K = Matrix([[k2 + k3, -k2], [-k2, k2 + k4]])\n",
    "FFHM = Matrix([[0, 0],[0, k5]])\n",
    "f = Matrix([f1, f2])\n",
    "f_re = re(f * (cos(w*t) + I*sin(w*t)))\n",
    "f_sol = solve([Eq(f_re[0], ft[0]), Eq(f_re[1], ft[1])], [f1, f2])\n",
    "f_til = f.subs(f_sol)\n",
    "K_til = K + FFHM\n",
    "diff_eq = Eq(Add(MatMul(M,yt), MatMul(K_til,yt), evaluate=False), f_til)\n",
    "eta, ks, Fs0, hp, cs = symbols('eta k_s F_{0s} h_p c_s', real=True, positive=True)\n",
    "kk = ks*(1 + eta*I) + Fs0 / hp * (1 + cs)\n",
    "la = symbols('lambda')\n",
    "A = - M.inv() * K_til\n",
    "A_func = A.subs({k3: kk3, k4: kb2, k5: 2*kk})\n",
    "A = A_func"
   ]
  },
  {
   "cell_type": "code",
   "execution_count": 5,
   "metadata": {},
   "outputs": [
    {
     "data": {
      "text/latex": [
       "$\\displaystyle \\left[\\begin{matrix}-4296.14915128205 & 3569.29775641026\\\\1141.84397163121 & - 146.572104018913 F_{0s} - 1.41843971631206 k_{s} \\left(i \\eta + 1\\right) - 1652.48226950355\\end{matrix}\\right]$"
      ],
      "text/plain": [
       "⎡-4296.14915128205                               3569.29775641026             \n",
       "⎢                                                                             \n",
       "⎣1141.84397163121   -146.572104018913⋅F_{0s} - 1.41843971631206⋅kₛ⋅(ⅈ⋅η + 1) -\n",
       "\n",
       "                 ⎤\n",
       "                 ⎥\n",
       " 1652.48226950355⎦"
      ]
     },
     "execution_count": 5,
     "metadata": {},
     "output_type": "execute_result"
    }
   ],
   "source": [
    "mydict = {g:9.81,kc:0.7,u:14.8*10**(-6),\n",
    "          phiu:7,mr:0.616,m2:1.410,it:31.2*10**(-3),\n",
    "          lg:0.188,l1:0.118,l2:0.263,\n",
    "          kb2:0.72*10**(3),k1:1.66*10**3,k2:1.61*10**3,\n",
    "          hp:12*10**(-3), cs:0.24}\n",
    "v30 = {ks:0.83*1000, eta:33/100, Fs0:5.2}\n",
    "v50 = {ks:0.995*1000, eta:21/100, Fs0:8}\n",
    "v70 = {ks:1.37*1000, eta:10.5/100, Fs0:9.65}\n",
    "\n",
    "A = A.subs(mydict)  \n",
    "A"
   ]
  },
  {
   "cell_type": "code",
   "execution_count": 6,
   "metadata": {},
   "outputs": [],
   "source": [
    "A30 = A.subs(v30)\n",
    "\n",
    "A50 = A.subs(v50)\n",
    "\n",
    "A70 = A.subs(v70)"
   ]
  },
  {
   "cell_type": "code",
   "execution_count": 7,
   "metadata": {},
   "outputs": [
    {
     "data": {
      "text/latex": [
       "$\\displaystyle \\left[\\begin{matrix}-4296.14915128205 & 3569.29775641026\\\\1141.84397163121 & -4236.40661938534 - 296.382978723404 i\\end{matrix}\\right]$"
      ],
      "text/plain": [
       "⎡-4296.14915128205             3569.29775641026           ⎤\n",
       "⎢                                                         ⎥\n",
       "⎣1141.84397163121   -4236.40661938534 - 296.382978723404⋅ⅈ⎦"
      ]
     },
     "execution_count": 7,
     "metadata": {},
     "output_type": "execute_result"
    }
   ],
   "source": [
    "A50"
   ]
  },
  {
   "cell_type": "code",
   "execution_count": 8,
   "metadata": {},
   "outputs": [
    {
     "data": {
      "text/latex": [
       "$\\displaystyle \\left[ \\left( -5984.38395798203 - 160.73324670266 i, \\  1, \\  \\left[ \\left[\\begin{matrix}0.897639374185708 - 0.100367320598613 i\\\\-0.429092360791915 + 0.00704987782641258 i\\end{matrix}\\right]\\right]\\right), \\  \\left( -1903.72736824092 - 227.777391595212 i, \\  1, \\  \\left[ \\left[\\begin{matrix}0.960371268948825 + 0.123386854315632 i\\\\0.651589763083318 + 0.021416687712368 i\\end{matrix}\\right]\\right]\\right)\\right]$"
      ],
      "text/plain": [
       "⎡⎛                                          ⎡⎡ 0.897639374185708 - 0.100367320\n",
       "⎢⎜-5984.38395798203 - 160.73324670266⋅ⅈ, 1, ⎢⎢                                \n",
       "⎣⎝                                          ⎣⎣-0.429092360791915 + 0.007049877\n",
       "\n",
       "598613⋅ⅈ  ⎤⎤⎞  ⎛                                           ⎡⎡0.960371268948825\n",
       "          ⎥⎥⎟, ⎜-1903.72736824092 - 227.777391595212⋅ⅈ, 1, ⎢⎢                 \n",
       "82641258⋅ⅈ⎦⎦⎠  ⎝                                           ⎣⎣0.651589763083318\n",
       "\n",
       " + 0.123386854315632⋅ⅈ⎤⎤⎞⎤\n",
       "                      ⎥⎥⎟⎥\n",
       " + 0.021416687712368⋅ⅈ⎦⎦⎠⎦"
      ]
     },
     "execution_count": 8,
     "metadata": {},
     "output_type": "execute_result"
    }
   ],
   "source": [
    "A30.eigenvects()"
   ]
  },
  {
   "cell_type": "code",
   "execution_count": 9,
   "metadata": {},
   "outputs": [
    {
     "name": "stdout",
     "output_type": "stream",
     "text": [
      "[-0.0134257582800007, -0.0595058371462396, 0.0134257582800007, 0.0595058371462396]\n"
     ]
    },
    {
     "data": {
      "image/png": "[encoded data removed]",
      "text/latex": [
       "$\\displaystyle \\left[ 1.0387878108184 - 77.3657743326979 i, \\  2.60558490738448 - 43.7094548233046 i, \\  -1.0387878108184 + 77.3657743326979 i, \\  -2.60558490738448 + 43.7094548233046 i\\right]$"
      ],
      "text/plain": [
       "[1.0387878108184 - 77.3657743326979⋅ⅈ, 2.60558490738448 - 43.7094548233046⋅ⅈ, \n",
       "-1.0387878108184 + 77.3657743326979⋅ⅈ, -2.60558490738448 + 43.7094548233046⋅ⅈ]"
      ]
     },
     "execution_count": 9,
     "metadata": {},
     "output_type": "execute_result"
    }
   ],
   "source": [
    "A50.eigenvects()\n",
    "vals = [tup[0] for tup in A30.eigenvects()]\n",
    "values = [sqrt(val).evalf() for val in vals] + [-sqrt(val).evalf() for val in vals]\n",
    "print([-re(val)/abs(val) for val in values])\n",
    "values\n"
   ]
  },
  {
   "cell_type": "code",
   "execution_count": 10,
   "metadata": {},
   "outputs": [
    {
     "data": {
      "text/latex": [
       "$\\displaystyle \\left[ \\left[ \\left[\\begin{matrix}0.897639374185708 - 0.100367320598613 i\\\\-0.429092360791915 + 0.00704987782641258 i\\end{matrix}\\right]\\right], \\  \\left[ \\left[\\begin{matrix}0.960371268948825 + 0.123386854315632 i\\\\0.651589763083318 + 0.021416687712368 i\\end{matrix}\\right]\\right]\\right]$"
      ],
      "text/plain": [
       "⎡⎡⎡ 0.897639374185708 - 0.100367320598613⋅ⅈ  ⎤⎤  ⎡⎡0.960371268948825 + 0.12338\n",
       "⎢⎢⎢                                          ⎥⎥, ⎢⎢                           \n",
       "⎣⎣⎣-0.429092360791915 + 0.00704987782641258⋅ⅈ⎦⎦  ⎣⎣0.651589763083318 + 0.02141\n",
       "\n",
       "6854315632⋅ⅈ⎤⎤⎤\n",
       "            ⎥⎥⎥\n",
       "6687712368⋅ⅈ⎦⎦⎦"
      ]
     },
     "execution_count": 10,
     "metadata": {},
     "output_type": "execute_result"
    }
   ],
   "source": [
    "[x[2] for x in A30.eigenvects()]"
   ]
  },
  {
   "cell_type": "code",
   "execution_count": 11,
   "metadata": {},
   "outputs": [],
   "source": [
    "def find_faktorer(A):\n",
    "    løsninger = [x for x in (list(A.eigenvals().keys()))[::-1]]\n",
    "    values = [sqrt(val) for val in løsninger] + [-sqrt(val) for val in løsninger]\n",
    "    values = [val for val in values if re(val)/abs(val) > 0]\n",
    "    xi = list(set([-re(lamb)/abs(lamb) for lamb in values]))\n",
    "    omega_n = list(set([abs(lamb) for lamb in values]))\n",
    "    eigenvects = [x[2] for x in A.eigenvects()]\n",
    "    arguments = [arg(value) for vector in eigenvects for value in vector[0]]\n",
    "    omega_d = list(set([abs(im(lamb)) for lamb in values]))\n",
    "    return values, xi, omega_n, arguments, omega_d\n",
    "\n",
    "values30, xi30, omega_n30, arguments30, omega_d30 = find_faktorer(A30)\n",
    "values50, xi50, omega_n50, arguments50, omega_d50 = find_faktorer(A50)\n",
    "values70, xi70, omega_n70, arguments70, omega_d70 = find_faktorer(A70)"
   ]
  },
  {
   "cell_type": "code",
   "execution_count": 12,
   "metadata": {},
   "outputs": [
    {
     "data": {
      "image/png": "[encoded data removed]",
      "text/latex": [
       "$\\displaystyle \\left[ -0.111350022982107, \\  -0.0164282663441847 + \\pi, \\  0.127778289326291, \\  0.0328565326883695\\right]$"
      ],
      "text/plain": [
       "[-0.111350022982107, -0.0164282663441847 + π, 0.127778289326291, 0.03285653268\n",
       "83695]"
      ]
     },
     "execution_count": 12,
     "metadata": {},
     "output_type": "execute_result"
    }
   ],
   "source": [
    "arguments30"
   ]
  },
  {
   "cell_type": "code",
   "execution_count": 13,
   "metadata": {},
   "outputs": [
    {
     "data": {
      "image/png": "[encoded data removed]",
      "text/plain": [
       "<Figure size 640x480 with 1 Axes>"
      ]
     },
     "metadata": {},
     "output_type": "display_data"
    },
    {
     "data": {
      "image/png": "[encoded data removed]",
      "text/plain": [
       "<Figure size 640x480 with 1 Axes>"
      ]
     },
     "metadata": {},
     "output_type": "display_data"
    },
    {
     "data": {
      "text/plain": [
       "<spb.backends.matplotlib.MatplotlibBackend at 0x11aee5450>"
      ]
     },
     "execution_count": 13,
     "metadata": {},
     "output_type": "execute_result"
    }
   ],
   "source": [
    "def make_points(number, values):\n",
    "    points = []\n",
    "    for i in range(len(values)):\n",
    "        points.append((number, abs(values[i])))\n",
    "    return points\n",
    "\n",
    "valuePoints30 = make_points(30, values30)\n",
    "valuePoints50 = make_points(50, values50)\n",
    "valuePoints70 = make_points(70, values70)\n",
    "\n",
    "xiPoints30 = make_points(30, xi30)\n",
    "xiPoints50 = make_points(50, xi50) \n",
    "xiPoints70 = make_points(70, xi70)\n",
    "\n",
    "valuePoints = [valuePoints30, valuePoints50, valuePoints70]\n",
    "# omskrivning til frekvens ved at dividere med 2*pi\n",
    "points = [[val[0], val[1]/(2*pi)] for lst in valuePoints for val in lst]\n",
    "x = [val[0] for val in points]\n",
    "y = [val[1] for val in points]\n",
    "\n",
    "dtuplot.scatter(x,y, title=\"Udæmpede egensvingningsfrekvenser $\\omega_n$\")\n",
    "\n",
    "xiPoints = [xiPoints30, xiPoints50, xiPoints70]\n",
    "points = [[val[0], val[1]] for lst in xiPoints for val in lst]\n",
    "x = [val[0] for val in points]\n",
    "y = [val[1] for val in points]\n",
    "\n",
    "dtuplot.scatter(x,y, title=f\"Dæmpningsfaktor $\\\\xi$\")\n",
    "\n",
    "# Udæmpede: vi vil gerne have den temp hvor vi lægger længst fra begge punkter"
   ]
  },
  {
   "cell_type": "markdown",
   "metadata": {},
   "source": [
    "---"
   ]
  },
  {
   "cell_type": "markdown",
   "metadata": {},
   "source": [
    "## 6, 7, 8 er 30 grader\n",
    "## 9 ved 50 grader \n",
    "### Skal være længst væk fra egensvingningsfrekvenserne"
   ]
  },
  {
   "cell_type": "markdown",
   "metadata": {},
   "source": [
    "---"
   ]
  },
  {
   "cell_type": "code",
   "execution_count": 14,
   "metadata": {},
   "outputs": [
    {
     "data": {
      "image/png": "[encoded data removed]",
      "text/latex": [
       "$\\displaystyle 1.58341933455674 - 47.488965505869 i$"
      ],
      "text/plain": [
       "1.58341933455674 - 47.488965505869⋅ⅈ"
      ]
     },
     "execution_count": 14,
     "metadata": {},
     "output_type": "execute_result"
    }
   ],
   "source": [
    "values50[0].evalf()"
   ]
  },
  {
   "cell_type": "code",
   "execution_count": 15,
   "metadata": {},
   "outputs": [
    {
     "data": {
      "text/latex": [
       "$\\displaystyle \\left[\\begin{matrix}A_{11} C_{1} e^{- \\omega_{n} t \\xi} \\cos{\\left(\\omega_{d} t + \\phi_{11} + \\phi_{c} \\right)}\\\\A_{12} C_{1} e^{- \\omega_{n} t \\xi} \\cos{\\left(\\omega_{d} t + \\phi_{12} + \\phi_{c} \\right)}\\end{matrix}\\right]$"
      ],
      "text/plain": [
       "⎡        -ωₙ⋅t⋅ξ                       ⎤\n",
       "⎢A₁₁⋅C₁⋅ℯ       ⋅cos(ω_d⋅t + φ₁₁ + φ_c)⎥\n",
       "⎢                                      ⎥\n",
       "⎢        -ωₙ⋅t⋅ξ                       ⎥\n",
       "⎣A₁₂⋅C₁⋅ℯ       ⋅cos(ω_d⋅t + φ₁₂ + φ_c)⎦"
      ]
     },
     "execution_count": 15,
     "metadata": {},
     "output_type": "execute_result"
    }
   ],
   "source": [
    "C_1, xi, omega_n, t, A_11, A_12, omega_d, phi_11, phi_12, phi_c = symbols(\"C_1, xi, omega_n, t, A_11, A_12, omega_d, phi_11, phi_12, phi_c\")\n",
    "y = C_1*exp(-xi*omega_n*t)*Matrix([A_11*cos(omega_d*t+phi_11+phi_c), A_12*cos(omega_d*t+phi_12+phi_c)])\n",
    "y1 = y\n",
    "y2 = y\n",
    "y1"
   ]
  },
  {
   "cell_type": "code",
   "execution_count": 16,
   "metadata": {},
   "outputs": [
    {
     "data": {
      "text/latex": [
       "$\\displaystyle \\left[\\begin{matrix}- 8592.2983025641 e^{4.60413013633167 t} \\cos{\\left(43.7094548233046 t - 0.111350022982107 \\right)}\\\\- 7138.59551282051 e^{4.60413013633167 t} \\cos{\\left(43.7094548233046 t - 0.0164282663441847 \\right)}\\end{matrix}\\right]$"
      ],
      "text/plain": [
       "⎡                   4.60413013633167⋅t                                        \n",
       "⎢ -8592.2983025641⋅ℯ                  ⋅cos(43.7094548233046⋅t - 0.111350022982\n",
       "⎢                                                                             \n",
       "⎢                   4.60413013633167⋅t                                        \n",
       "⎣-7138.59551282051⋅ℯ                  ⋅cos(43.7094548233046⋅t - 0.016428266344\n",
       "\n",
       "     ⎤\n",
       "107) ⎥\n",
       "     ⎥\n",
       "     ⎥\n",
       "1847)⎦"
      ]
     },
     "execution_count": 16,
     "metadata": {},
     "output_type": "execute_result"
    }
   ],
   "source": [
    "c = 1\n",
    "C_1_bestemt, phi_c1_bestemt = abs(c), arg(c)\n",
    "y1 = y1.subs({\n",
    "    C_1:C_1_bestemt,\n",
    "    phi_c:phi_c1_bestemt,\n",
    "    xi: xi30[0],\n",
    "    omega_n: omega_n30[0],\n",
    "    A_11: A30[0],\n",
    "    A_12: A30[1],\n",
    "    omega_n: omega_n30[0],\n",
    "    phi_11: arguments30[0],\n",
    "    phi_12: arguments30[1],\n",
    "    omega_d: omega_d30[0],\n",
    "})\n",
    "\n",
    "y2 = y1.subs({\n",
    "    C_1:C_1_bestemt,\n",
    "    phi_c:phi_c1_bestemt,\n",
    "    xi: xi30[1],\n",
    "    omega_n: omega_n30[1],\n",
    "    A_11: A30[2],\n",
    "    A_12: A30[3],\n",
    "    omega_n: omega_n30[1],\n",
    "    phi_11: arguments30[2],\n",
    "    phi_12: arguments30[3],\n",
    "    omega_d: omega_d30[1],\n",
    "})\n",
    "\n",
    "y_hom = y1 + y2\n",
    "y_hom"
   ]
  },
  {
   "cell_type": "markdown",
   "metadata": {},
   "source": [
    "---\n",
    "### 4.8"
   ]
  },
  {
   "cell_type": "code",
   "execution_count": 17,
   "metadata": {},
   "outputs": [
    {
     "data": {
      "text/latex": [
       "$\\displaystyle \\left[ \\left[\\begin{matrix}0.960371268948825 + 0.123386854315632 i\\\\0.651589763083318 + 0.021416687712368 i\\end{matrix}\\right], \\  \\left[\\begin{matrix}0.897639374185708 - 0.100367320598613 i\\\\-0.429092360791915 + 0.00704987782641258 i\\end{matrix}\\right]\\right]$"
      ],
      "text/plain": [
       "⎡⎡0.960371268948825 + 0.123386854315632⋅ⅈ⎤  ⎡ 0.897639374185708 - 0.1003673205\n",
       "⎢⎢                                       ⎥, ⎢                                 \n",
       "⎣⎣0.651589763083318 + 0.021416687712368⋅ⅈ⎦  ⎣-0.429092360791915 + 0.0070498778\n",
       "\n",
       "98613⋅ⅈ  ⎤⎤\n",
       "         ⎥⎥\n",
       "2641258⋅ⅈ⎦⎦"
      ]
     },
     "metadata": {},
     "output_type": "display_data"
    },
    {
     "data": {
      "text/latex": [
       "$\\displaystyle \\left[ \\left[\\begin{matrix}1.01173470080571 + 0.0766810565341711 i\\\\0.582457964678178 + 0.00127184096751033 i\\end{matrix}\\right], \\  \\left[\\begin{matrix}0.871092653682049 - 0.0650651305455787 i\\\\-0.48678931277084 + 0.000531469985891853 i\\end{matrix}\\right]\\right]$"
      ],
      "text/plain": [
       "⎡⎡ 1.01173470080571 + 0.0766810565341711⋅ⅈ ⎤  ⎡ 0.871092653682049 - 0.06506513\n",
       "⎢⎢                                         ⎥, ⎢                               \n",
       "⎣⎣0.582457964678178 + 0.00127184096751033⋅ⅈ⎦  ⎣-0.48678931277084 + 0.000531469\n",
       "\n",
       "05455787⋅ⅈ ⎤⎤\n",
       "           ⎥⎥\n",
       "985891853⋅ⅈ⎦⎦"
      ]
     },
     "metadata": {},
     "output_type": "display_data"
    },
    {
     "data": {
      "text/latex": [
       "$\\displaystyle \\left[ \\left[\\begin{matrix}-0.96291415012183 + 0.0563642651404726 i\\\\0.650618057523775 - 0.00565165905736857 i\\end{matrix}\\right], \\  \\left[\\begin{matrix}0.902418894286847 + 0.0449613561365392 i\\\\0.428507427810146\\end{matrix}\\right]\\right]$"
      ],
      "text/plain": [
       "⎡⎡-0.96291415012183 + 0.0563642651404726⋅ⅈ ⎤  ⎡0.902418894286847 + 0.044961356\n",
       "⎢⎢                                         ⎥, ⎢                               \n",
       "⎣⎣0.650618057523775 - 0.00565165905736857⋅ⅈ⎦  ⎣           0.428507427810146   \n",
       "\n",
       "1365392⋅ⅈ⎤⎤\n",
       "         ⎥⎥\n",
       "         ⎦⎦"
      ]
     },
     "metadata": {},
     "output_type": "display_data"
    }
   ],
   "source": [
    "def eigenvects(A):\n",
    "    return [x[2][0] for x in A.eigenvects()[::-1]]\n",
    "\n",
    "eigenvects30 = eigenvects(A30)\n",
    "eigenvects50 = eigenvects(A50)\n",
    "eigenvects70 = eigenvects(A70)\n",
    "\n",
    "display(eigenvects30)\n",
    "display(eigenvects50)\n",
    "display(eigenvects70)"
   ]
  },
  {
   "cell_type": "code",
   "execution_count": 18,
   "metadata": {},
   "outputs": [
    {
     "data": {
      "image/png": "[encoded data removed]",
      "text/latex": [
       "$\\displaystyle \\left( -1.20363988786489, \\  \\frac{1141.84397163121}{- 146.572104018913 F_{0s} - 1.41843971631206 k_{s} \\left(i \\eta + 1\\right) - 1652.48226950355}\\right)$"
      ],
      "text/plain": [
       "⎛                                                 1141.84397163121            \n",
       "⎜-1.20363988786489, ──────────────────────────────────────────────────────────\n",
       "⎝                   -146.572104018913⋅F_{0s} - 1.41843971631206⋅kₛ⋅(ⅈ⋅η + 1) -\n",
       "\n",
       "                 ⎞\n",
       "─────────────────⎟\n",
       " 1652.48226950355⎠"
      ]
     },
     "execution_count": 18,
     "metadata": {},
     "output_type": "execute_result"
    }
   ],
   "source": [
    "A[0]/A[1], A[2]/A[3]"
   ]
  },
  {
   "cell_type": "code",
   "execution_count": 19,
   "metadata": {},
   "outputs": [
    {
     "data": {
      "image/png": "[encoded data removed]",
      "text/latex": [
       "$\\displaystyle \\left[ 1.48520211422433, \\  1.74198667491159, \\  1.48247651982633\\right]$"
      ],
      "text/plain": [
       "[1.48520211422433, 1.74198667491159, 1.48247651982633]"
      ]
     },
     "metadata": {},
     "output_type": "display_data"
    },
    {
     "data": {
      "image/png": "[encoded data removed]",
      "text/latex": [
       "$\\displaystyle \\left[ 2.10470123953586, \\  1.79444927782118, \\  2.10857081981672\\right]$"
      ],
      "text/plain": [
       "[2.10470123953586, 1.79444927782118, 2.10857081981672]"
      ]
     },
     "metadata": {},
     "output_type": "display_data"
    },
    {
     "data": {
      "image/png": "[encoded data removed]",
      "text/plain": [
       "<Figure size 640x480 with 1 Axes>"
      ]
     },
     "metadata": {},
     "output_type": "display_data"
    }
   ],
   "source": [
    "import matplotlib.pyplot as plt\n",
    "import importlib\n",
    "importlib.reload(plt)\n",
    "\n",
    "def get_divs(A):\n",
    "    return A[0][0]/A[0][1], A[1][0]/A[1][1]\n",
    "\n",
    "div_A11_A12 = [abs(get_divs(x)[0]) for x in [eigenvects30, eigenvects50, eigenvects70]]\n",
    "div_A21_A22 = [abs(get_divs(x)[1]) for x in [eigenvects30, eigenvects50, eigenvects70]]\n",
    "\n",
    "display(div_A11_A12)\n",
    "display(div_A21_A22)\n",
    "\n",
    "x = [30, 50, 70]\n",
    "plt.plot(x, div_A11_A12, marker='o', linestyle='-', label = \"$\\\\frac{A_{11}}{A_{12}}$\")\n",
    "plt.plot(x, div_A21_A22, marker='o', linestyle='-', label = \"$\\\\frac{A_{21}}{A_{22}}$\")\n",
    "plt.grid(True)\n",
    "plt.legend()\n",
    "plt.ylabel(\"Divisor\")\n",
    "plt.xlabel(\"Temperatur (°C)\")\n",
    "plt.title(\"Plot af egenvektor forhold\")\n",
    "plt.show()\n"
   ]
  },
  {
   "cell_type": "markdown",
   "metadata": {},
   "source": [
    "70 grader for blå (da faktoren er mindst - det vil vi gerne, da faktoren skal være så lille som muligt, så der er så få svingninger i akslen)\n",
    "\n",
    "30 grader for orange\n",
    "\n",
    "Dette er forbedholdt, at vi optimerer for så små svingninger i akslen som muligt"
   ]
  },
  {
   "cell_type": "code",
   "execution_count": null,
   "metadata": {},
   "outputs": [],
   "source": []
  }
 ],
 "metadata": {
  "kernelspec": {
   "display_name": "Python 3.11.2 64-bit",
   "language": "python",
   "name": "python3"
  },
  "language_info": {
   "codemirror_mode": {
    "name": "ipython",
    "version": 3
   },
   "file_extension": ".py",
   "mimetype": "text/x-python",
   "name": "python",
   "nbconvert_exporter": "python",
   "pygments_lexer": "ipython3",
   "version": "3.11.2"
  },
  "orig_nbformat": 4,
  "vscode": {
   "interpreter": {
    "hash": "b0fa6594d8f4cbf19f97940f81e996739fb7646882a419484c72d19e05852a7e"
   }
  }
 },
 "nbformat": 4,
 "nbformat_minor": 2
}
